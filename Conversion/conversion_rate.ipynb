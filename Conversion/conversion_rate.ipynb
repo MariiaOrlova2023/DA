{
 "cells": [
  {
   "cell_type": "markdown",
   "id": "98915ba0-2663-4bab-9c4f-8fdc4bf2f562",
   "metadata": {},
   "source": [
    "## Описание проекта\n"
   ]
  },
  {
   "cell_type": "markdown",
   "id": "d210c60f-ab19-4b02-bca2-4fbaa2d6bfba",
   "metadata": {},
   "source": [
    "**Заказчик:** мобильное приложение по продаже продуктов питания\n",
    "\n",
    "**Задачи:**\n",
    "\n",
    "- Необходимо изучить воронку продаж. Узнать, как пользователи доходят до покупки. Сколько пользователей доходят до покупки, а сколько — «застревают» на предыдущих шагах. На каких именно.\n",
    "\n",
    "- Необходимо исследовать результаты A/A/B-теста. Дизайнеры захотели поменять шрифты в приложении. Решение должно быть принято по результатам A/A/B-теста. Пользователей разбили на 3 группы: 2 контрольные со старыми шрифтами и одну экспериментальную — с новыми. Необхоидмо выяснить, какой шрифт лучше.\n",
    "\n",
    "\n",
    "Причины создани двух А-групп вместо одной: если две контрольные группы окажутся равны, можно быть уверенными в точности проведенного тестирования. Если же между значениями A и A есть существенные различия, это помогает обнаружить факторы, которые привели к искажению результатов. Сравнение контрольных групп также помогает понять, сколько времени и данных потребуется для дальнейших тестов.\n"
   ]
  },
  {
   "cell_type": "markdown",
   "id": "d88fc314-12c0-478d-83ef-b9fa293ed472",
   "metadata": {},
   "source": [
    "## Загрузка библиотек и данных"
   ]
  },
  {
   "cell_type": "code",
   "execution_count": 1,
   "id": "5ecf25ee-32db-4b6a-8e67-c688483c2532",
   "metadata": {},
   "outputs": [],
   "source": [
    "import warnings \n",
    "warnings.filterwarnings(\"ignore\")\n",
    "\n",
    "import numpy as np\n",
    "import pandas as pd\n",
    "import math as mth\n",
    "import matplotlib.pyplot as plt\n",
    "import re\n",
    "import seaborn as sns\n",
    "from datetime import datetime\n",
    "from scipy import stats as st"
   ]
  },
  {
   "cell_type": "code",
   "execution_count": 2,
   "id": "44c7492f-421c-4075-9981-e3ef00a838bf",
   "metadata": {},
   "outputs": [
    {
     "data": {
      "text/html": [
       "<div>\n",
       "<style scoped>\n",
       "    .dataframe tbody tr th:only-of-type {\n",
       "        vertical-align: middle;\n",
       "    }\n",
       "\n",
       "    .dataframe tbody tr th {\n",
       "        vertical-align: top;\n",
       "    }\n",
       "\n",
       "    .dataframe thead th {\n",
       "        text-align: right;\n",
       "    }\n",
       "</style>\n",
       "<table border=\"1\" class=\"dataframe\">\n",
       "  <thead>\n",
       "    <tr style=\"text-align: right;\">\n",
       "      <th></th>\n",
       "      <th>EventName</th>\n",
       "      <th>DeviceIDHash</th>\n",
       "      <th>EventTimestamp</th>\n",
       "      <th>ExpId</th>\n",
       "    </tr>\n",
       "  </thead>\n",
       "  <tbody>\n",
       "    <tr>\n",
       "      <th>0</th>\n",
       "      <td>MainScreenAppear</td>\n",
       "      <td>4575588528974610257</td>\n",
       "      <td>1564029816</td>\n",
       "      <td>246</td>\n",
       "    </tr>\n",
       "    <tr>\n",
       "      <th>1</th>\n",
       "      <td>MainScreenAppear</td>\n",
       "      <td>7416695313311560658</td>\n",
       "      <td>1564053102</td>\n",
       "      <td>246</td>\n",
       "    </tr>\n",
       "    <tr>\n",
       "      <th>2</th>\n",
       "      <td>PaymentScreenSuccessful</td>\n",
       "      <td>3518123091307005509</td>\n",
       "      <td>1564054127</td>\n",
       "      <td>248</td>\n",
       "    </tr>\n",
       "    <tr>\n",
       "      <th>3</th>\n",
       "      <td>CartScreenAppear</td>\n",
       "      <td>3518123091307005509</td>\n",
       "      <td>1564054127</td>\n",
       "      <td>248</td>\n",
       "    </tr>\n",
       "    <tr>\n",
       "      <th>4</th>\n",
       "      <td>PaymentScreenSuccessful</td>\n",
       "      <td>6217807653094995999</td>\n",
       "      <td>1564055322</td>\n",
       "      <td>248</td>\n",
       "    </tr>\n",
       "  </tbody>\n",
       "</table>\n",
       "</div>"
      ],
      "text/plain": [
       "                 EventName         DeviceIDHash  EventTimestamp  ExpId\n",
       "0         MainScreenAppear  4575588528974610257      1564029816    246\n",
       "1         MainScreenAppear  7416695313311560658      1564053102    246\n",
       "2  PaymentScreenSuccessful  3518123091307005509      1564054127    248\n",
       "3         CartScreenAppear  3518123091307005509      1564054127    248\n",
       "4  PaymentScreenSuccessful  6217807653094995999      1564055322    248"
      ]
     },
     "execution_count": 2,
     "metadata": {},
     "output_type": "execute_result"
    }
   ],
   "source": [
    "try:\n",
    "     logs = pd.read_csv(r\"D:\\Проекты Яндекс.Практикум\\DA\\03 Сборный проект 2\\logs_exp.csv\", sep='\\t' )\n",
    "except: \n",
    "     logs = pd.read_csv('/datasets/logs_exp.csv', sep='\\t')\n",
    "        \n",
    "logs.head()        "
   ]
  },
  {
   "cell_type": "markdown",
   "id": "956e7ba3-6aaf-4b24-a939-084940d0a8a1",
   "metadata": {},
   "source": [
    "Каждая запись в логе — это действие пользователя, или событие. \n",
    "- EventName — название события;\n",
    "- DeviceIDHash — уникальный идентификатор пользователя;\n",
    "- EventTimestamp — время события;\n",
    "- ExpId — номер эксперимента: 246 и 247 — контрольные группы, а 248 — экспериментальная."
   ]
  },
  {
   "cell_type": "markdown",
   "id": "d5c09754-1926-4ac6-a1ec-da37f244c689",
   "metadata": {},
   "source": [
    "## Шаг 2. Подготовка данных"
   ]
  },
  {
   "cell_type": "markdown",
   "id": "dd7b1e3e-c03d-46d9-9bda-c8775400e80e",
   "metadata": {},
   "source": [
    "### Замена названий столбцов на более удобные:"
   ]
  },
  {
   "cell_type": "code",
   "execution_count": 3,
   "id": "03f9f458-909e-42d6-8fb3-b61ac480f5d5",
   "metadata": {},
   "outputs": [
    {
     "data": {
      "text/html": [
       "<div>\n",
       "<style scoped>\n",
       "    .dataframe tbody tr th:only-of-type {\n",
       "        vertical-align: middle;\n",
       "    }\n",
       "\n",
       "    .dataframe tbody tr th {\n",
       "        vertical-align: top;\n",
       "    }\n",
       "\n",
       "    .dataframe thead th {\n",
       "        text-align: right;\n",
       "    }\n",
       "</style>\n",
       "<table border=\"1\" class=\"dataframe\">\n",
       "  <thead>\n",
       "    <tr style=\"text-align: right;\">\n",
       "      <th></th>\n",
       "      <th>event_name</th>\n",
       "      <th>device_i_d_hash</th>\n",
       "      <th>event_timestamp</th>\n",
       "      <th>exp_id</th>\n",
       "    </tr>\n",
       "  </thead>\n",
       "  <tbody>\n",
       "    <tr>\n",
       "      <th>0</th>\n",
       "      <td>MainScreenAppear</td>\n",
       "      <td>4575588528974610257</td>\n",
       "      <td>1564029816</td>\n",
       "      <td>246</td>\n",
       "    </tr>\n",
       "    <tr>\n",
       "      <th>1</th>\n",
       "      <td>MainScreenAppear</td>\n",
       "      <td>7416695313311560658</td>\n",
       "      <td>1564053102</td>\n",
       "      <td>246</td>\n",
       "    </tr>\n",
       "    <tr>\n",
       "      <th>2</th>\n",
       "      <td>PaymentScreenSuccessful</td>\n",
       "      <td>3518123091307005509</td>\n",
       "      <td>1564054127</td>\n",
       "      <td>248</td>\n",
       "    </tr>\n",
       "    <tr>\n",
       "      <th>3</th>\n",
       "      <td>CartScreenAppear</td>\n",
       "      <td>3518123091307005509</td>\n",
       "      <td>1564054127</td>\n",
       "      <td>248</td>\n",
       "    </tr>\n",
       "    <tr>\n",
       "      <th>4</th>\n",
       "      <td>PaymentScreenSuccessful</td>\n",
       "      <td>6217807653094995999</td>\n",
       "      <td>1564055322</td>\n",
       "      <td>248</td>\n",
       "    </tr>\n",
       "    <tr>\n",
       "      <th>...</th>\n",
       "      <td>...</td>\n",
       "      <td>...</td>\n",
       "      <td>...</td>\n",
       "      <td>...</td>\n",
       "    </tr>\n",
       "    <tr>\n",
       "      <th>244121</th>\n",
       "      <td>MainScreenAppear</td>\n",
       "      <td>4599628364049201812</td>\n",
       "      <td>1565212345</td>\n",
       "      <td>247</td>\n",
       "    </tr>\n",
       "    <tr>\n",
       "      <th>244122</th>\n",
       "      <td>MainScreenAppear</td>\n",
       "      <td>5849806612437486590</td>\n",
       "      <td>1565212439</td>\n",
       "      <td>246</td>\n",
       "    </tr>\n",
       "    <tr>\n",
       "      <th>244123</th>\n",
       "      <td>MainScreenAppear</td>\n",
       "      <td>5746969938801999050</td>\n",
       "      <td>1565212483</td>\n",
       "      <td>246</td>\n",
       "    </tr>\n",
       "    <tr>\n",
       "      <th>244124</th>\n",
       "      <td>MainScreenAppear</td>\n",
       "      <td>5746969938801999050</td>\n",
       "      <td>1565212498</td>\n",
       "      <td>246</td>\n",
       "    </tr>\n",
       "    <tr>\n",
       "      <th>244125</th>\n",
       "      <td>OffersScreenAppear</td>\n",
       "      <td>5746969938801999050</td>\n",
       "      <td>1565212517</td>\n",
       "      <td>246</td>\n",
       "    </tr>\n",
       "  </tbody>\n",
       "</table>\n",
       "<p>244126 rows × 4 columns</p>\n",
       "</div>"
      ],
      "text/plain": [
       "                     event_name      device_i_d_hash  event_timestamp  exp_id\n",
       "0              MainScreenAppear  4575588528974610257       1564029816     246\n",
       "1              MainScreenAppear  7416695313311560658       1564053102     246\n",
       "2       PaymentScreenSuccessful  3518123091307005509       1564054127     248\n",
       "3              CartScreenAppear  3518123091307005509       1564054127     248\n",
       "4       PaymentScreenSuccessful  6217807653094995999       1564055322     248\n",
       "...                         ...                  ...              ...     ...\n",
       "244121         MainScreenAppear  4599628364049201812       1565212345     247\n",
       "244122         MainScreenAppear  5849806612437486590       1565212439     246\n",
       "244123         MainScreenAppear  5746969938801999050       1565212483     246\n",
       "244124         MainScreenAppear  5746969938801999050       1565212498     246\n",
       "244125       OffersScreenAppear  5746969938801999050       1565212517     246\n",
       "\n",
       "[244126 rows x 4 columns]"
      ]
     },
     "execution_count": 3,
     "metadata": {},
     "output_type": "execute_result"
    }
   ],
   "source": [
    "logs.columns = [re.sub(r'(?<!^)(?=[A-Z])', '_', i).lower() for i in logs.columns]\n",
    "logs"
   ]
  },
  {
   "cell_type": "markdown",
   "id": "45192236-a78d-4e64-81b9-2bb5141556a7",
   "metadata": {},
   "source": [
    "### Проверка пропусков и типов данных:"
   ]
  },
  {
   "cell_type": "code",
   "execution_count": 4,
   "id": "44966f4e-a67d-4227-b5b8-9e972495ff5b",
   "metadata": {
    "scrolled": true
   },
   "outputs": [
    {
     "name": "stdout",
     "output_type": "stream",
     "text": [
      "<class 'pandas.core.frame.DataFrame'>\n",
      "RangeIndex: 244126 entries, 0 to 244125\n",
      "Data columns (total 4 columns):\n",
      " #   Column           Non-Null Count   Dtype \n",
      "---  ------           --------------   ----- \n",
      " 0   event_name       244126 non-null  object\n",
      " 1   device_i_d_hash  244126 non-null  int64 \n",
      " 2   event_timestamp  244126 non-null  int64 \n",
      " 3   exp_id           244126 non-null  int64 \n",
      "dtypes: int64(3), object(1)\n",
      "memory usage: 7.5+ MB\n"
     ]
    }
   ],
   "source": [
    "logs.info()"
   ]
  },
  {
   "cell_type": "code",
   "execution_count": 5,
   "id": "cea9d7b3",
   "metadata": {},
   "outputs": [
    {
     "data": {
      "text/html": [
       "<div>\n",
       "<style scoped>\n",
       "    .dataframe tbody tr th:only-of-type {\n",
       "        vertical-align: middle;\n",
       "    }\n",
       "\n",
       "    .dataframe tbody tr th {\n",
       "        vertical-align: top;\n",
       "    }\n",
       "\n",
       "    .dataframe thead th {\n",
       "        text-align: right;\n",
       "    }\n",
       "</style>\n",
       "<table border=\"1\" class=\"dataframe\">\n",
       "  <thead>\n",
       "    <tr style=\"text-align: right;\">\n",
       "      <th></th>\n",
       "      <th>event_name</th>\n",
       "      <th>device_i_d_hash</th>\n",
       "      <th>event_timestamp</th>\n",
       "      <th>exp_id</th>\n",
       "    </tr>\n",
       "  </thead>\n",
       "  <tbody>\n",
       "    <tr>\n",
       "      <th>0</th>\n",
       "      <td>MainScreenAppear</td>\n",
       "      <td>4575588528974610257</td>\n",
       "      <td>1564029816</td>\n",
       "      <td>246</td>\n",
       "    </tr>\n",
       "    <tr>\n",
       "      <th>1</th>\n",
       "      <td>MainScreenAppear</td>\n",
       "      <td>7416695313311560658</td>\n",
       "      <td>1564053102</td>\n",
       "      <td>246</td>\n",
       "    </tr>\n",
       "    <tr>\n",
       "      <th>2</th>\n",
       "      <td>PaymentScreenSuccessful</td>\n",
       "      <td>3518123091307005509</td>\n",
       "      <td>1564054127</td>\n",
       "      <td>248</td>\n",
       "    </tr>\n",
       "    <tr>\n",
       "      <th>3</th>\n",
       "      <td>CartScreenAppear</td>\n",
       "      <td>3518123091307005509</td>\n",
       "      <td>1564054127</td>\n",
       "      <td>248</td>\n",
       "    </tr>\n",
       "    <tr>\n",
       "      <th>4</th>\n",
       "      <td>PaymentScreenSuccessful</td>\n",
       "      <td>6217807653094995999</td>\n",
       "      <td>1564055322</td>\n",
       "      <td>248</td>\n",
       "    </tr>\n",
       "    <tr>\n",
       "      <th>...</th>\n",
       "      <td>...</td>\n",
       "      <td>...</td>\n",
       "      <td>...</td>\n",
       "      <td>...</td>\n",
       "    </tr>\n",
       "    <tr>\n",
       "      <th>244121</th>\n",
       "      <td>MainScreenAppear</td>\n",
       "      <td>4599628364049201812</td>\n",
       "      <td>1565212345</td>\n",
       "      <td>247</td>\n",
       "    </tr>\n",
       "    <tr>\n",
       "      <th>244122</th>\n",
       "      <td>MainScreenAppear</td>\n",
       "      <td>5849806612437486590</td>\n",
       "      <td>1565212439</td>\n",
       "      <td>246</td>\n",
       "    </tr>\n",
       "    <tr>\n",
       "      <th>244123</th>\n",
       "      <td>MainScreenAppear</td>\n",
       "      <td>5746969938801999050</td>\n",
       "      <td>1565212483</td>\n",
       "      <td>246</td>\n",
       "    </tr>\n",
       "    <tr>\n",
       "      <th>244124</th>\n",
       "      <td>MainScreenAppear</td>\n",
       "      <td>5746969938801999050</td>\n",
       "      <td>1565212498</td>\n",
       "      <td>246</td>\n",
       "    </tr>\n",
       "    <tr>\n",
       "      <th>244125</th>\n",
       "      <td>OffersScreenAppear</td>\n",
       "      <td>5746969938801999050</td>\n",
       "      <td>1565212517</td>\n",
       "      <td>246</td>\n",
       "    </tr>\n",
       "  </tbody>\n",
       "</table>\n",
       "<p>244126 rows × 4 columns</p>\n",
       "</div>"
      ],
      "text/plain": [
       "                     event_name      device_i_d_hash  event_timestamp  exp_id\n",
       "0              MainScreenAppear  4575588528974610257       1564029816     246\n",
       "1              MainScreenAppear  7416695313311560658       1564053102     246\n",
       "2       PaymentScreenSuccessful  3518123091307005509       1564054127     248\n",
       "3              CartScreenAppear  3518123091307005509       1564054127     248\n",
       "4       PaymentScreenSuccessful  6217807653094995999       1564055322     248\n",
       "...                         ...                  ...              ...     ...\n",
       "244121         MainScreenAppear  4599628364049201812       1565212345     247\n",
       "244122         MainScreenAppear  5849806612437486590       1565212439     246\n",
       "244123         MainScreenAppear  5746969938801999050       1565212483     246\n",
       "244124         MainScreenAppear  5746969938801999050       1565212498     246\n",
       "244125       OffersScreenAppear  5746969938801999050       1565212517     246\n",
       "\n",
       "[244126 rows x 4 columns]"
      ]
     },
     "execution_count": 5,
     "metadata": {},
     "output_type": "execute_result"
    }
   ],
   "source": [
    "logs"
   ]
  },
  {
   "cell_type": "code",
   "execution_count": 6,
   "id": "d3fcd31c-52a9-40aa-8df7-50b7c89f0924",
   "metadata": {},
   "outputs": [
    {
     "data": {
      "text/html": [
       "<div>\n",
       "<style scoped>\n",
       "    .dataframe tbody tr th:only-of-type {\n",
       "        vertical-align: middle;\n",
       "    }\n",
       "\n",
       "    .dataframe tbody tr th {\n",
       "        vertical-align: top;\n",
       "    }\n",
       "\n",
       "    .dataframe thead th {\n",
       "        text-align: right;\n",
       "    }\n",
       "</style>\n",
       "<table border=\"1\" class=\"dataframe\">\n",
       "  <thead>\n",
       "    <tr style=\"text-align: right;\">\n",
       "      <th></th>\n",
       "      <th>event_name</th>\n",
       "      <th>device_i_d_hash</th>\n",
       "      <th>event_timestamp</th>\n",
       "      <th>exp_id</th>\n",
       "      <th>date_time</th>\n",
       "    </tr>\n",
       "  </thead>\n",
       "  <tbody>\n",
       "    <tr>\n",
       "      <th>0</th>\n",
       "      <td>MainScreenAppear</td>\n",
       "      <td>4575588528974610257</td>\n",
       "      <td>1564029816</td>\n",
       "      <td>246</td>\n",
       "      <td>2019-07-25 04:43:36</td>\n",
       "    </tr>\n",
       "    <tr>\n",
       "      <th>1</th>\n",
       "      <td>MainScreenAppear</td>\n",
       "      <td>7416695313311560658</td>\n",
       "      <td>1564053102</td>\n",
       "      <td>246</td>\n",
       "      <td>2019-07-25 11:11:42</td>\n",
       "    </tr>\n",
       "    <tr>\n",
       "      <th>2</th>\n",
       "      <td>PaymentScreenSuccessful</td>\n",
       "      <td>3518123091307005509</td>\n",
       "      <td>1564054127</td>\n",
       "      <td>248</td>\n",
       "      <td>2019-07-25 11:28:47</td>\n",
       "    </tr>\n",
       "    <tr>\n",
       "      <th>3</th>\n",
       "      <td>CartScreenAppear</td>\n",
       "      <td>3518123091307005509</td>\n",
       "      <td>1564054127</td>\n",
       "      <td>248</td>\n",
       "      <td>2019-07-25 11:28:47</td>\n",
       "    </tr>\n",
       "    <tr>\n",
       "      <th>4</th>\n",
       "      <td>PaymentScreenSuccessful</td>\n",
       "      <td>6217807653094995999</td>\n",
       "      <td>1564055322</td>\n",
       "      <td>248</td>\n",
       "      <td>2019-07-25 11:48:42</td>\n",
       "    </tr>\n",
       "  </tbody>\n",
       "</table>\n",
       "</div>"
      ],
      "text/plain": [
       "                event_name      device_i_d_hash  event_timestamp  exp_id  \\\n",
       "0         MainScreenAppear  4575588528974610257       1564029816     246   \n",
       "1         MainScreenAppear  7416695313311560658       1564053102     246   \n",
       "2  PaymentScreenSuccessful  3518123091307005509       1564054127     248   \n",
       "3         CartScreenAppear  3518123091307005509       1564054127     248   \n",
       "4  PaymentScreenSuccessful  6217807653094995999       1564055322     248   \n",
       "\n",
       "            date_time  \n",
       "0 2019-07-25 04:43:36  \n",
       "1 2019-07-25 11:11:42  \n",
       "2 2019-07-25 11:28:47  \n",
       "3 2019-07-25 11:28:47  \n",
       "4 2019-07-25 11:48:42  "
      ]
     },
     "execution_count": 6,
     "metadata": {},
     "output_type": "execute_result"
    }
   ],
   "source": [
    "logs['date_time'] = pd.to_datetime(logs['event_timestamp'], unit='s')\n",
    "logs.head()\n",
    "\n",
    "#  аргумент unit='s', который указывает, что значения в eventtimestamp представлены в секундах с начала эпохи Unix. Если этого не сделать, то при получении дат из значений, везде будет 01.01.1970."
   ]
  },
  {
   "cell_type": "markdown",
   "id": "2a0dcf5b-4816-449d-a6f7-6c8c2925c715",
   "metadata": {},
   "source": [
    "Добавили столбец с датой и временем и верным типом данных"
   ]
  },
  {
   "cell_type": "code",
   "execution_count": 7,
   "id": "82824523-5de1-4459-988b-e16669e3da80",
   "metadata": {},
   "outputs": [
    {
     "data": {
      "text/plain": [
       "413"
      ]
     },
     "execution_count": 7,
     "metadata": {},
     "output_type": "execute_result"
    }
   ],
   "source": [
    "logs.duplicated().sum()"
   ]
  },
  {
   "cell_type": "code",
   "execution_count": 8,
   "id": "9432b867-4ab9-4c34-b7d0-d62e6582495e",
   "metadata": {},
   "outputs": [],
   "source": [
    "logs.drop_duplicates(inplace = True)\n",
    "#Удаление явных дубликатов"
   ]
  },
  {
   "cell_type": "code",
   "execution_count": 9,
   "id": "fdf92118-9e58-4d39-9cf2-7e1399884579",
   "metadata": {},
   "outputs": [
    {
     "data": {
      "text/plain": [
       "event_name         0\n",
       "device_i_d_hash    0\n",
       "event_timestamp    0\n",
       "exp_id             0\n",
       "date_time          0\n",
       "dtype: int64"
      ]
     },
     "execution_count": 9,
     "metadata": {},
     "output_type": "execute_result"
    }
   ],
   "source": [
    "logs.isna().sum()"
   ]
  },
  {
   "cell_type": "markdown",
   "id": "7fc36d09-c917-4893-aed2-c0e1e69a8af1",
   "metadata": {},
   "source": [
    "Пропуски отсутствуют"
   ]
  },
  {
   "cell_type": "markdown",
   "id": "451b7176-f483-4b03-98ff-76baf7495e39",
   "metadata": {},
   "source": [
    "### Добавление отдельного столбца с датой"
   ]
  },
  {
   "cell_type": "code",
   "execution_count": 10,
   "id": "56532cef-ca40-43d1-bf3d-5f1afb646649",
   "metadata": {},
   "outputs": [],
   "source": [
    "logs['dt']=logs['date_time'].dt.date"
   ]
  },
  {
   "cell_type": "code",
   "execution_count": 11,
   "id": "031a5445-2a85-4944-8eed-456fdca375fb",
   "metadata": {},
   "outputs": [
    {
     "data": {
      "text/html": [
       "<div>\n",
       "<style scoped>\n",
       "    .dataframe tbody tr th:only-of-type {\n",
       "        vertical-align: middle;\n",
       "    }\n",
       "\n",
       "    .dataframe tbody tr th {\n",
       "        vertical-align: top;\n",
       "    }\n",
       "\n",
       "    .dataframe thead th {\n",
       "        text-align: right;\n",
       "    }\n",
       "</style>\n",
       "<table border=\"1\" class=\"dataframe\">\n",
       "  <thead>\n",
       "    <tr style=\"text-align: right;\">\n",
       "      <th></th>\n",
       "      <th>event_name</th>\n",
       "      <th>device_i_d_hash</th>\n",
       "      <th>event_timestamp</th>\n",
       "      <th>exp_id</th>\n",
       "      <th>date_time</th>\n",
       "      <th>dt</th>\n",
       "    </tr>\n",
       "  </thead>\n",
       "  <tbody>\n",
       "    <tr>\n",
       "      <th>0</th>\n",
       "      <td>MainScreenAppear</td>\n",
       "      <td>4575588528974610257</td>\n",
       "      <td>1564029816</td>\n",
       "      <td>246</td>\n",
       "      <td>2019-07-25 04:43:36</td>\n",
       "      <td>2019-07-25</td>\n",
       "    </tr>\n",
       "    <tr>\n",
       "      <th>1</th>\n",
       "      <td>MainScreenAppear</td>\n",
       "      <td>7416695313311560658</td>\n",
       "      <td>1564053102</td>\n",
       "      <td>246</td>\n",
       "      <td>2019-07-25 11:11:42</td>\n",
       "      <td>2019-07-25</td>\n",
       "    </tr>\n",
       "    <tr>\n",
       "      <th>2</th>\n",
       "      <td>PaymentScreenSuccessful</td>\n",
       "      <td>3518123091307005509</td>\n",
       "      <td>1564054127</td>\n",
       "      <td>248</td>\n",
       "      <td>2019-07-25 11:28:47</td>\n",
       "      <td>2019-07-25</td>\n",
       "    </tr>\n",
       "    <tr>\n",
       "      <th>3</th>\n",
       "      <td>CartScreenAppear</td>\n",
       "      <td>3518123091307005509</td>\n",
       "      <td>1564054127</td>\n",
       "      <td>248</td>\n",
       "      <td>2019-07-25 11:28:47</td>\n",
       "      <td>2019-07-25</td>\n",
       "    </tr>\n",
       "    <tr>\n",
       "      <th>4</th>\n",
       "      <td>PaymentScreenSuccessful</td>\n",
       "      <td>6217807653094995999</td>\n",
       "      <td>1564055322</td>\n",
       "      <td>248</td>\n",
       "      <td>2019-07-25 11:48:42</td>\n",
       "      <td>2019-07-25</td>\n",
       "    </tr>\n",
       "  </tbody>\n",
       "</table>\n",
       "</div>"
      ],
      "text/plain": [
       "                event_name      device_i_d_hash  event_timestamp  exp_id  \\\n",
       "0         MainScreenAppear  4575588528974610257       1564029816     246   \n",
       "1         MainScreenAppear  7416695313311560658       1564053102     246   \n",
       "2  PaymentScreenSuccessful  3518123091307005509       1564054127     248   \n",
       "3         CartScreenAppear  3518123091307005509       1564054127     248   \n",
       "4  PaymentScreenSuccessful  6217807653094995999       1564055322     248   \n",
       "\n",
       "            date_time          dt  \n",
       "0 2019-07-25 04:43:36  2019-07-25  \n",
       "1 2019-07-25 11:11:42  2019-07-25  \n",
       "2 2019-07-25 11:28:47  2019-07-25  \n",
       "3 2019-07-25 11:28:47  2019-07-25  \n",
       "4 2019-07-25 11:48:42  2019-07-25  "
      ]
     },
     "execution_count": 11,
     "metadata": {},
     "output_type": "execute_result"
    }
   ],
   "source": [
    "logs.head()"
   ]
  },
  {
   "cell_type": "code",
   "execution_count": 12,
   "id": "8794af22-b485-4c4b-bf32-1c7f7f8a7805",
   "metadata": {},
   "outputs": [],
   "source": [
    "logs['dt'] = logs['dt'].astype('datetime64[ns]')"
   ]
  },
  {
   "cell_type": "code",
   "execution_count": 13,
   "id": "cd584933-6eda-414a-985d-e6ca417d9dd5",
   "metadata": {},
   "outputs": [
    {
     "data": {
      "text/plain": [
       "array([4575588528974610257, 7416695313311560658, 8351860793733343758, ...,\n",
       "       4876403292056911122, 6660805781687343085, 7823752606740475984],\n",
       "      dtype=int64)"
      ]
     },
     "execution_count": 13,
     "metadata": {},
     "output_type": "execute_result"
    }
   ],
   "source": [
    "gr_246 = logs.query('exp_id == 246').copy()\n",
    "us_246 = gr_246['device_i_d_hash'].unique()\n",
    "us_246"
   ]
  },
  {
   "cell_type": "code",
   "execution_count": 14,
   "id": "6890ad78-f2a8-444d-8134-3d0c86ddfa75",
   "metadata": {},
   "outputs": [
    {
     "data": {
      "text/plain": [
       "array([1850981295691852772,  948465712512390382, 2140904690380565988, ...,\n",
       "       1084823616235555727,  741809788823411824, 3454683894921357834],\n",
       "      dtype=int64)"
      ]
     },
     "execution_count": 14,
     "metadata": {},
     "output_type": "execute_result"
    }
   ],
   "source": [
    "gr_247 = logs.query('exp_id == 247').copy()\n",
    "us_247 = gr_247['device_i_d_hash'].unique()\n",
    "us_247"
   ]
  },
  {
   "cell_type": "code",
   "execution_count": 15,
   "id": "a97fc813-1fa4-4aed-a429-7af11c7ed4ce",
   "metadata": {},
   "outputs": [
    {
     "data": {
      "text/plain": [
       "array([3518123091307005509, 6217807653094995999, 2547684315586332355, ...,\n",
       "       4069063897900929368, 5811573131275421338, 5365227480683749189],\n",
       "      dtype=int64)"
      ]
     },
     "execution_count": 15,
     "metadata": {},
     "output_type": "execute_result"
    }
   ],
   "source": [
    "gr_248 = logs.query('exp_id == 248').copy()\n",
    "us_248 = gr_248['device_i_d_hash'].unique()\n",
    "us_248"
   ]
  },
  {
   "cell_type": "code",
   "execution_count": 16,
   "id": "d0504baf-a67e-4902-819b-a5d73e9d4d21",
   "metadata": {},
   "outputs": [
    {
     "data": {
      "text/plain": [
       "[]"
      ]
     },
     "execution_count": 16,
     "metadata": {},
     "output_type": "execute_result"
    }
   ],
   "source": [
    "result=list(set(us_246) & set(us_247))\n",
    "result"
   ]
  },
  {
   "cell_type": "code",
   "execution_count": 17,
   "id": "f91870fe-6dc1-4ec7-8dee-beb23d39c708",
   "metadata": {},
   "outputs": [
    {
     "data": {
      "text/plain": [
       "[]"
      ]
     },
     "execution_count": 17,
     "metadata": {},
     "output_type": "execute_result"
    }
   ],
   "source": [
    "result=list(set(us_246) & set(us_248))\n",
    "result"
   ]
  },
  {
   "cell_type": "code",
   "execution_count": 18,
   "id": "a9a49cbd-4d25-45c5-8cad-c5a9654d7037",
   "metadata": {},
   "outputs": [
    {
     "data": {
      "text/plain": [
       "[]"
      ]
     },
     "execution_count": 18,
     "metadata": {},
     "output_type": "execute_result"
    }
   ],
   "source": [
    "result=list(set(us_247) & set(us_248))\n",
    "result"
   ]
  },
  {
   "cell_type": "markdown",
   "id": "2161e34a-6395-41af-852d-27e052731a78",
   "metadata": {},
   "source": [
    "**Пользователей, попавших одновременно в разные группы, не обнаружено**"
   ]
  },
  {
   "cell_type": "markdown",
   "id": "dc59eb51-5945-4dd1-a645-74b9cb6c1366",
   "metadata": {},
   "source": [
    "## Шаг 3. Изучение и проверка данных"
   ]
  },
  {
   "cell_type": "markdown",
   "id": "3d76e9e9-45cd-4a59-898d-77aaf696d512",
   "metadata": {
    "tags": []
   },
   "source": [
    "### Количество событий в логе"
   ]
  },
  {
   "cell_type": "code",
   "execution_count": 19,
   "id": "71caa9a7-d573-40c2-8e57-f2a89099953d",
   "metadata": {},
   "outputs": [
    {
     "name": "stdout",
     "output_type": "stream",
     "text": [
      "<class 'pandas.core.frame.DataFrame'>\n",
      "Index: 243713 entries, 0 to 244125\n",
      "Data columns (total 6 columns):\n",
      " #   Column           Non-Null Count   Dtype         \n",
      "---  ------           --------------   -----         \n",
      " 0   event_name       243713 non-null  object        \n",
      " 1   device_i_d_hash  243713 non-null  int64         \n",
      " 2   event_timestamp  243713 non-null  int64         \n",
      " 3   exp_id           243713 non-null  int64         \n",
      " 4   date_time        243713 non-null  datetime64[ns]\n",
      " 5   dt               243713 non-null  datetime64[ns]\n",
      "dtypes: datetime64[ns](2), int64(3), object(1)\n",
      "memory usage: 13.0+ MB\n"
     ]
    }
   ],
   "source": [
    "logs.info()"
   ]
  },
  {
   "cell_type": "code",
   "execution_count": 20,
   "id": "744e8e3f-2e0d-47cb-9cb1-d418d1cadc2a",
   "metadata": {},
   "outputs": [
    {
     "name": "stdout",
     "output_type": "stream",
     "text": [
      "В логе всего 243713 событий\n"
     ]
    }
   ],
   "source": [
    "count_event = logs['event_name'].count()\n",
    "print('В логе всего', count_event, 'событий')"
   ]
  },
  {
   "cell_type": "markdown",
   "id": "ea2a9e57-f899-493d-a7b7-a3fb16e18a4e",
   "metadata": {},
   "source": [
    "### Количество пользователей в логе"
   ]
  },
  {
   "cell_type": "code",
   "execution_count": 21,
   "id": "6a58b81d-4dfa-45d9-905b-03b34dbb4072",
   "metadata": {},
   "outputs": [
    {
     "name": "stdout",
     "output_type": "stream",
     "text": [
      "В логе всего 7551 пользователей\n"
     ]
    }
   ],
   "source": [
    "count_user = logs['device_i_d_hash'].nunique()\n",
    "print('В логе всего', count_user, 'пользователей')"
   ]
  },
  {
   "cell_type": "markdown",
   "id": "a376bc8c-da92-4d97-8c53-9d6490f90590",
   "metadata": {},
   "source": [
    "### Среднее количество событий на пользователя"
   ]
  },
  {
   "cell_type": "code",
   "execution_count": 22,
   "id": "a03f551a-ebe0-4a70-aa6e-a855e3683117",
   "metadata": {},
   "outputs": [
    {
     "name": "stdout",
     "output_type": "stream",
     "text": [
      "В среднем на одного пользователя 32.0 события\n"
     ]
    },
    {
     "data": {
      "text/plain": [
       "32.0"
      ]
     },
     "execution_count": 22,
     "metadata": {},
     "output_type": "execute_result"
    }
   ],
   "source": [
    "ave_event =  round(count_event/count_user,0)\n",
    "print('В среднем на одного пользователя', ave_event, 'события')\n",
    "round(ave_event, 0)"
   ]
  },
  {
   "cell_type": "code",
   "execution_count": 23,
   "id": "10e7ba03-9327-4df3-a761-3a68bbc59894",
   "metadata": {},
   "outputs": [
    {
     "data": {
      "text/html": [
       "<div>\n",
       "<style scoped>\n",
       "    .dataframe tbody tr th:only-of-type {\n",
       "        vertical-align: middle;\n",
       "    }\n",
       "\n",
       "    .dataframe tbody tr th {\n",
       "        vertical-align: top;\n",
       "    }\n",
       "\n",
       "    .dataframe thead th {\n",
       "        text-align: right;\n",
       "    }\n",
       "</style>\n",
       "<table border=\"1\" class=\"dataframe\">\n",
       "  <thead>\n",
       "    <tr style=\"text-align: right;\">\n",
       "      <th></th>\n",
       "      <th>event_name</th>\n",
       "    </tr>\n",
       "    <tr>\n",
       "      <th>device_i_d_hash</th>\n",
       "      <th></th>\n",
       "    </tr>\n",
       "  </thead>\n",
       "  <tbody>\n",
       "    <tr>\n",
       "      <th>6888746892508752</th>\n",
       "      <td>1</td>\n",
       "    </tr>\n",
       "    <tr>\n",
       "      <th>6909561520679493</th>\n",
       "      <td>5</td>\n",
       "    </tr>\n",
       "    <tr>\n",
       "      <th>6922444491712477</th>\n",
       "      <td>47</td>\n",
       "    </tr>\n",
       "    <tr>\n",
       "      <th>7435777799948366</th>\n",
       "      <td>6</td>\n",
       "    </tr>\n",
       "    <tr>\n",
       "      <th>7702139951469979</th>\n",
       "      <td>137</td>\n",
       "    </tr>\n",
       "    <tr>\n",
       "      <th>...</th>\n",
       "      <td>...</td>\n",
       "    </tr>\n",
       "    <tr>\n",
       "      <th>9217594193087726423</th>\n",
       "      <td>9</td>\n",
       "    </tr>\n",
       "    <tr>\n",
       "      <th>9219463515465815368</th>\n",
       "      <td>17</td>\n",
       "    </tr>\n",
       "    <tr>\n",
       "      <th>9220879493065341500</th>\n",
       "      <td>7</td>\n",
       "    </tr>\n",
       "    <tr>\n",
       "      <th>9221926045299980007</th>\n",
       "      <td>7</td>\n",
       "    </tr>\n",
       "    <tr>\n",
       "      <th>9222603179720523844</th>\n",
       "      <td>59</td>\n",
       "    </tr>\n",
       "  </tbody>\n",
       "</table>\n",
       "<p>7551 rows × 1 columns</p>\n",
       "</div>"
      ],
      "text/plain": [
       "                     event_name\n",
       "device_i_d_hash                \n",
       "6888746892508752              1\n",
       "6909561520679493              5\n",
       "6922444491712477             47\n",
       "7435777799948366              6\n",
       "7702139951469979            137\n",
       "...                         ...\n",
       "9217594193087726423           9\n",
       "9219463515465815368          17\n",
       "9220879493065341500           7\n",
       "9221926045299980007           7\n",
       "9222603179720523844          59\n",
       "\n",
       "[7551 rows x 1 columns]"
      ]
     },
     "execution_count": 23,
     "metadata": {},
     "output_type": "execute_result"
    }
   ],
   "source": [
    "mean_ev = (logs.groupby('device_i_d_hash').agg({'event_name':'count'}))\n",
    "mean_ev"
   ]
  },
  {
   "cell_type": "code",
   "execution_count": 24,
   "id": "ebbc6335-ed1a-4d43-a2e4-c89f1acc8336",
   "metadata": {},
   "outputs": [
    {
     "name": "stdout",
     "output_type": "stream",
     "text": [
      "Минимально количество событий на пользователя event_name    1\n",
      "dtype: int64\n",
      "Максильманое количество событий на пользователя event_name    2307\n",
      "dtype: int64\n"
     ]
    }
   ],
   "source": [
    "print('Минимально количество событий на пользователя', mean_ev.min())\n",
    "print('Максильманое количество событий на пользователя', mean_ev.max())"
   ]
  },
  {
   "cell_type": "code",
   "execution_count": 25,
   "id": "10b4447a-92a8-44c2-aec8-483e7cc3c503",
   "metadata": {},
   "outputs": [
    {
     "data": {
      "image/png": "[encoded data removed]",
      "text/plain": [
       "<Figure size 1000x500 with 1 Axes>"
      ]
     },
     "metadata": {},
     "output_type": "display_data"
    }
   ],
   "source": [
    "mean_ev.plot(figsize=(10,5), kind='hist', bins=35, alpha=0.5, title='Распределение количества событий по пользователям')\n",
    "\n",
    "plt.xlabel('Количество событий на пользователя')\n",
    "plt.ylabel('Количество пользователей')\n",
    "plt.show()"
   ]
  },
  {
   "cell_type": "markdown",
   "id": "2161e02a-d18c-48c7-a55a-b781f4cabad0",
   "metadata": {},
   "source": [
    "Есть аномально активные пользователи, набравшие более 2000 действий в приложении за рассматриваемый период. Но в основном пользователи совершали до 50-100 событий за рассматриваемый период."
   ]
  },
  {
   "cell_type": "markdown",
   "id": "e043996d-9855-4114-b78b-e7978029b83f",
   "metadata": {},
   "source": [
    "### Период в логе"
   ]
  },
  {
   "cell_type": "code",
   "execution_count": 26,
   "id": "379bef3b-4eb9-4cb9-949c-bda518392cca",
   "metadata": {},
   "outputs": [
    {
     "name": "stdout",
     "output_type": "stream",
     "text": [
      "Минимальная дата в логе 2019-07-25 00:00:00\n"
     ]
    }
   ],
   "source": [
    "print('Минимальная дата в логе', logs['dt'].min())"
   ]
  },
  {
   "cell_type": "code",
   "execution_count": 27,
   "id": "14b1c085-cb75-4c5b-bd3b-4d7fe33945ff",
   "metadata": {},
   "outputs": [
    {
     "name": "stdout",
     "output_type": "stream",
     "text": [
      "Максимальная дата в логе 2019-08-07 00:00:00\n"
     ]
    }
   ],
   "source": [
    "print('Максимальная дата в логе', logs['dt'].max())"
   ]
  },
  {
   "cell_type": "markdown",
   "id": "b971784e-cd74-4092-82f4-f202644e95e9",
   "metadata": {},
   "source": [
    "**Построение столбчатой диаграммы, которая отобразит количество событий в зависимости от времени в разрезе групп.**"
   ]
  },
  {
   "cell_type": "code",
   "execution_count": 28,
   "id": "b9526ba3-ed4e-4479-8e46-e01ab9179ee8",
   "metadata": {},
   "outputs": [
    {
     "data": {
      "text/html": [
       "<div>\n",
       "<style scoped>\n",
       "    .dataframe tbody tr th:only-of-type {\n",
       "        vertical-align: middle;\n",
       "    }\n",
       "\n",
       "    .dataframe tbody tr th {\n",
       "        vertical-align: top;\n",
       "    }\n",
       "\n",
       "    .dataframe thead th {\n",
       "        text-align: right;\n",
       "    }\n",
       "</style>\n",
       "<table border=\"1\" class=\"dataframe\">\n",
       "  <thead>\n",
       "    <tr style=\"text-align: right;\">\n",
       "      <th>exp_id</th>\n",
       "      <th>246</th>\n",
       "      <th>247</th>\n",
       "      <th>248</th>\n",
       "    </tr>\n",
       "    <tr>\n",
       "      <th>dt</th>\n",
       "      <th></th>\n",
       "      <th></th>\n",
       "      <th></th>\n",
       "    </tr>\n",
       "  </thead>\n",
       "  <tbody>\n",
       "    <tr>\n",
       "      <th>2019-07-25</th>\n",
       "      <td>4</td>\n",
       "      <td>1</td>\n",
       "      <td>4</td>\n",
       "    </tr>\n",
       "    <tr>\n",
       "      <th>2019-07-26</th>\n",
       "      <td>14</td>\n",
       "      <td>8</td>\n",
       "      <td>9</td>\n",
       "    </tr>\n",
       "    <tr>\n",
       "      <th>2019-07-27</th>\n",
       "      <td>24</td>\n",
       "      <td>23</td>\n",
       "      <td>8</td>\n",
       "    </tr>\n",
       "    <tr>\n",
       "      <th>2019-07-28</th>\n",
       "      <td>33</td>\n",
       "      <td>36</td>\n",
       "      <td>36</td>\n",
       "    </tr>\n",
       "    <tr>\n",
       "      <th>2019-07-29</th>\n",
       "      <td>55</td>\n",
       "      <td>58</td>\n",
       "      <td>71</td>\n",
       "    </tr>\n",
       "    <tr>\n",
       "      <th>2019-07-30</th>\n",
       "      <td>129</td>\n",
       "      <td>138</td>\n",
       "      <td>145</td>\n",
       "    </tr>\n",
       "    <tr>\n",
       "      <th>2019-07-31</th>\n",
       "      <td>620</td>\n",
       "      <td>664</td>\n",
       "      <td>746</td>\n",
       "    </tr>\n",
       "    <tr>\n",
       "      <th>2019-08-01</th>\n",
       "      <td>11561</td>\n",
       "      <td>12306</td>\n",
       "      <td>12274</td>\n",
       "    </tr>\n",
       "    <tr>\n",
       "      <th>2019-08-02</th>\n",
       "      <td>10946</td>\n",
       "      <td>10990</td>\n",
       "      <td>13618</td>\n",
       "    </tr>\n",
       "    <tr>\n",
       "      <th>2019-08-03</th>\n",
       "      <td>10575</td>\n",
       "      <td>11024</td>\n",
       "      <td>11683</td>\n",
       "    </tr>\n",
       "    <tr>\n",
       "      <th>2019-08-04</th>\n",
       "      <td>11514</td>\n",
       "      <td>9942</td>\n",
       "      <td>11512</td>\n",
       "    </tr>\n",
       "    <tr>\n",
       "      <th>2019-08-05</th>\n",
       "      <td>12368</td>\n",
       "      <td>10949</td>\n",
       "      <td>12741</td>\n",
       "    </tr>\n",
       "    <tr>\n",
       "      <th>2019-08-06</th>\n",
       "      <td>11726</td>\n",
       "      <td>11720</td>\n",
       "      <td>12342</td>\n",
       "    </tr>\n",
       "    <tr>\n",
       "      <th>2019-08-07</th>\n",
       "      <td>10612</td>\n",
       "      <td>10091</td>\n",
       "      <td>10393</td>\n",
       "    </tr>\n",
       "  </tbody>\n",
       "</table>\n",
       "</div>"
      ],
      "text/plain": [
       "exp_id        246    247    248\n",
       "dt                             \n",
       "2019-07-25      4      1      4\n",
       "2019-07-26     14      8      9\n",
       "2019-07-27     24     23      8\n",
       "2019-07-28     33     36     36\n",
       "2019-07-29     55     58     71\n",
       "2019-07-30    129    138    145\n",
       "2019-07-31    620    664    746\n",
       "2019-08-01  11561  12306  12274\n",
       "2019-08-02  10946  10990  13618\n",
       "2019-08-03  10575  11024  11683\n",
       "2019-08-04  11514   9942  11512\n",
       "2019-08-05  12368  10949  12741\n",
       "2019-08-06  11726  11720  12342\n",
       "2019-08-07  10612  10091  10393"
      ]
     },
     "execution_count": 28,
     "metadata": {},
     "output_type": "execute_result"
    }
   ],
   "source": [
    "exp_table = logs.pivot_table(index = 'dt', columns = 'exp_id' , values = 'device_i_d_hash', aggfunc = 'count')\n",
    "exp_table"
   ]
  },
  {
   "cell_type": "code",
   "execution_count": 29,
   "id": "d8486f7b-e857-4010-9864-02b66d34057d",
   "metadata": {},
   "outputs": [],
   "source": [
    "df = exp_table.reset_index()"
   ]
  },
  {
   "cell_type": "code",
   "execution_count": 30,
   "id": "482b71ec-e9a4-4265-9c6a-0c1edfd538e9",
   "metadata": {},
   "outputs": [],
   "source": [
    "df.columns = ['dt', 'a1', 'a2','b']"
   ]
  },
  {
   "cell_type": "code",
   "execution_count": 31,
   "id": "4fb32c95-765c-4984-a7e4-1e3494eda5e6",
   "metadata": {},
   "outputs": [
    {
     "data": {
      "image/png": "[encoded data removed]",
      "text/plain": [
       "<Figure size 2000x500 with 1 Axes>"
      ]
     },
     "metadata": {},
     "output_type": "display_data"
    }
   ],
   "source": [
    "ax, fig = plt.subplots(figsize=(20,5))\n",
    " \n",
    "X_axis = np.arange(df.shape[0]) \n",
    " \n",
    "rects = plt.bar(X_axis - 0.2, df['a1'], 0.2, label = 'A1', color = 'lightblue') \n",
    "plt.bar(X_axis, df['a2'], 0.2, label = 'A2', color  ='blue') \n",
    "plt.bar(X_axis + 0.2, df['b'], 0.2, label = 'B', color  ='darkblue') \n",
    "plt.xticks(X_axis, df['dt'], rotation=45) \n",
    "\n",
    "    \n",
    "plt.xlabel('Даты') \n",
    "plt.ylabel('Количество событий') \n",
    "plt.title('Количество событий по группам') \n",
    "plt.legend() \n",
    "plt.show() \n",
    " "
   ]
  },
  {
   "cell_type": "markdown",
   "id": "9c3e81c3-1ba4-4071-a3d2-247ea04bd8ae",
   "metadata": {},
   "source": [
    "График показывает, что до 01.08.2019 событий было зафиксировано в десятки раз меньше. Начиная с 01.08.19 количество событий  в день находится примерно на одном уровне в трех группах. По условиям задачи известно, что часть данных может быть искажена. Удалим данные, до 31.07.2019 включительно."
   ]
  },
  {
   "cell_type": "code",
   "execution_count": 32,
   "id": "04acc4fa-e3da-4e44-9029-04ef8a8e711e",
   "metadata": {},
   "outputs": [],
   "source": [
    "df_new = logs.query(\"dt >'2019-07-31'\").copy()"
   ]
  },
  {
   "cell_type": "code",
   "execution_count": 33,
   "id": "92f72507-1647-459d-8ddc-d026a044ba47",
   "metadata": {},
   "outputs": [
    {
     "name": "stdout",
     "output_type": "stream",
     "text": [
      "<class 'pandas.core.frame.DataFrame'>\n",
      "Index: 240887 entries, 2828 to 244125\n",
      "Data columns (total 6 columns):\n",
      " #   Column           Non-Null Count   Dtype         \n",
      "---  ------           --------------   -----         \n",
      " 0   event_name       240887 non-null  object        \n",
      " 1   device_i_d_hash  240887 non-null  int64         \n",
      " 2   event_timestamp  240887 non-null  int64         \n",
      " 3   exp_id           240887 non-null  int64         \n",
      " 4   date_time        240887 non-null  datetime64[ns]\n",
      " 5   dt               240887 non-null  datetime64[ns]\n",
      "dtypes: datetime64[ns](2), int64(3), object(1)\n",
      "memory usage: 12.9+ MB\n"
     ]
    }
   ],
   "source": [
    "df_new.info()"
   ]
  },
  {
   "cell_type": "code",
   "execution_count": 34,
   "id": "94313957-8861-4350-a030-d4cffb6e7256",
   "metadata": {},
   "outputs": [
    {
     "data": {
      "text/html": [
       "<div>\n",
       "<style scoped>\n",
       "    .dataframe tbody tr th:only-of-type {\n",
       "        vertical-align: middle;\n",
       "    }\n",
       "\n",
       "    .dataframe tbody tr th {\n",
       "        vertical-align: top;\n",
       "    }\n",
       "\n",
       "    .dataframe thead th {\n",
       "        text-align: right;\n",
       "    }\n",
       "</style>\n",
       "<table border=\"1\" class=\"dataframe\">\n",
       "  <thead>\n",
       "    <tr style=\"text-align: right;\">\n",
       "      <th>exp_id</th>\n",
       "      <th>246</th>\n",
       "      <th>247</th>\n",
       "      <th>248</th>\n",
       "    </tr>\n",
       "    <tr>\n",
       "      <th>dt</th>\n",
       "      <th></th>\n",
       "      <th></th>\n",
       "      <th></th>\n",
       "    </tr>\n",
       "  </thead>\n",
       "  <tbody>\n",
       "    <tr>\n",
       "      <th>2019-08-01</th>\n",
       "      <td>11561</td>\n",
       "      <td>12306</td>\n",
       "      <td>12274</td>\n",
       "    </tr>\n",
       "    <tr>\n",
       "      <th>2019-08-02</th>\n",
       "      <td>10946</td>\n",
       "      <td>10990</td>\n",
       "      <td>13618</td>\n",
       "    </tr>\n",
       "    <tr>\n",
       "      <th>2019-08-03</th>\n",
       "      <td>10575</td>\n",
       "      <td>11024</td>\n",
       "      <td>11683</td>\n",
       "    </tr>\n",
       "    <tr>\n",
       "      <th>2019-08-04</th>\n",
       "      <td>11514</td>\n",
       "      <td>9942</td>\n",
       "      <td>11512</td>\n",
       "    </tr>\n",
       "    <tr>\n",
       "      <th>2019-08-05</th>\n",
       "      <td>12368</td>\n",
       "      <td>10949</td>\n",
       "      <td>12741</td>\n",
       "    </tr>\n",
       "    <tr>\n",
       "      <th>2019-08-06</th>\n",
       "      <td>11726</td>\n",
       "      <td>11720</td>\n",
       "      <td>12342</td>\n",
       "    </tr>\n",
       "    <tr>\n",
       "      <th>2019-08-07</th>\n",
       "      <td>10612</td>\n",
       "      <td>10091</td>\n",
       "      <td>10393</td>\n",
       "    </tr>\n",
       "  </tbody>\n",
       "</table>\n",
       "</div>"
      ],
      "text/plain": [
       "exp_id        246    247    248\n",
       "dt                             \n",
       "2019-08-01  11561  12306  12274\n",
       "2019-08-02  10946  10990  13618\n",
       "2019-08-03  10575  11024  11683\n",
       "2019-08-04  11514   9942  11512\n",
       "2019-08-05  12368  10949  12741\n",
       "2019-08-06  11726  11720  12342\n",
       "2019-08-07  10612  10091  10393"
      ]
     },
     "execution_count": 34,
     "metadata": {},
     "output_type": "execute_result"
    }
   ],
   "source": [
    "exp_table = df_new.pivot_table(index = 'dt', columns = 'exp_id' , values = 'device_i_d_hash', aggfunc = 'count')\n",
    "exp_table"
   ]
  },
  {
   "cell_type": "code",
   "execution_count": 35,
   "id": "379b4e26-1b05-44d7-9c8d-b37b45f0c47a",
   "metadata": {},
   "outputs": [
    {
     "name": "stdout",
     "output_type": "stream",
     "text": [
      "Количество потерянных событий после удаления части периода 2826\n",
      "Процент потерянных событий: 1.2%\n"
     ]
    }
   ],
   "source": [
    "count_event_1 = logs['event_name'].count()\n",
    "count_event_2 = df_new['event_name'].count()\n",
    "print('Количество потерянных событий после удаления части периода', count_event_1-count_event_2)\n",
    "print('Процент потерянных событий:', f\"{(count_event_1-count_event_2)/count_event_1:.1%}\")"
   ]
  },
  {
   "cell_type": "code",
   "execution_count": 36,
   "id": "5ea6527c-7f4a-49f9-acd6-d173f2ff3546",
   "metadata": {},
   "outputs": [
    {
     "name": "stdout",
     "output_type": "stream",
     "text": [
      "Количество потерянных пользователей после удаления части периода 17\n",
      "Процент пользователей событий: 0.2%\n"
     ]
    }
   ],
   "source": [
    "count_user_1 = logs['device_i_d_hash'].nunique()\n",
    "count_user_2 = df_new['device_i_d_hash'].nunique()\n",
    "print('Количество потерянных пользователей после удаления части периода', count_user_1-count_user_2)\n",
    "print('Процент пользователей событий:', f\"{(count_user_1-count_user_2)/count_user_1:.1%}\")"
   ]
  },
  {
   "cell_type": "markdown",
   "id": "d2456345-c31d-4d41-8444-59890929cff6",
   "metadata": {},
   "source": [
    "**После сокращения периода, потеря пользователей и событий в % кажется допустимой**"
   ]
  },
  {
   "cell_type": "code",
   "execution_count": 37,
   "id": "4afb6a37-e6d0-4720-b563-25cfdf956894",
   "metadata": {},
   "outputs": [
    {
     "data": {
      "text/html": [
       "<div>\n",
       "<style scoped>\n",
       "    .dataframe tbody tr th:only-of-type {\n",
       "        vertical-align: middle;\n",
       "    }\n",
       "\n",
       "    .dataframe tbody tr th {\n",
       "        vertical-align: top;\n",
       "    }\n",
       "\n",
       "    .dataframe thead th {\n",
       "        text-align: right;\n",
       "    }\n",
       "</style>\n",
       "<table border=\"1\" class=\"dataframe\">\n",
       "  <thead>\n",
       "    <tr style=\"text-align: right;\">\n",
       "      <th></th>\n",
       "      <th>event_name</th>\n",
       "      <th>device_i_d_hash</th>\n",
       "      <th>event_timestamp</th>\n",
       "      <th>exp_id</th>\n",
       "      <th>date_time</th>\n",
       "      <th>dt</th>\n",
       "    </tr>\n",
       "  </thead>\n",
       "  <tbody>\n",
       "    <tr>\n",
       "      <th>2828</th>\n",
       "      <td>Tutorial</td>\n",
       "      <td>3737462046622621720</td>\n",
       "      <td>1564618048</td>\n",
       "      <td>246</td>\n",
       "      <td>2019-08-01 00:07:28</td>\n",
       "      <td>2019-08-01</td>\n",
       "    </tr>\n",
       "    <tr>\n",
       "      <th>2829</th>\n",
       "      <td>MainScreenAppear</td>\n",
       "      <td>3737462046622621720</td>\n",
       "      <td>1564618080</td>\n",
       "      <td>246</td>\n",
       "      <td>2019-08-01 00:08:00</td>\n",
       "      <td>2019-08-01</td>\n",
       "    </tr>\n",
       "    <tr>\n",
       "      <th>2830</th>\n",
       "      <td>MainScreenAppear</td>\n",
       "      <td>3737462046622621720</td>\n",
       "      <td>1564618135</td>\n",
       "      <td>246</td>\n",
       "      <td>2019-08-01 00:08:55</td>\n",
       "      <td>2019-08-01</td>\n",
       "    </tr>\n",
       "    <tr>\n",
       "      <th>2831</th>\n",
       "      <td>OffersScreenAppear</td>\n",
       "      <td>3737462046622621720</td>\n",
       "      <td>1564618138</td>\n",
       "      <td>246</td>\n",
       "      <td>2019-08-01 00:08:58</td>\n",
       "      <td>2019-08-01</td>\n",
       "    </tr>\n",
       "    <tr>\n",
       "      <th>2832</th>\n",
       "      <td>MainScreenAppear</td>\n",
       "      <td>1433840883824088890</td>\n",
       "      <td>1564618139</td>\n",
       "      <td>247</td>\n",
       "      <td>2019-08-01 00:08:59</td>\n",
       "      <td>2019-08-01</td>\n",
       "    </tr>\n",
       "    <tr>\n",
       "      <th>...</th>\n",
       "      <td>...</td>\n",
       "      <td>...</td>\n",
       "      <td>...</td>\n",
       "      <td>...</td>\n",
       "      <td>...</td>\n",
       "      <td>...</td>\n",
       "    </tr>\n",
       "    <tr>\n",
       "      <th>244121</th>\n",
       "      <td>MainScreenAppear</td>\n",
       "      <td>4599628364049201812</td>\n",
       "      <td>1565212345</td>\n",
       "      <td>247</td>\n",
       "      <td>2019-08-07 21:12:25</td>\n",
       "      <td>2019-08-07</td>\n",
       "    </tr>\n",
       "    <tr>\n",
       "      <th>244122</th>\n",
       "      <td>MainScreenAppear</td>\n",
       "      <td>5849806612437486590</td>\n",
       "      <td>1565212439</td>\n",
       "      <td>246</td>\n",
       "      <td>2019-08-07 21:13:59</td>\n",
       "      <td>2019-08-07</td>\n",
       "    </tr>\n",
       "    <tr>\n",
       "      <th>244123</th>\n",
       "      <td>MainScreenAppear</td>\n",
       "      <td>5746969938801999050</td>\n",
       "      <td>1565212483</td>\n",
       "      <td>246</td>\n",
       "      <td>2019-08-07 21:14:43</td>\n",
       "      <td>2019-08-07</td>\n",
       "    </tr>\n",
       "    <tr>\n",
       "      <th>244124</th>\n",
       "      <td>MainScreenAppear</td>\n",
       "      <td>5746969938801999050</td>\n",
       "      <td>1565212498</td>\n",
       "      <td>246</td>\n",
       "      <td>2019-08-07 21:14:58</td>\n",
       "      <td>2019-08-07</td>\n",
       "    </tr>\n",
       "    <tr>\n",
       "      <th>244125</th>\n",
       "      <td>OffersScreenAppear</td>\n",
       "      <td>5746969938801999050</td>\n",
       "      <td>1565212517</td>\n",
       "      <td>246</td>\n",
       "      <td>2019-08-07 21:15:17</td>\n",
       "      <td>2019-08-07</td>\n",
       "    </tr>\n",
       "  </tbody>\n",
       "</table>\n",
       "<p>240887 rows × 6 columns</p>\n",
       "</div>"
      ],
      "text/plain": [
       "                event_name      device_i_d_hash  event_timestamp  exp_id  \\\n",
       "2828              Tutorial  3737462046622621720       1564618048     246   \n",
       "2829      MainScreenAppear  3737462046622621720       1564618080     246   \n",
       "2830      MainScreenAppear  3737462046622621720       1564618135     246   \n",
       "2831    OffersScreenAppear  3737462046622621720       1564618138     246   \n",
       "2832      MainScreenAppear  1433840883824088890       1564618139     247   \n",
       "...                    ...                  ...              ...     ...   \n",
       "244121    MainScreenAppear  4599628364049201812       1565212345     247   \n",
       "244122    MainScreenAppear  5849806612437486590       1565212439     246   \n",
       "244123    MainScreenAppear  5746969938801999050       1565212483     246   \n",
       "244124    MainScreenAppear  5746969938801999050       1565212498     246   \n",
       "244125  OffersScreenAppear  5746969938801999050       1565212517     246   \n",
       "\n",
       "                 date_time         dt  \n",
       "2828   2019-08-01 00:07:28 2019-08-01  \n",
       "2829   2019-08-01 00:08:00 2019-08-01  \n",
       "2830   2019-08-01 00:08:55 2019-08-01  \n",
       "2831   2019-08-01 00:08:58 2019-08-01  \n",
       "2832   2019-08-01 00:08:59 2019-08-01  \n",
       "...                    ...        ...  \n",
       "244121 2019-08-07 21:12:25 2019-08-07  \n",
       "244122 2019-08-07 21:13:59 2019-08-07  \n",
       "244123 2019-08-07 21:14:43 2019-08-07  \n",
       "244124 2019-08-07 21:14:58 2019-08-07  \n",
       "244125 2019-08-07 21:15:17 2019-08-07  \n",
       "\n",
       "[240887 rows x 6 columns]"
      ]
     },
     "execution_count": 37,
     "metadata": {},
     "output_type": "execute_result"
    }
   ],
   "source": [
    "df_new"
   ]
  },
  {
   "cell_type": "code",
   "execution_count": 38,
   "id": "4168341d-2a09-4665-b882-871e3fd7f148",
   "metadata": {},
   "outputs": [
    {
     "data": {
      "text/html": [
       "<div>\n",
       "<style scoped>\n",
       "    .dataframe tbody tr th:only-of-type {\n",
       "        vertical-align: middle;\n",
       "    }\n",
       "\n",
       "    .dataframe tbody tr th {\n",
       "        vertical-align: top;\n",
       "    }\n",
       "\n",
       "    .dataframe thead th {\n",
       "        text-align: right;\n",
       "    }\n",
       "</style>\n",
       "<table border=\"1\" class=\"dataframe\">\n",
       "  <thead>\n",
       "    <tr style=\"text-align: right;\">\n",
       "      <th></th>\n",
       "      <th>device_i_d_hash</th>\n",
       "    </tr>\n",
       "    <tr>\n",
       "      <th>exp_id</th>\n",
       "      <th></th>\n",
       "    </tr>\n",
       "  </thead>\n",
       "  <tbody>\n",
       "    <tr>\n",
       "      <th>246</th>\n",
       "      <td>2484</td>\n",
       "    </tr>\n",
       "    <tr>\n",
       "      <th>247</th>\n",
       "      <td>2513</td>\n",
       "    </tr>\n",
       "    <tr>\n",
       "      <th>248</th>\n",
       "      <td>2537</td>\n",
       "    </tr>\n",
       "  </tbody>\n",
       "</table>\n",
       "</div>"
      ],
      "text/plain": [
       "        device_i_d_hash\n",
       "exp_id                 \n",
       "246                2484\n",
       "247                2513\n",
       "248                2537"
      ]
     },
     "execution_count": 38,
     "metadata": {},
     "output_type": "execute_result"
    }
   ],
   "source": [
    "df_new.groupby(by='exp_id').agg({'device_i_d_hash': 'nunique'})"
   ]
  },
  {
   "cell_type": "markdown",
   "id": "a2bef84a-d6aa-413b-b207-4f9dd8cf8c13",
   "metadata": {},
   "source": [
    "Проверили, что после удаления части данных, остались данные о пользователях из всех трех экспериментальных групп"
   ]
  },
  {
   "cell_type": "markdown",
   "id": "c27fb4ed-4f0d-4d21-9d4f-a01b99f91944",
   "metadata": {},
   "source": [
    "## Шаг 4. Изучение воронки событий"
   ]
  },
  {
   "cell_type": "markdown",
   "id": "22078a73-71a6-4e6a-a5a5-a3d2164c22b0",
   "metadata": {},
   "source": [
    "### Проверка, какие события есть в логах, как часто они встречаются"
   ]
  },
  {
   "cell_type": "code",
   "execution_count": 39,
   "id": "1a38fd12-db9d-49de-88e4-c7e26a295590",
   "metadata": {},
   "outputs": [
    {
     "data": {
      "text/plain": [
       "event_name\n",
       "MainScreenAppear           117328\n",
       "OffersScreenAppear          46333\n",
       "CartScreenAppear            42303\n",
       "PaymentScreenSuccessful     33918\n",
       "Tutorial                     1005\n",
       "Name: count, dtype: int64"
      ]
     },
     "execution_count": 39,
     "metadata": {},
     "output_type": "execute_result"
    }
   ],
   "source": [
    "df_new['event_name'].value_counts().sort_values(ascending=False)"
   ]
  },
  {
   "cell_type": "markdown",
   "id": "3e4b7c75-5dc3-4e05-8333-1f6a9c8611c0",
   "metadata": {},
   "source": [
    "\n",
    "1. MainScreenAppear - просмотр главного экрана\n",
    "2. OffersScreenAppear - просмотр экрана предложений\n",
    "3. CartScreenAppear - просмотр корзины\n",
    "4. PaymentScreenSuccessful - экран оплаты прошел успешно\n",
    "5. Tutorial - руководство"
   ]
  },
  {
   "cell_type": "code",
   "execution_count": 40,
   "id": "d19f8e37-be51-4ee4-b604-b0e5493ab3de",
   "metadata": {},
   "outputs": [
    {
     "data": {
      "text/html": [
       "<div>\n",
       "<style scoped>\n",
       "    .dataframe tbody tr th:only-of-type {\n",
       "        vertical-align: middle;\n",
       "    }\n",
       "\n",
       "    .dataframe tbody tr th {\n",
       "        vertical-align: top;\n",
       "    }\n",
       "\n",
       "    .dataframe thead th {\n",
       "        text-align: right;\n",
       "    }\n",
       "</style>\n",
       "<table border=\"1\" class=\"dataframe\">\n",
       "  <thead>\n",
       "    <tr style=\"text-align: right;\">\n",
       "      <th></th>\n",
       "      <th>event_name</th>\n",
       "      <th>device_i_d_hash</th>\n",
       "      <th>event_timestamp</th>\n",
       "      <th>exp_id</th>\n",
       "      <th>date_time</th>\n",
       "      <th>dt</th>\n",
       "    </tr>\n",
       "  </thead>\n",
       "  <tbody>\n",
       "    <tr>\n",
       "      <th>2828</th>\n",
       "      <td>Tutorial</td>\n",
       "      <td>3737462046622621720</td>\n",
       "      <td>1564618048</td>\n",
       "      <td>246</td>\n",
       "      <td>2019-08-01 00:07:28</td>\n",
       "      <td>2019-08-01</td>\n",
       "    </tr>\n",
       "  </tbody>\n",
       "</table>\n",
       "</div>"
      ],
      "text/plain": [
       "     event_name      device_i_d_hash  event_timestamp  exp_id  \\\n",
       "2828   Tutorial  3737462046622621720       1564618048     246   \n",
       "\n",
       "               date_time         dt  \n",
       "2828 2019-08-01 00:07:28 2019-08-01  "
      ]
     },
     "execution_count": 40,
     "metadata": {},
     "output_type": "execute_result"
    }
   ],
   "source": [
    "df_new.head(1)"
   ]
  },
  {
   "cell_type": "markdown",
   "id": "ce7023aa-4790-4574-a401-413b6228d186",
   "metadata": {},
   "source": [
    "### Проверка, сколько пользователей совершали каждое из событий. Подсчет доли пользователей, которые хоть раз совершали событие."
   ]
  },
  {
   "cell_type": "code",
   "execution_count": 41,
   "id": "8c94e7fc",
   "metadata": {},
   "outputs": [
    {
     "data": {
      "text/html": [
       "<div>\n",
       "<style scoped>\n",
       "    .dataframe tbody tr th:only-of-type {\n",
       "        vertical-align: middle;\n",
       "    }\n",
       "\n",
       "    .dataframe tbody tr th {\n",
       "        vertical-align: top;\n",
       "    }\n",
       "\n",
       "    .dataframe thead th {\n",
       "        text-align: right;\n",
       "    }\n",
       "</style>\n",
       "<table border=\"1\" class=\"dataframe\">\n",
       "  <thead>\n",
       "    <tr style=\"text-align: right;\">\n",
       "      <th></th>\n",
       "      <th>event_name</th>\n",
       "      <th>unique_us</th>\n",
       "    </tr>\n",
       "  </thead>\n",
       "  <tbody>\n",
       "    <tr>\n",
       "      <th>0</th>\n",
       "      <td>CartScreenAppear</td>\n",
       "      <td>3734</td>\n",
       "    </tr>\n",
       "    <tr>\n",
       "      <th>1</th>\n",
       "      <td>MainScreenAppear</td>\n",
       "      <td>7419</td>\n",
       "    </tr>\n",
       "    <tr>\n",
       "      <th>2</th>\n",
       "      <td>OffersScreenAppear</td>\n",
       "      <td>4593</td>\n",
       "    </tr>\n",
       "    <tr>\n",
       "      <th>3</th>\n",
       "      <td>PaymentScreenSuccessful</td>\n",
       "      <td>3539</td>\n",
       "    </tr>\n",
       "    <tr>\n",
       "      <th>4</th>\n",
       "      <td>Tutorial</td>\n",
       "      <td>840</td>\n",
       "    </tr>\n",
       "  </tbody>\n",
       "</table>\n",
       "</div>"
      ],
      "text/plain": [
       "                event_name  unique_us\n",
       "0         CartScreenAppear       3734\n",
       "1         MainScreenAppear       7419\n",
       "2       OffersScreenAppear       4593\n",
       "3  PaymentScreenSuccessful       3539\n",
       "4                 Tutorial        840"
      ]
     },
     "execution_count": 41,
     "metadata": {},
     "output_type": "execute_result"
    }
   ],
   "source": [
    "result_1 = df_new.groupby('event_name').agg({'device_i_d_hash': 'nunique'}).rename(columns={'device_i_d_hash':'unique_us'}).reset_index()\n",
    "result_1"
   ]
  },
  {
   "cell_type": "code",
   "execution_count": 42,
   "id": "78adf4ac",
   "metadata": {},
   "outputs": [
    {
     "data": {
      "text/plain": [
       "7534"
      ]
     },
     "execution_count": 42,
     "metadata": {},
     "output_type": "execute_result"
    }
   ],
   "source": [
    "df_new['device_i_d_hash'].nunique()"
   ]
  },
  {
   "cell_type": "code",
   "execution_count": 43,
   "id": "7ff66859",
   "metadata": {},
   "outputs": [],
   "source": [
    "result_1['count_us'] = 7534"
   ]
  },
  {
   "cell_type": "code",
   "execution_count": 44,
   "id": "03131c77",
   "metadata": {},
   "outputs": [
    {
     "data": {
      "text/html": [
       "<div>\n",
       "<style scoped>\n",
       "    .dataframe tbody tr th:only-of-type {\n",
       "        vertical-align: middle;\n",
       "    }\n",
       "\n",
       "    .dataframe tbody tr th {\n",
       "        vertical-align: top;\n",
       "    }\n",
       "\n",
       "    .dataframe thead th {\n",
       "        text-align: right;\n",
       "    }\n",
       "</style>\n",
       "<table border=\"1\" class=\"dataframe\">\n",
       "  <thead>\n",
       "    <tr style=\"text-align: right;\">\n",
       "      <th></th>\n",
       "      <th>event_name</th>\n",
       "      <th>unique_us</th>\n",
       "      <th>count_us</th>\n",
       "    </tr>\n",
       "  </thead>\n",
       "  <tbody>\n",
       "    <tr>\n",
       "      <th>0</th>\n",
       "      <td>CartScreenAppear</td>\n",
       "      <td>3734</td>\n",
       "      <td>7534</td>\n",
       "    </tr>\n",
       "    <tr>\n",
       "      <th>1</th>\n",
       "      <td>MainScreenAppear</td>\n",
       "      <td>7419</td>\n",
       "      <td>7534</td>\n",
       "    </tr>\n",
       "    <tr>\n",
       "      <th>2</th>\n",
       "      <td>OffersScreenAppear</td>\n",
       "      <td>4593</td>\n",
       "      <td>7534</td>\n",
       "    </tr>\n",
       "    <tr>\n",
       "      <th>3</th>\n",
       "      <td>PaymentScreenSuccessful</td>\n",
       "      <td>3539</td>\n",
       "      <td>7534</td>\n",
       "    </tr>\n",
       "    <tr>\n",
       "      <th>4</th>\n",
       "      <td>Tutorial</td>\n",
       "      <td>840</td>\n",
       "      <td>7534</td>\n",
       "    </tr>\n",
       "  </tbody>\n",
       "</table>\n",
       "</div>"
      ],
      "text/plain": [
       "                event_name  unique_us  count_us\n",
       "0         CartScreenAppear       3734      7534\n",
       "1         MainScreenAppear       7419      7534\n",
       "2       OffersScreenAppear       4593      7534\n",
       "3  PaymentScreenSuccessful       3539      7534\n",
       "4                 Tutorial        840      7534"
      ]
     },
     "execution_count": 44,
     "metadata": {},
     "output_type": "execute_result"
    }
   ],
   "source": [
    "result_1"
   ]
  },
  {
   "cell_type": "code",
   "execution_count": 45,
   "id": "c25cbeaf",
   "metadata": {},
   "outputs": [],
   "source": [
    "result_1['ratio'] = round(result_1['unique_us']/result_1['count_us'],2)"
   ]
  },
  {
   "cell_type": "code",
   "execution_count": 46,
   "id": "c77eeaae",
   "metadata": {},
   "outputs": [
    {
     "data": {
      "text/html": [
       "<div>\n",
       "<style scoped>\n",
       "    .dataframe tbody tr th:only-of-type {\n",
       "        vertical-align: middle;\n",
       "    }\n",
       "\n",
       "    .dataframe tbody tr th {\n",
       "        vertical-align: top;\n",
       "    }\n",
       "\n",
       "    .dataframe thead th {\n",
       "        text-align: right;\n",
       "    }\n",
       "</style>\n",
       "<table border=\"1\" class=\"dataframe\">\n",
       "  <thead>\n",
       "    <tr style=\"text-align: right;\">\n",
       "      <th></th>\n",
       "      <th>event_name</th>\n",
       "      <th>unique_us</th>\n",
       "      <th>count_us</th>\n",
       "      <th>ratio</th>\n",
       "    </tr>\n",
       "  </thead>\n",
       "  <tbody>\n",
       "    <tr>\n",
       "      <th>1</th>\n",
       "      <td>MainScreenAppear</td>\n",
       "      <td>7419</td>\n",
       "      <td>7534</td>\n",
       "      <td>0.98</td>\n",
       "    </tr>\n",
       "    <tr>\n",
       "      <th>2</th>\n",
       "      <td>OffersScreenAppear</td>\n",
       "      <td>4593</td>\n",
       "      <td>7534</td>\n",
       "      <td>0.61</td>\n",
       "    </tr>\n",
       "    <tr>\n",
       "      <th>0</th>\n",
       "      <td>CartScreenAppear</td>\n",
       "      <td>3734</td>\n",
       "      <td>7534</td>\n",
       "      <td>0.50</td>\n",
       "    </tr>\n",
       "    <tr>\n",
       "      <th>3</th>\n",
       "      <td>PaymentScreenSuccessful</td>\n",
       "      <td>3539</td>\n",
       "      <td>7534</td>\n",
       "      <td>0.47</td>\n",
       "    </tr>\n",
       "    <tr>\n",
       "      <th>4</th>\n",
       "      <td>Tutorial</td>\n",
       "      <td>840</td>\n",
       "      <td>7534</td>\n",
       "      <td>0.11</td>\n",
       "    </tr>\n",
       "  </tbody>\n",
       "</table>\n",
       "</div>"
      ],
      "text/plain": [
       "                event_name  unique_us  count_us  ratio\n",
       "1         MainScreenAppear       7419      7534   0.98\n",
       "2       OffersScreenAppear       4593      7534   0.61\n",
       "0         CartScreenAppear       3734      7534   0.50\n",
       "3  PaymentScreenSuccessful       3539      7534   0.47\n",
       "4                 Tutorial        840      7534   0.11"
      ]
     },
     "execution_count": 46,
     "metadata": {},
     "output_type": "execute_result"
    }
   ],
   "source": [
    "result_1.sort_values(by='ratio', ascending = False)"
   ]
  },
  {
   "cell_type": "markdown",
   "id": "8c7af7d2",
   "metadata": {},
   "source": [
    "- 98 % пользователей хотя бы раз заходили на главную страницу\n",
    "- 61 % пользователей хотя бы раз посещали экран с предложением\n",
    "- 50% хотя бы раз заходили в корзину\n",
    "- 47% хотя бы раз производили оплату\n",
    "- 11% хотя бы раз заглядывали в инструкцию\n"
   ]
  },
  {
   "cell_type": "markdown",
   "id": "4ae27882-8a39-4e44-8aa4-5b9de9a7a964",
   "metadata": {},
   "source": [
    "Рассчитали долю пользователей, которые хоть раз совершили событие. Из цифр можно сделать вывод, что в руководство заглядывают обычно 1 раз, иногда чаще. То есть пользователь ответил на свои вопросы и больше к руководству не возвращается. Остальные же события пользуются популярностью. Их пользователи посещают по много раз.\n",
    "\n",
    "\n",
    "Похоже, что цепочка событий происходит так:\n",
    "1. Главный экран\n",
    "2. Изучение предложения\n",
    "3. Корзина, добавление товара\n",
    "4. Оплата\n",
    "\n",
    "Посещение руководства не входит в цепочку и может происходить на любом этапе возникновения вопросов. Во свяком случае по цифрам в таблице, не удается сделать вывод, на каком этапе пользователи чаще всего обращаются к руководству."
   ]
  },
  {
   "cell_type": "markdown",
   "id": "e395addc-d117-44ff-9426-770c89c2c8c9",
   "metadata": {},
   "source": [
    "### По воронке событий необходимо посчитать, какая доля пользователей проходит на следующий шаг воронки (от числа пользователей на предыдущем). То есть для последовательности событий A → B → C"
   ]
  },
  {
   "cell_type": "code",
   "execution_count": 47,
   "id": "40fe6260-8303-4189-94cf-86872f64ba0c",
   "metadata": {},
   "outputs": [
    {
     "data": {
      "text/html": [
       "<div>\n",
       "<style scoped>\n",
       "    .dataframe tbody tr th:only-of-type {\n",
       "        vertical-align: middle;\n",
       "    }\n",
       "\n",
       "    .dataframe tbody tr th {\n",
       "        vertical-align: top;\n",
       "    }\n",
       "\n",
       "    .dataframe thead th {\n",
       "        text-align: right;\n",
       "    }\n",
       "</style>\n",
       "<table border=\"1\" class=\"dataframe\">\n",
       "  <thead>\n",
       "    <tr style=\"text-align: right;\">\n",
       "      <th></th>\n",
       "      <th>device_i_d_hash</th>\n",
       "      <th>ratio</th>\n",
       "    </tr>\n",
       "    <tr>\n",
       "      <th>event_name</th>\n",
       "      <th></th>\n",
       "      <th></th>\n",
       "    </tr>\n",
       "  </thead>\n",
       "  <tbody>\n",
       "    <tr>\n",
       "      <th>MainScreenAppear</th>\n",
       "      <td>7419</td>\n",
       "      <td>1.00</td>\n",
       "    </tr>\n",
       "    <tr>\n",
       "      <th>OffersScreenAppear</th>\n",
       "      <td>4593</td>\n",
       "      <td>0.62</td>\n",
       "    </tr>\n",
       "    <tr>\n",
       "      <th>CartScreenAppear</th>\n",
       "      <td>3734</td>\n",
       "      <td>0.81</td>\n",
       "    </tr>\n",
       "    <tr>\n",
       "      <th>PaymentScreenSuccessful</th>\n",
       "      <td>3539</td>\n",
       "      <td>0.95</td>\n",
       "    </tr>\n",
       "  </tbody>\n",
       "</table>\n",
       "</div>"
      ],
      "text/plain": [
       "                         device_i_d_hash  ratio\n",
       "event_name                                     \n",
       "MainScreenAppear                    7419   1.00\n",
       "OffersScreenAppear                  4593   0.62\n",
       "CartScreenAppear                    3734   0.81\n",
       "PaymentScreenSuccessful             3539   0.95"
      ]
     },
     "execution_count": 47,
     "metadata": {},
     "output_type": "execute_result"
    }
   ],
   "source": [
    "result_0 = df_new.groupby('event_name').agg({'device_i_d_hash':'nunique'}).sort_values(by='device_i_d_hash', ascending = False)\n",
    "result_0 = result_0.drop(index = ['Tutorial'])\n",
    "result_0['ratio'] =  (result_0['device_i_d_hash'].pct_change() + 1).fillna(1)\n",
    "result_0 = round(result_0, 2)\n",
    "result_0"
   ]
  },
  {
   "cell_type": "markdown",
   "id": "7a115c8e-00a6-4bfd-bd77-28da2c2a9695",
   "metadata": {},
   "source": [
    "Больше всего пользователей теряется на этапе перехода с главного экрана на экран предложения. То есть пользователи смотрят главный экран и не идут дальше. В этот момент теряется 38% пользователей. От оставшихся 4593 пользователей 19% не переходят в корзину. На этапе корзины люди уже более-менее определились надо ли мы совершать покупку и из них НЕ оплачивает заказ 14%"
   ]
  },
  {
   "cell_type": "markdown",
   "id": "5625492a-efb2-4219-8660-d5f200cd102b",
   "metadata": {},
   "source": [
    "### Доля пользователей, которые доходят от первого события до оплаты"
   ]
  },
  {
   "cell_type": "code",
   "execution_count": 48,
   "id": "06596ba7-7c4a-48cb-8915-0679d149ff4a",
   "metadata": {},
   "outputs": [
    {
     "name": "stdout",
     "output_type": "stream",
     "text": [
      "Доля пользователей, которые доходят от главного экрана до оплаты 0.48\n"
     ]
    }
   ],
   "source": [
    "print('Доля пользователей, которые доходят от главного экрана до оплаты', round(result_0.loc['PaymentScreenSuccessful', 'device_i_d_hash'] / result_0.loc['MainScreenAppear', 'device_i_d_hash'],2))"
   ]
  },
  {
   "cell_type": "markdown",
   "id": "4bdf9bea-e971-482a-bd52-6fcde72cb949",
   "metadata": {},
   "source": [
    "## Шаг 5. Изучение результатов эксперимента"
   ]
  },
  {
   "cell_type": "code",
   "execution_count": 49,
   "id": "8510648c-a665-4f8f-bcc8-aa1341b35425",
   "metadata": {},
   "outputs": [
    {
     "name": "stdout",
     "output_type": "stream",
     "text": [
      "Количество событий в группе А1 79302\n",
      "Количетсво пользователей в группе А1 2484\n"
     ]
    }
   ],
   "source": [
    "group_246 = df_new.query('exp_id == 246').copy()\n",
    "event_246 = group_246['exp_id'].count()\n",
    "users_246 = group_246['device_i_d_hash'].nunique()\n",
    "print('Количество событий в группе А1', event_246)\n",
    "print('Количетсво пользователей в группе А1', users_246)"
   ]
  },
  {
   "cell_type": "code",
   "execution_count": 50,
   "id": "88551b4f-309d-4801-abe4-04241ee94b7a",
   "metadata": {},
   "outputs": [
    {
     "name": "stdout",
     "output_type": "stream",
     "text": [
      "Количество событий в группе А2 77022\n",
      "Количетсво пользователей в группе А2 2513\n"
     ]
    }
   ],
   "source": [
    "group_247 = df_new.query('exp_id == 247').copy()\n",
    "event_247 = group_247['exp_id'].count()\n",
    "users_247 = group_247['device_i_d_hash'].nunique()\n",
    "print('Количество событий в группе А2', event_247)\n",
    "print('Количетсво пользователей в группе А2', users_247)"
   ]
  },
  {
   "cell_type": "code",
   "execution_count": 51,
   "id": "6f96657a-c746-4bcc-ae94-753c22ff67d5",
   "metadata": {},
   "outputs": [
    {
     "name": "stdout",
     "output_type": "stream",
     "text": [
      "Количество событий в группе B 84563\n",
      "Количетсво пользователей в группе B 2537\n"
     ]
    }
   ],
   "source": [
    "group_248 = df_new.query('exp_id == 248').copy()\n",
    "event_248 = group_248['exp_id'].count()\n",
    "users_248 = group_248['device_i_d_hash'].nunique()\n",
    "print('Количество событий в группе B', event_248)\n",
    "print('Количетсво пользователей в группе B', users_248)"
   ]
  },
  {
   "cell_type": "markdown",
   "id": "c6107836-8970-4635-8a77-37b11e893c81",
   "metadata": {},
   "source": [
    "### Функция для проверки статистической достоверности отличий доли пользователей, совершивших событие"
   ]
  },
  {
   "cell_type": "code",
   "execution_count": 52,
   "id": "aa18dc48-44fb-404c-9142-0ff8809ef9ae",
   "metadata": {},
   "outputs": [],
   "source": [
    "def ration(one, two, event):\n",
    "\n",
    "    alpha = .05\n",
    "\n",
    "\n",
    "    group_one = df_new.query('exp_id == @one')\n",
    "    group_two = df_new.query('exp_id == @two')\n",
    "\n",
    "    users_one = group_one['device_i_d_hash'].nunique()\n",
    "    users_two = group_two['device_i_d_hash'].nunique()\n",
    "\n",
    "    event_one  = group_one[group_one['event_name']== event]['device_i_d_hash'].nunique()\n",
    "    event_two = group_two[group_two['event_name']== event]['device_i_d_hash'].nunique()\n",
    "\n",
    "    successes = np.array([event_one , event_two])\n",
    "    trials = np.array([users_one, users_two])\n",
    "\n",
    "    # пропорция успехов в первой группе:\n",
    "    p1 = successes[0]/trials[0]\n",
    "\n",
    "    # пропорция успехов во второй группе:\n",
    "    p2 = successes[1]/trials[1]\n",
    "\n",
    "    # пропорция успехов в комбинированном датасете:\n",
    "    p_combined = (successes[0] + successes[1]) / (trials[0] + trials[1])\n",
    "\n",
    "   # разница пропорций в датасетах\n",
    "    difference = p1 - p2 \n",
    "\n",
    "   # считаем статистику в ст.отклонениях стандартного нормального распределения\n",
    "    z_value = difference / mth.sqrt(p_combined * (1 - p_combined) * (1/trials[0] + 1/trials[1]))\n",
    "\n",
    "   # задаем стандартное нормальное распределение (среднее 0, ст.отклонение 1)\n",
    "    distr = st.norm(0, 1) \n",
    "\n",
    "    p_value = (1 - distr.cdf(abs(z_value))) * 2\n",
    "    \n",
    "    if p_value < alpha:\n",
    "        print('Отвергаем нулевую гипотезу: между долями есть значимая разница')\n",
    "    else:\n",
    "        print(\n",
    "        'Не получилось отвергнуть нулевую гипотезу, нет оснований считать доли разными'\n",
    "    ) \n",
    "        \n",
    "    return ('p-значение: ', p_value)"
   ]
  },
  {
   "cell_type": "markdown",
   "id": "9de14bba-1da6-4cbb-8e4d-989ada860e1f",
   "metadata": {},
   "source": [
    "**Формулировка гипотез**\n",
    "\n",
    "- Нулевая гипотеза: между долями пользователей нет значимой разницы\n",
    "- Альтернативная гипотеза: между долями пользователей на этапах есть значимая разница\n",
    "\n",
    "- Уроверь статистической значимости alpha = 0.05\n",
    "- Для проверки гипотезы считаем статистику в стандартных отклонениях стандартного нормального распределения"
   ]
  },
  {
   "cell_type": "code",
   "execution_count": 53,
   "id": "8edc3051-285c-43c1-aee8-ff33e0a0e460",
   "metadata": {},
   "outputs": [],
   "source": [
    "alpha = 0.05"
   ]
  },
  {
   "cell_type": "markdown",
   "id": "ad3604c3-22bb-41a3-bb54-898b0a56e7a1",
   "metadata": {},
   "source": [
    "#### Событие MainScreenAppear, группы А1/А2"
   ]
  },
  {
   "cell_type": "code",
   "execution_count": 54,
   "id": "c110f899-3fa3-4749-ac0f-57b0966a391f",
   "metadata": {},
   "outputs": [
    {
     "name": "stdout",
     "output_type": "stream",
     "text": [
      "Не получилось отвергнуть нулевую гипотезу, нет оснований считать доли разными\n"
     ]
    },
    {
     "data": {
      "text/plain": [
       "('p-значение: ', 0.7570597232046099)"
      ]
     },
     "execution_count": 54,
     "metadata": {},
     "output_type": "execute_result"
    }
   ],
   "source": [
    "ration(246, 247, 'MainScreenAppear')"
   ]
  },
  {
   "cell_type": "markdown",
   "id": "1a248ced-718d-432b-8f35-504791c7f18b",
   "metadata": {},
   "source": [
    "#### Событие OffersScreenAppear, группы А1/А2"
   ]
  },
  {
   "cell_type": "code",
   "execution_count": 55,
   "id": "55b39e0b-a704-4c64-8aef-aaa099c7d0b4",
   "metadata": {},
   "outputs": [
    {
     "name": "stdout",
     "output_type": "stream",
     "text": [
      "Не получилось отвергнуть нулевую гипотезу, нет оснований считать доли разными\n"
     ]
    },
    {
     "data": {
      "text/plain": [
       "('p-значение: ', 0.2480954578522181)"
      ]
     },
     "execution_count": 55,
     "metadata": {},
     "output_type": "execute_result"
    }
   ],
   "source": [
    "ration(246, 247, 'OffersScreenAppear')"
   ]
  },
  {
   "cell_type": "markdown",
   "id": "02cba324-0a8f-4802-b5e8-825506d9a1ae",
   "metadata": {},
   "source": [
    "#### Событие CartScreenAppear, группы А1/А2"
   ]
  },
  {
   "cell_type": "code",
   "execution_count": 56,
   "id": "f06cca42-8356-4149-ab53-e287a8a89eec",
   "metadata": {},
   "outputs": [
    {
     "name": "stdout",
     "output_type": "stream",
     "text": [
      "Не получилось отвергнуть нулевую гипотезу, нет оснований считать доли разными\n"
     ]
    },
    {
     "data": {
      "text/plain": [
       "('p-значение: ', 0.22883372237997213)"
      ]
     },
     "execution_count": 56,
     "metadata": {},
     "output_type": "execute_result"
    }
   ],
   "source": [
    "ration(246, 247, 'CartScreenAppear')"
   ]
  },
  {
   "cell_type": "markdown",
   "id": "b2801854-96ab-45e2-8124-5ede45800d18",
   "metadata": {},
   "source": [
    "#### Событие PaymentScreenSuccessful, группы А1/А2"
   ]
  },
  {
   "cell_type": "code",
   "execution_count": 57,
   "id": "c86f393d-9015-4599-8254-e2a2018e1895",
   "metadata": {},
   "outputs": [
    {
     "name": "stdout",
     "output_type": "stream",
     "text": [
      "Не получилось отвергнуть нулевую гипотезу, нет оснований считать доли разными\n"
     ]
    },
    {
     "data": {
      "text/plain": [
       "('p-значение: ', 0.11456679313141849)"
      ]
     },
     "execution_count": 57,
     "metadata": {},
     "output_type": "execute_result"
    }
   ],
   "source": [
    "ration(246, 247, 'PaymentScreenSuccessful')"
   ]
  },
  {
   "cell_type": "markdown",
   "id": "237e3385-ef19-44ce-867f-a7c9a899a1ed",
   "metadata": {},
   "source": [
    "**ВЫВОД**  А-группам показывали одинаковую старую версию шрифта.  Убедились, что нет статистически значимых различий между долями пользователей А-групп на разных этапах. То есть пользователи были поделены на группы корректно и результатам А/В теста можно будет доверять."
   ]
  },
  {
   "cell_type": "markdown",
   "id": "4a15d737-5e91-4255-8206-8334c634b79f",
   "metadata": {},
   "source": [
    "### Проверка статистической достоверности отличий доли пользователей совершивших событие в группе В и в группах А1, А2"
   ]
  },
  {
   "cell_type": "markdown",
   "id": "86f5965c-ea5d-4674-9e0e-46d96d152ce2",
   "metadata": {},
   "source": [
    "#### Событие MainScreenAppear, группы А1/B"
   ]
  },
  {
   "cell_type": "code",
   "execution_count": 58,
   "id": "351b4446-f64d-4434-99bc-dea8fa049790",
   "metadata": {},
   "outputs": [
    {
     "name": "stdout",
     "output_type": "stream",
     "text": [
      "Не получилось отвергнуть нулевую гипотезу, нет оснований считать доли разными\n"
     ]
    },
    {
     "data": {
      "text/plain": [
       "('p-значение: ', 0.2949721933554552)"
      ]
     },
     "execution_count": 58,
     "metadata": {},
     "output_type": "execute_result"
    }
   ],
   "source": [
    "ration(246, 248, 'MainScreenAppear')"
   ]
  },
  {
   "cell_type": "markdown",
   "id": "8b131875-febb-4aa2-b384-a19512e55747",
   "metadata": {},
   "source": [
    "#### Событие MainScreenAppear, группы А2/B"
   ]
  },
  {
   "cell_type": "code",
   "execution_count": 59,
   "id": "a7334f69-2bda-4fbd-8fac-44169baac00f",
   "metadata": {},
   "outputs": [
    {
     "name": "stdout",
     "output_type": "stream",
     "text": [
      "Не получилось отвергнуть нулевую гипотезу, нет оснований считать доли разными\n"
     ]
    },
    {
     "data": {
      "text/plain": [
       "('p-значение: ', 0.4587053616621515)"
      ]
     },
     "execution_count": 59,
     "metadata": {},
     "output_type": "execute_result"
    }
   ],
   "source": [
    "ration(247, 248, 'MainScreenAppear')"
   ]
  },
  {
   "cell_type": "markdown",
   "id": "ff575c63-2de4-4fbe-b883-f17874f36b71",
   "metadata": {},
   "source": [
    "#### Событие OffersScreenAppear, группы А1/B"
   ]
  },
  {
   "cell_type": "code",
   "execution_count": 60,
   "id": "158de3cc-daec-4187-889e-cc380265fec1",
   "metadata": {},
   "outputs": [
    {
     "name": "stdout",
     "output_type": "stream",
     "text": [
      "Не получилось отвергнуть нулевую гипотезу, нет оснований считать доли разными\n"
     ]
    },
    {
     "data": {
      "text/plain": [
       "('p-значение: ', 0.20836205402738917)"
      ]
     },
     "execution_count": 60,
     "metadata": {},
     "output_type": "execute_result"
    }
   ],
   "source": [
    "ration(246, 248, 'OffersScreenAppear')"
   ]
  },
  {
   "cell_type": "markdown",
   "id": "5959a3bc-cb34-4e30-a1c1-a355e9cf6c11",
   "metadata": {},
   "source": [
    "#### Событие OffersScreenAppear, группы А2/B"
   ]
  },
  {
   "cell_type": "code",
   "execution_count": 61,
   "id": "fbd6e5bc-3f46-4420-8644-355280ff41ef",
   "metadata": {},
   "outputs": [
    {
     "name": "stdout",
     "output_type": "stream",
     "text": [
      "Не получилось отвергнуть нулевую гипотезу, нет оснований считать доли разными\n"
     ]
    },
    {
     "data": {
      "text/plain": [
       "('p-значение: ', 0.9197817830592261)"
      ]
     },
     "execution_count": 61,
     "metadata": {},
     "output_type": "execute_result"
    }
   ],
   "source": [
    "ration(247, 248, 'OffersScreenAppear')"
   ]
  },
  {
   "cell_type": "markdown",
   "id": "38a4dac1-e6f7-4c5a-959f-dcf91ee9aad1",
   "metadata": {},
   "source": [
    "#### Событие CartScreenAppear, группы А1/B"
   ]
  },
  {
   "cell_type": "code",
   "execution_count": 62,
   "id": "54f76dd1-7247-4718-9b63-09c865316cac",
   "metadata": {},
   "outputs": [
    {
     "name": "stdout",
     "output_type": "stream",
     "text": [
      "Не получилось отвергнуть нулевую гипотезу, нет оснований считать доли разными\n"
     ]
    },
    {
     "data": {
      "text/plain": [
       "('p-значение: ', 0.07842923237520116)"
      ]
     },
     "execution_count": 62,
     "metadata": {},
     "output_type": "execute_result"
    }
   ],
   "source": [
    "ration(246, 248, 'CartScreenAppear')"
   ]
  },
  {
   "cell_type": "markdown",
   "id": "6a2adafb-43c0-4bb3-988a-d346c1e5c2c1",
   "metadata": {},
   "source": [
    "#### Событие CartScreenAppear, группы А2/B"
   ]
  },
  {
   "cell_type": "code",
   "execution_count": 63,
   "id": "2ece455d-ce8d-4366-b114-6cc127ed35b1",
   "metadata": {},
   "outputs": [
    {
     "name": "stdout",
     "output_type": "stream",
     "text": [
      "Не получилось отвергнуть нулевую гипотезу, нет оснований считать доли разными\n"
     ]
    },
    {
     "data": {
      "text/plain": [
       "('p-значение: ', 0.5786197879539783)"
      ]
     },
     "execution_count": 63,
     "metadata": {},
     "output_type": "execute_result"
    }
   ],
   "source": [
    "ration(247, 248, 'CartScreenAppear')"
   ]
  },
  {
   "cell_type": "markdown",
   "id": "f3eb42f4-deac-43f3-831d-75d31c1c8687",
   "metadata": {},
   "source": [
    "#### Событие PaymentScreenSuccessful, группы А1/B"
   ]
  },
  {
   "cell_type": "code",
   "execution_count": 64,
   "id": "3e8f8ef7-f584-4cd5-85ae-0fa09d8b4568",
   "metadata": {},
   "outputs": [
    {
     "name": "stdout",
     "output_type": "stream",
     "text": [
      "Не получилось отвергнуть нулевую гипотезу, нет оснований считать доли разными\n"
     ]
    },
    {
     "data": {
      "text/plain": [
       "('p-значение: ', 0.2122553275697796)"
      ]
     },
     "execution_count": 64,
     "metadata": {},
     "output_type": "execute_result"
    }
   ],
   "source": [
    "ration(246, 248, 'PaymentScreenSuccessful')"
   ]
  },
  {
   "cell_type": "markdown",
   "id": "c86d700d-f62c-45c3-943c-2d036597d6d3",
   "metadata": {},
   "source": [
    "#### Событие PaymentScreenSuccessful, группы А2/B"
   ]
  },
  {
   "cell_type": "code",
   "execution_count": 65,
   "id": "631d3a01-46d0-4186-8dd2-28124ea38a69",
   "metadata": {},
   "outputs": [
    {
     "name": "stdout",
     "output_type": "stream",
     "text": [
      "Не получилось отвергнуть нулевую гипотезу, нет оснований считать доли разными\n"
     ]
    },
    {
     "data": {
      "text/plain": [
       "('p-значение: ', 0.7373415053803964)"
      ]
     },
     "execution_count": 65,
     "metadata": {},
     "output_type": "execute_result"
    }
   ],
   "source": [
    "ration(247, 248, 'PaymentScreenSuccessful')"
   ]
  },
  {
   "cell_type": "markdown",
   "id": "b1e5479c-7824-4225-b930-ca6d61a8f9aa",
   "metadata": {},
   "source": [
    "### Проверка объединенной А-группы и В-группы"
   ]
  },
  {
   "cell_type": "markdown",
   "id": "34e9d1bf-1700-4ec8-b2ab-378e33fc2a4a",
   "metadata": {},
   "source": [
    "Доработаем функциию проверки под объединенную АА группу"
   ]
  },
  {
   "cell_type": "code",
   "execution_count": 66,
   "id": "72c5af1e-5b78-4828-8670-db3b0aaa98a6",
   "metadata": {},
   "outputs": [],
   "source": [
    "df_246_247 = df_new.query('exp_id == 246 or exp_id == 247')"
   ]
  },
  {
   "cell_type": "code",
   "execution_count": 67,
   "id": "7a8f7419-de76-4f72-905a-8de9cf1b05c4",
   "metadata": {},
   "outputs": [],
   "source": [
    "def ration_AA_B(event):\n",
    "\n",
    "    alpha = .05\n",
    "\n",
    "\n",
    "    group_one = df_246_247\n",
    "    group_two = df_new.query('exp_id == 248')\n",
    "\n",
    "    users_one = group_one['device_i_d_hash'].nunique()\n",
    "    users_two = group_two['device_i_d_hash'].nunique()\n",
    "\n",
    "    event_one  = group_one[group_one['event_name']== event]['device_i_d_hash'].nunique()\n",
    "    event_two = group_two[group_two['event_name']== event]['device_i_d_hash'].nunique()\n",
    "\n",
    "    successes = np.array([event_one , event_two])\n",
    "    trials = np.array([users_one, users_two])\n",
    "\n",
    "    # пропорция успехов в первой группе:\n",
    "    p1 = successes[0]/trials[0]\n",
    "\n",
    "    # пропорция успехов во второй группе:\n",
    "    p2 = successes[1]/trials[1]\n",
    "\n",
    "    # пропорция успехов в комбинированном датасете:\n",
    "    p_combined = (successes[0] + successes[1]) / (trials[0] + trials[1])\n",
    "\n",
    "   # разница пропорций в датасетах\n",
    "    difference = p1 - p2 \n",
    "\n",
    "   # считаем статистику в ст.отклонениях стандартного нормального распределения\n",
    "    z_value = difference / mth.sqrt(p_combined * (1 - p_combined) * (1/trials[0] + 1/trials[1]))\n",
    "\n",
    "   # задаем стандартное нормальное распределение (среднее 0, ст.отклонение 1)\n",
    "    distr = st.norm(0, 1) \n",
    "\n",
    "    p_value = (1 - distr.cdf(abs(z_value))) * 2\n",
    "    \n",
    "    if p_value < alpha:\n",
    "        print('Отвергаем нулевую гипотезу: между долями есть значимая разница')\n",
    "    else:\n",
    "        print(\n",
    "        'Не получилось отвергнуть нулевую гипотезу, нет оснований считать доли разными'\n",
    "    ) \n",
    "        \n",
    "    return ('p-значение: ', p_value)"
   ]
  },
  {
   "cell_type": "markdown",
   "id": "fb536f16-42f8-416e-9380-80897f5d6880",
   "metadata": {},
   "source": [
    "#### Событие MainScreenAppear, группы А+А/B"
   ]
  },
  {
   "cell_type": "code",
   "execution_count": 68,
   "id": "6b99b347-6943-44bb-b06e-aa6c7fd3b2d8",
   "metadata": {},
   "outputs": [
    {
     "name": "stdout",
     "output_type": "stream",
     "text": [
      "Не получилось отвергнуть нулевую гипотезу, нет оснований считать доли разными\n"
     ]
    },
    {
     "data": {
      "text/plain": [
       "('p-значение: ', 0.29424526837179577)"
      ]
     },
     "execution_count": 68,
     "metadata": {},
     "output_type": "execute_result"
    }
   ],
   "source": [
    "ration_AA_B('MainScreenAppear')"
   ]
  },
  {
   "cell_type": "markdown",
   "id": "e444204a-56d3-45bc-8a35-c329f751135f",
   "metadata": {},
   "source": [
    "#### Событие OffersScreenAppear, группы А+А/B"
   ]
  },
  {
   "cell_type": "code",
   "execution_count": 69,
   "id": "6bd36efb-03a7-4b12-9710-c0afb88c13b5",
   "metadata": {},
   "outputs": [
    {
     "name": "stdout",
     "output_type": "stream",
     "text": [
      "Не получилось отвергнуть нулевую гипотезу, нет оснований считать доли разными\n"
     ]
    },
    {
     "data": {
      "text/plain": [
       "('p-значение: ', 0.43425549655188256)"
      ]
     },
     "execution_count": 69,
     "metadata": {},
     "output_type": "execute_result"
    }
   ],
   "source": [
    "ration_AA_B('OffersScreenAppear')"
   ]
  },
  {
   "cell_type": "markdown",
   "id": "a61b6ef0-a732-42d0-9d3d-a9aee11ba603",
   "metadata": {},
   "source": [
    "#### Событие CartScreenAppear, группы А+А/B"
   ]
  },
  {
   "cell_type": "code",
   "execution_count": 70,
   "id": "9dff7bc8-b190-484f-bb64-3831f7de0fa2",
   "metadata": {},
   "outputs": [
    {
     "name": "stdout",
     "output_type": "stream",
     "text": [
      "Не получилось отвергнуть нулевую гипотезу, нет оснований считать доли разными\n"
     ]
    },
    {
     "data": {
      "text/plain": [
       "('p-значение: ', 0.18175875284404386)"
      ]
     },
     "execution_count": 70,
     "metadata": {},
     "output_type": "execute_result"
    }
   ],
   "source": [
    "ration_AA_B('CartScreenAppear')"
   ]
  },
  {
   "cell_type": "markdown",
   "id": "810f64b5-da5a-40b7-b4a2-4686e3333910",
   "metadata": {},
   "source": [
    "#### Событие PaymentScreenSuccessful, группы А+А/B"
   ]
  },
  {
   "cell_type": "code",
   "execution_count": 71,
   "id": "be96cf17-582b-4256-9736-55dd049d287d",
   "metadata": {},
   "outputs": [
    {
     "name": "stdout",
     "output_type": "stream",
     "text": [
      "Не получилось отвергнуть нулевую гипотезу, нет оснований считать доли разными\n"
     ]
    },
    {
     "data": {
      "text/plain": [
       "('p-значение: ', 0.6004294282308704)"
      ]
     },
     "execution_count": 71,
     "metadata": {},
     "output_type": "execute_result"
    }
   ],
   "source": [
    "ration_AA_B('PaymentScreenSuccessful')"
   ]
  },
  {
   "cell_type": "markdown",
   "id": "d2c08c94-0dc2-4e75-96a3-9a4ec8243279",
   "metadata": {},
   "source": [
    "Ни на одном этапе не получилось отвергнуть нулевую гипотезу, между долями пользователей нет значимой разницы. Это касается и проверки между группами А1, А2. И проверки каждой из групп А с группой В. Получается изменение шрифта не повлияло на поведение пользователей. Они не стали чаще переходить на следующий этап воронки."
   ]
  },
  {
   "cell_type": "markdown",
   "id": "52d2215c-b9e1-4f8f-bbd9-2092f41ab287",
   "metadata": {},
   "source": [
    "**Применим поправку Бонферонни для коррекции уровня значимости**. Разделим текущий уровень значимости 0.05 на 16, т к проводится 16 тестов. Тогда alpha = 0.003. Посчитаем результаты"
   ]
  },
  {
   "cell_type": "code",
   "execution_count": 72,
   "id": "fa8823b2-32c5-43be-9801-42d55ecb75f4",
   "metadata": {},
   "outputs": [],
   "source": [
    "def ration(one, two, event):\n",
    "\n",
    "    alpha = .003\n",
    "\n",
    "\n",
    "    group_one = df_new.query('exp_id == @one')\n",
    "    group_two = df_new.query('exp_id == @two')\n",
    "\n",
    "    users_one = group_one['device_i_d_hash'].nunique()\n",
    "    users_two = group_two['device_i_d_hash'].nunique()\n",
    "\n",
    "    event_one  = group_one[group_one['event_name']== event]['device_i_d_hash'].nunique()\n",
    "    event_two = group_two[group_two['event_name']== event]['device_i_d_hash'].nunique()\n",
    "\n",
    "    successes = np.array([event_one , event_two])\n",
    "    trials = np.array([users_one, users_two])\n",
    "\n",
    "    # пропорция успехов в первой группе:\n",
    "    p1 = successes[0]/trials[0]\n",
    "\n",
    "    # пропорция успехов во второй группе:\n",
    "    p2 = successes[1]/trials[1]\n",
    "\n",
    "    # пропорция успехов в комбинированном датасете:\n",
    "    p_combined = (successes[0] + successes[1]) / (trials[0] + trials[1])\n",
    "\n",
    "   # разница пропорций в датасетах\n",
    "    difference = p1 - p2 \n",
    "\n",
    "   # считаем статистику в ст.отклонениях стандартного нормального распределения\n",
    "    z_value = difference / mth.sqrt(p_combined * (1 - p_combined) * (1/trials[0] + 1/trials[1]))\n",
    "\n",
    "   # задаем стандартное нормальное распределение (среднее 0, ст.отклонение 1)\n",
    "    distr = st.norm(0, 1) \n",
    "\n",
    "    p_value = (1 - distr.cdf(abs(z_value))) * 2\n",
    "    \n",
    "    if p_value < alpha:\n",
    "        print('Отвергаем нулевую гипотезу: между долями есть значимая разница')\n",
    "    else:\n",
    "        print(\n",
    "        'Не получилось отвергнуть нулевую гипотезу, нет оснований считать доли разными'\n",
    "    ) \n",
    "        \n",
    "    return ('p-значение: ', p_value)"
   ]
  },
  {
   "cell_type": "markdown",
   "id": "b7b596e1-41eb-4f7c-9715-5c9cfc1601ab",
   "metadata": {},
   "source": [
    "#### Событие MainScreenAppear, группы А1/B, alpha = 0.003"
   ]
  },
  {
   "cell_type": "code",
   "execution_count": 73,
   "id": "8d3a791f-bfdf-4600-89ef-7eccecf16fbd",
   "metadata": {},
   "outputs": [
    {
     "name": "stdout",
     "output_type": "stream",
     "text": [
      "Не получилось отвергнуть нулевую гипотезу, нет оснований считать доли разными\n"
     ]
    },
    {
     "data": {
      "text/plain": [
       "('p-значение: ', 0.2949721933554552)"
      ]
     },
     "execution_count": 73,
     "metadata": {},
     "output_type": "execute_result"
    }
   ],
   "source": [
    "ration(246, 248, 'MainScreenAppear')"
   ]
  },
  {
   "cell_type": "markdown",
   "id": "e032acd9-f3c5-4cc0-974d-b2f93cf8d206",
   "metadata": {},
   "source": [
    "#### Событие OffersScreenAppear, группы А1/B, alpha = 0.003"
   ]
  },
  {
   "cell_type": "code",
   "execution_count": 74,
   "id": "d90e39a3-f3eb-440f-91fd-8a59bb928839",
   "metadata": {},
   "outputs": [
    {
     "name": "stdout",
     "output_type": "stream",
     "text": [
      "Не получилось отвергнуть нулевую гипотезу, нет оснований считать доли разными\n"
     ]
    },
    {
     "data": {
      "text/plain": [
       "('p-значение: ', 0.20836205402738917)"
      ]
     },
     "execution_count": 74,
     "metadata": {},
     "output_type": "execute_result"
    }
   ],
   "source": [
    "ration(246, 248, 'OffersScreenAppear')"
   ]
  },
  {
   "cell_type": "markdown",
   "id": "59e9026a-193a-4bf7-8d6f-5801515d16b8",
   "metadata": {},
   "source": [
    "#### Событие CartScreenAppear, группы А1/B, alpha = 0.003"
   ]
  },
  {
   "cell_type": "code",
   "execution_count": 75,
   "id": "8dc5547d-0436-4321-9ca0-45d69c196842",
   "metadata": {},
   "outputs": [
    {
     "name": "stdout",
     "output_type": "stream",
     "text": [
      "Не получилось отвергнуть нулевую гипотезу, нет оснований считать доли разными\n"
     ]
    },
    {
     "data": {
      "text/plain": [
       "('p-значение: ', 0.07842923237520116)"
      ]
     },
     "execution_count": 75,
     "metadata": {},
     "output_type": "execute_result"
    }
   ],
   "source": [
    "ration(246, 248, 'CartScreenAppear')"
   ]
  },
  {
   "cell_type": "markdown",
   "id": "cd8fd9ed-e0de-4ff9-b168-5653a2f36f9c",
   "metadata": {},
   "source": [
    "#### Событие PaymentScreenSuccessful, группы А1/B, alpha = 0.003"
   ]
  },
  {
   "cell_type": "code",
   "execution_count": 76,
   "id": "1e98b636-4228-4ace-9b9c-c4d55cfc5518",
   "metadata": {},
   "outputs": [
    {
     "name": "stdout",
     "output_type": "stream",
     "text": [
      "Не получилось отвергнуть нулевую гипотезу, нет оснований считать доли разными\n"
     ]
    },
    {
     "data": {
      "text/plain": [
       "('p-значение: ', 0.2122553275697796)"
      ]
     },
     "execution_count": 76,
     "metadata": {},
     "output_type": "execute_result"
    }
   ],
   "source": [
    "ration(246, 248, 'PaymentScreenSuccessful')"
   ]
  },
  {
   "cell_type": "markdown",
   "id": "214673ab-640b-4524-87b4-fe374e1b0bef",
   "metadata": {},
   "source": [
    "#### Событие MainScreenAppear, группы А2/B, alpha = 0.003"
   ]
  },
  {
   "cell_type": "code",
   "execution_count": 77,
   "id": "d254f1ca-0b1a-4d80-bfa3-fa9d3a86cd14",
   "metadata": {},
   "outputs": [
    {
     "name": "stdout",
     "output_type": "stream",
     "text": [
      "Не получилось отвергнуть нулевую гипотезу, нет оснований считать доли разными\n"
     ]
    },
    {
     "data": {
      "text/plain": [
       "('p-значение: ', 0.4587053616621515)"
      ]
     },
     "execution_count": 77,
     "metadata": {},
     "output_type": "execute_result"
    }
   ],
   "source": [
    "ration(247, 248, 'MainScreenAppear')"
   ]
  },
  {
   "cell_type": "markdown",
   "id": "92c80201-e603-4ffc-a91a-703fc9645b7f",
   "metadata": {},
   "source": [
    "#### Событие OffersScreenAppear, группы А2/B, alpha = 0.003"
   ]
  },
  {
   "cell_type": "code",
   "execution_count": 78,
   "id": "47043b89-326a-400a-af05-21a59fe6b7ad",
   "metadata": {},
   "outputs": [
    {
     "name": "stdout",
     "output_type": "stream",
     "text": [
      "Не получилось отвергнуть нулевую гипотезу, нет оснований считать доли разными\n"
     ]
    },
    {
     "data": {
      "text/plain": [
       "('p-значение: ', 0.9197817830592261)"
      ]
     },
     "execution_count": 78,
     "metadata": {},
     "output_type": "execute_result"
    }
   ],
   "source": [
    "ration(247, 248, 'OffersScreenAppear')"
   ]
  },
  {
   "cell_type": "markdown",
   "id": "72226c67-1f3b-4cd7-b798-821f2c190e03",
   "metadata": {},
   "source": [
    "#### Событие CartScreenAppear, группы А2/B, alpha = 0.003"
   ]
  },
  {
   "cell_type": "code",
   "execution_count": 79,
   "id": "f8eec032-ee10-48f8-8a14-dec8b40e402b",
   "metadata": {},
   "outputs": [
    {
     "name": "stdout",
     "output_type": "stream",
     "text": [
      "Не получилось отвергнуть нулевую гипотезу, нет оснований считать доли разными\n"
     ]
    },
    {
     "data": {
      "text/plain": [
       "('p-значение: ', 0.5786197879539783)"
      ]
     },
     "execution_count": 79,
     "metadata": {},
     "output_type": "execute_result"
    }
   ],
   "source": [
    "ration(247, 248, 'CartScreenAppear')"
   ]
  },
  {
   "cell_type": "markdown",
   "id": "f4cc4408-e480-4460-abcf-90d170029a25",
   "metadata": {},
   "source": [
    "#### Событие PaymentScreenSuccessful, группы А2/B, alpha = 0.003"
   ]
  },
  {
   "cell_type": "code",
   "execution_count": 80,
   "id": "e35bda07-4d24-4747-aa30-35b5f10e64ea",
   "metadata": {},
   "outputs": [
    {
     "name": "stdout",
     "output_type": "stream",
     "text": [
      "Не получилось отвергнуть нулевую гипотезу, нет оснований считать доли разными\n"
     ]
    },
    {
     "data": {
      "text/plain": [
       "('p-значение: ', 0.7373415053803964)"
      ]
     },
     "execution_count": 80,
     "metadata": {},
     "output_type": "execute_result"
    }
   ],
   "source": [
    "ration(247, 248, 'PaymentScreenSuccessful')"
   ]
  },
  {
   "cell_type": "markdown",
   "id": "41e21064-6bdb-4236-bd8d-475de771ef25",
   "metadata": {},
   "source": [
    "#### Проверка объединенной А-группы и В-группы c поправкой Бонферрони"
   ]
  },
  {
   "cell_type": "code",
   "execution_count": 81,
   "id": "728aed9e-65b2-4eda-8379-f2362f99afd9",
   "metadata": {},
   "outputs": [],
   "source": [
    "def ration_AA_B(event):\n",
    "\n",
    "    alpha = .003\n",
    "\n",
    "\n",
    "    group_one = df_246_247\n",
    "    group_two = df_new.query('exp_id == 248')\n",
    "\n",
    "    users_one = group_one['device_i_d_hash'].nunique()\n",
    "    users_two = group_two['device_i_d_hash'].nunique()\n",
    "\n",
    "    event_one  = group_one[group_one['event_name']== event]['device_i_d_hash'].nunique()\n",
    "    event_two = group_two[group_two['event_name']== event]['device_i_d_hash'].nunique()\n",
    "\n",
    "    successes = np.array([event_one , event_two])\n",
    "    trials = np.array([users_one, users_two])\n",
    "\n",
    "    # пропорция успехов в первой группе:\n",
    "    p1 = successes[0]/trials[0]\n",
    "\n",
    "    # пропорция успехов во второй группе:\n",
    "    p2 = successes[1]/trials[1]\n",
    "\n",
    "    # пропорция успехов в комбинированном датасете:\n",
    "    p_combined = (successes[0] + successes[1]) / (trials[0] + trials[1])\n",
    "\n",
    "   # разница пропорций в датасетах\n",
    "    difference = p1 - p2 \n",
    "\n",
    "   # считаем статистику в ст.отклонениях стандартного нормального распределения\n",
    "    z_value = difference / mth.sqrt(p_combined * (1 - p_combined) * (1/trials[0] + 1/trials[1]))\n",
    "\n",
    "   # задаем стандартное нормальное распределение (среднее 0, ст.отклонение 1)\n",
    "    distr = st.norm(0, 1) \n",
    "\n",
    "    p_value = (1 - distr.cdf(abs(z_value))) * 2\n",
    "    \n",
    "    if p_value < alpha:\n",
    "        print('Отвергаем нулевую гипотезу: между долями есть значимая разница')\n",
    "    else:\n",
    "        print(\n",
    "        'Не получилось отвергнуть нулевую гипотезу, нет оснований считать доли разными'\n",
    "    ) \n",
    "        \n",
    "    return ('p-значение: ', p_value)"
   ]
  },
  {
   "cell_type": "markdown",
   "id": "18afb64e-d5aa-4f71-b3c9-e074eaa563a3",
   "metadata": {},
   "source": [
    "#### Событие MainScreenAppear, группы А+А/B"
   ]
  },
  {
   "cell_type": "code",
   "execution_count": 82,
   "id": "f3bc980f-8d3e-45f9-9f56-9364c665c749",
   "metadata": {},
   "outputs": [
    {
     "name": "stdout",
     "output_type": "stream",
     "text": [
      "Не получилось отвергнуть нулевую гипотезу, нет оснований считать доли разными\n"
     ]
    },
    {
     "data": {
      "text/plain": [
       "('p-значение: ', 0.29424526837179577)"
      ]
     },
     "execution_count": 82,
     "metadata": {},
     "output_type": "execute_result"
    }
   ],
   "source": [
    "ration_AA_B('MainScreenAppear')"
   ]
  },
  {
   "cell_type": "markdown",
   "id": "bc605ec2-7896-4065-97c9-f155c93c33d5",
   "metadata": {},
   "source": [
    "#### Событие OffersScreenAppear, группы А+А/B"
   ]
  },
  {
   "cell_type": "code",
   "execution_count": 83,
   "id": "030eb677-9f47-42f5-9962-2fa3064ccfd1",
   "metadata": {},
   "outputs": [
    {
     "name": "stdout",
     "output_type": "stream",
     "text": [
      "Не получилось отвергнуть нулевую гипотезу, нет оснований считать доли разными\n"
     ]
    },
    {
     "data": {
      "text/plain": [
       "('p-значение: ', 0.43425549655188256)"
      ]
     },
     "execution_count": 83,
     "metadata": {},
     "output_type": "execute_result"
    }
   ],
   "source": [
    "ration_AA_B('OffersScreenAppear')"
   ]
  },
  {
   "cell_type": "markdown",
   "id": "8ff23483-7296-4332-9342-91f78826d857",
   "metadata": {
    "tags": []
   },
   "source": [
    "#### Событие CartScreenAppear, группы А+А/B"
   ]
  },
  {
   "cell_type": "code",
   "execution_count": 84,
   "id": "e5cf69d6-ee5f-4c40-b1b8-e4fafc513fc7",
   "metadata": {},
   "outputs": [
    {
     "name": "stdout",
     "output_type": "stream",
     "text": [
      "Не получилось отвергнуть нулевую гипотезу, нет оснований считать доли разными\n"
     ]
    },
    {
     "data": {
      "text/plain": [
       "('p-значение: ', 0.18175875284404386)"
      ]
     },
     "execution_count": 84,
     "metadata": {},
     "output_type": "execute_result"
    }
   ],
   "source": [
    "ration_AA_B('CartScreenAppear')"
   ]
  },
  {
   "cell_type": "markdown",
   "id": "10e6c6f3-68bb-443b-a66f-f1164e8678f3",
   "metadata": {},
   "source": [
    "#### Событие PaymentScreenSuccessful, группы А+А/B"
   ]
  },
  {
   "cell_type": "code",
   "execution_count": 85,
   "id": "b7444e2b-6721-4504-9fce-4a2d9a35d57c",
   "metadata": {},
   "outputs": [
    {
     "name": "stdout",
     "output_type": "stream",
     "text": [
      "Не получилось отвергнуть нулевую гипотезу, нет оснований считать доли разными\n"
     ]
    },
    {
     "data": {
      "text/plain": [
       "('p-значение: ', 0.6004294282308704)"
      ]
     },
     "execution_count": 85,
     "metadata": {},
     "output_type": "execute_result"
    }
   ],
   "source": [
    "ration_AA_B('PaymentScreenSuccessful')"
   ]
  },
  {
   "cell_type": "markdown",
   "id": "33fd5a33-342a-49d3-bac3-58611405d1be",
   "metadata": {},
   "source": [
    "С уровнем статистической значимости = 0.003 также не удалось отвергнуть нулевую гипотезу, нет оснований считать доли пользователей на отдельных этапах разными"
   ]
  },
  {
   "cell_type": "markdown",
   "id": "31405dd3-08bf-4001-a8eb-208d6612bdfe",
   "metadata": {},
   "source": [
    "### Вывод"
   ]
  },
  {
   "cell_type": "markdown",
   "id": "9580adb9-d5a9-4e3a-95cd-ce24e2870048",
   "metadata": {},
   "source": [
    "Ни на одном этапе не получилось отвергнуть нулевую гипотезу, между долями пользователей нет значимой разницы. Это касается и проверки между группами А1, А2. И проверки каждой из групп А с группой В, и сравнения объединенной группы А с группой В. Получается изменение шрифта не повлияло на поведение пользователей. Они не стали чаще переходить на следующий этап воронки.\n",
    "\n",
    "Для проверки результатов эксперимента был выбран уровень значимости 0.05. Также была применена поправка Бонферрони - использовался уровень статистической значимости 0.025.\n",
    "\n",
    "В процессе анализа и тестирования, была сформирована следующая воронка:\n",
    "\n",
    "- Посещение главного экрана\n",
    "- Посещение экрана с предложением\n",
    "- Экран корзины\n",
    "- Экран успешной оплаты\n",
    "\n",
    "Основная потеря пользователей происходит после посещения главного экрана. Пользователи решают продолжать ли взаимодействие дальше или покинуть приложение.  В этот момент теряется 38% пользователей. От оставшихся 4593 пользователей 19% не переходят в корзину. На этапе корзины люди уже более-менее определились надо ли им совершать покупку и из них отказываются от оплаты заказа 14%\n",
    "\n",
    "Доля пользователей, которые доходят от главного экрана до оплаты, составляет 48%"
   ]
  }
 ],
 "metadata": {
  "ExecuteTimeLog": [
   {
    "duration": 1205,
    "start_time": "2024-07-09T16:17:30.204Z"
   },
   {
    "duration": 999,
    "start_time": "2024-07-09T16:17:31.411Z"
   },
   {
    "duration": 9,
    "start_time": "2024-07-09T16:17:32.412Z"
   },
   {
    "duration": 34,
    "start_time": "2024-07-09T16:17:32.423Z"
   },
   {
    "duration": 1066,
    "start_time": "2024-07-09T16:17:32.460Z"
   },
   {
    "duration": 0,
    "start_time": "2024-07-09T16:17:33.529Z"
   },
   {
    "duration": 0,
    "start_time": "2024-07-09T16:17:33.530Z"
   },
   {
    "duration": 0,
    "start_time": "2024-07-09T16:17:33.532Z"
   },
   {
    "duration": 0,
    "start_time": "2024-07-09T16:17:33.533Z"
   },
   {
    "duration": 0,
    "start_time": "2024-07-09T16:17:33.534Z"
   },
   {
    "duration": 0,
    "start_time": "2024-07-09T16:17:33.535Z"
   },
   {
    "duration": 0,
    "start_time": "2024-07-09T16:17:33.536Z"
   },
   {
    "duration": 0,
    "start_time": "2024-07-09T16:17:33.538Z"
   },
   {
    "duration": 0,
    "start_time": "2024-07-09T16:17:33.539Z"
   },
   {
    "duration": 0,
    "start_time": "2024-07-09T16:17:33.540Z"
   },
   {
    "duration": 0,
    "start_time": "2024-07-09T16:17:33.542Z"
   },
   {
    "duration": 0,
    "start_time": "2024-07-09T16:17:33.543Z"
   },
   {
    "duration": 0,
    "start_time": "2024-07-09T16:17:33.545Z"
   },
   {
    "duration": 0,
    "start_time": "2024-07-09T16:17:33.546Z"
   },
   {
    "duration": 0,
    "start_time": "2024-07-09T16:17:33.548Z"
   },
   {
    "duration": 0,
    "start_time": "2024-07-09T16:17:33.549Z"
   },
   {
    "duration": 0,
    "start_time": "2024-07-09T16:17:33.551Z"
   },
   {
    "duration": 0,
    "start_time": "2024-07-09T16:17:33.552Z"
   },
   {
    "duration": 0,
    "start_time": "2024-07-09T16:17:33.554Z"
   },
   {
    "duration": 0,
    "start_time": "2024-07-09T16:17:33.555Z"
   },
   {
    "duration": 0,
    "start_time": "2024-07-09T16:17:33.557Z"
   },
   {
    "duration": 0,
    "start_time": "2024-07-09T16:17:33.558Z"
   },
   {
    "duration": 0,
    "start_time": "2024-07-09T16:17:33.560Z"
   },
   {
    "duration": 0,
    "start_time": "2024-07-09T16:17:33.561Z"
   },
   {
    "duration": 0,
    "start_time": "2024-07-09T16:17:33.563Z"
   },
   {
    "duration": 0,
    "start_time": "2024-07-09T16:17:33.565Z"
   },
   {
    "duration": 0,
    "start_time": "2024-07-09T16:17:33.566Z"
   },
   {
    "duration": 0,
    "start_time": "2024-07-09T16:17:33.567Z"
   },
   {
    "duration": 0,
    "start_time": "2024-07-09T16:17:33.592Z"
   },
   {
    "duration": 0,
    "start_time": "2024-07-09T16:17:33.594Z"
   },
   {
    "duration": 0,
    "start_time": "2024-07-09T16:17:33.595Z"
   },
   {
    "duration": 0,
    "start_time": "2024-07-09T16:17:33.597Z"
   },
   {
    "duration": 0,
    "start_time": "2024-07-09T16:17:33.598Z"
   },
   {
    "duration": 0,
    "start_time": "2024-07-09T16:17:33.599Z"
   },
   {
    "duration": 0,
    "start_time": "2024-07-09T16:17:33.601Z"
   },
   {
    "duration": 0,
    "start_time": "2024-07-09T16:17:33.602Z"
   },
   {
    "duration": 0,
    "start_time": "2024-07-09T16:17:33.604Z"
   },
   {
    "duration": 0,
    "start_time": "2024-07-09T16:17:33.606Z"
   },
   {
    "duration": 0,
    "start_time": "2024-07-09T16:17:33.607Z"
   },
   {
    "duration": 0,
    "start_time": "2024-07-09T16:17:33.608Z"
   },
   {
    "duration": 0,
    "start_time": "2024-07-09T16:17:33.610Z"
   },
   {
    "duration": 0,
    "start_time": "2024-07-09T16:17:33.611Z"
   },
   {
    "duration": 0,
    "start_time": "2024-07-09T16:17:33.612Z"
   },
   {
    "duration": 0,
    "start_time": "2024-07-09T16:17:33.613Z"
   },
   {
    "duration": 0,
    "start_time": "2024-07-09T16:17:33.614Z"
   },
   {
    "duration": 0,
    "start_time": "2024-07-09T16:17:33.615Z"
   },
   {
    "duration": 0,
    "start_time": "2024-07-09T16:17:33.616Z"
   },
   {
    "duration": 0,
    "start_time": "2024-07-09T16:17:33.617Z"
   },
   {
    "duration": 0,
    "start_time": "2024-07-09T16:17:33.618Z"
   },
   {
    "duration": 0,
    "start_time": "2024-07-09T16:17:33.619Z"
   },
   {
    "duration": 1191,
    "start_time": "2024-07-09T16:22:33.733Z"
   },
   {
    "duration": 353,
    "start_time": "2024-07-09T16:22:34.927Z"
   },
   {
    "duration": 13,
    "start_time": "2024-07-09T16:22:35.282Z"
   },
   {
    "duration": 38,
    "start_time": "2024-07-09T16:22:35.297Z"
   },
   {
    "duration": 1101,
    "start_time": "2024-07-09T16:22:35.336Z"
   },
   {
    "duration": 0,
    "start_time": "2024-07-09T16:22:36.439Z"
   },
   {
    "duration": 0,
    "start_time": "2024-07-09T16:22:36.441Z"
   },
   {
    "duration": 0,
    "start_time": "2024-07-09T16:22:36.443Z"
   },
   {
    "duration": 0,
    "start_time": "2024-07-09T16:22:36.444Z"
   },
   {
    "duration": 0,
    "start_time": "2024-07-09T16:22:36.445Z"
   },
   {
    "duration": 0,
    "start_time": "2024-07-09T16:22:36.446Z"
   },
   {
    "duration": 0,
    "start_time": "2024-07-09T16:22:36.448Z"
   },
   {
    "duration": 0,
    "start_time": "2024-07-09T16:22:36.449Z"
   },
   {
    "duration": 0,
    "start_time": "2024-07-09T16:22:36.450Z"
   },
   {
    "duration": 0,
    "start_time": "2024-07-09T16:22:36.451Z"
   },
   {
    "duration": 0,
    "start_time": "2024-07-09T16:22:36.452Z"
   },
   {
    "duration": 0,
    "start_time": "2024-07-09T16:22:36.453Z"
   },
   {
    "duration": 0,
    "start_time": "2024-07-09T16:22:36.454Z"
   },
   {
    "duration": 0,
    "start_time": "2024-07-09T16:22:36.455Z"
   },
   {
    "duration": 0,
    "start_time": "2024-07-09T16:22:36.457Z"
   },
   {
    "duration": 0,
    "start_time": "2024-07-09T16:22:36.458Z"
   },
   {
    "duration": 0,
    "start_time": "2024-07-09T16:22:36.459Z"
   },
   {
    "duration": 0,
    "start_time": "2024-07-09T16:22:36.460Z"
   },
   {
    "duration": 0,
    "start_time": "2024-07-09T16:22:36.461Z"
   },
   {
    "duration": 0,
    "start_time": "2024-07-09T16:22:36.462Z"
   },
   {
    "duration": 0,
    "start_time": "2024-07-09T16:22:36.463Z"
   },
   {
    "duration": 0,
    "start_time": "2024-07-09T16:22:36.465Z"
   },
   {
    "duration": 0,
    "start_time": "2024-07-09T16:22:36.466Z"
   },
   {
    "duration": 0,
    "start_time": "2024-07-09T16:22:36.467Z"
   },
   {
    "duration": 0,
    "start_time": "2024-07-09T16:22:36.468Z"
   },
   {
    "duration": 0,
    "start_time": "2024-07-09T16:22:36.469Z"
   },
   {
    "duration": 0,
    "start_time": "2024-07-09T16:22:36.470Z"
   },
   {
    "duration": 0,
    "start_time": "2024-07-09T16:22:36.471Z"
   },
   {
    "duration": 0,
    "start_time": "2024-07-09T16:22:36.472Z"
   },
   {
    "duration": 0,
    "start_time": "2024-07-09T16:22:36.473Z"
   },
   {
    "duration": 0,
    "start_time": "2024-07-09T16:22:36.474Z"
   },
   {
    "duration": 0,
    "start_time": "2024-07-09T16:22:36.475Z"
   },
   {
    "duration": 1,
    "start_time": "2024-07-09T16:22:36.476Z"
   },
   {
    "duration": 0,
    "start_time": "2024-07-09T16:22:36.491Z"
   },
   {
    "duration": 0,
    "start_time": "2024-07-09T16:22:36.492Z"
   },
   {
    "duration": 0,
    "start_time": "2024-07-09T16:22:36.494Z"
   },
   {
    "duration": 0,
    "start_time": "2024-07-09T16:22:36.495Z"
   },
   {
    "duration": 0,
    "start_time": "2024-07-09T16:22:36.496Z"
   },
   {
    "duration": 0,
    "start_time": "2024-07-09T16:22:36.497Z"
   },
   {
    "duration": 0,
    "start_time": "2024-07-09T16:22:36.498Z"
   },
   {
    "duration": 0,
    "start_time": "2024-07-09T16:22:36.499Z"
   },
   {
    "duration": 0,
    "start_time": "2024-07-09T16:22:36.500Z"
   },
   {
    "duration": 0,
    "start_time": "2024-07-09T16:22:36.501Z"
   },
   {
    "duration": 0,
    "start_time": "2024-07-09T16:22:36.503Z"
   },
   {
    "duration": 0,
    "start_time": "2024-07-09T16:22:36.504Z"
   },
   {
    "duration": 0,
    "start_time": "2024-07-09T16:22:36.505Z"
   },
   {
    "duration": 0,
    "start_time": "2024-07-09T16:22:36.506Z"
   },
   {
    "duration": 0,
    "start_time": "2024-07-09T16:22:36.507Z"
   },
   {
    "duration": 0,
    "start_time": "2024-07-09T16:22:36.508Z"
   },
   {
    "duration": 0,
    "start_time": "2024-07-09T16:22:36.509Z"
   },
   {
    "duration": 1231,
    "start_time": "2024-07-09T18:01:31.634Z"
   },
   {
    "duration": 968,
    "start_time": "2024-07-09T18:01:32.867Z"
   },
   {
    "duration": 8,
    "start_time": "2024-07-09T18:01:33.836Z"
   },
   {
    "duration": 17,
    "start_time": "2024-07-09T18:01:33.846Z"
   },
   {
    "duration": 958,
    "start_time": "2024-07-09T18:01:33.865Z"
   },
   {
    "duration": 1,
    "start_time": "2024-07-09T18:01:34.825Z"
   },
   {
    "duration": 0,
    "start_time": "2024-07-09T18:01:34.827Z"
   },
   {
    "duration": 0,
    "start_time": "2024-07-09T18:01:34.828Z"
   },
   {
    "duration": 0,
    "start_time": "2024-07-09T18:01:34.830Z"
   },
   {
    "duration": 0,
    "start_time": "2024-07-09T18:01:34.831Z"
   },
   {
    "duration": 0,
    "start_time": "2024-07-09T18:01:34.832Z"
   },
   {
    "duration": 0,
    "start_time": "2024-07-09T18:01:34.834Z"
   },
   {
    "duration": 0,
    "start_time": "2024-07-09T18:01:34.835Z"
   },
   {
    "duration": 0,
    "start_time": "2024-07-09T18:01:34.837Z"
   },
   {
    "duration": 0,
    "start_time": "2024-07-09T18:01:34.838Z"
   },
   {
    "duration": 0,
    "start_time": "2024-07-09T18:01:34.839Z"
   },
   {
    "duration": 1,
    "start_time": "2024-07-09T18:01:34.840Z"
   },
   {
    "duration": 0,
    "start_time": "2024-07-09T18:01:34.842Z"
   },
   {
    "duration": 0,
    "start_time": "2024-07-09T18:01:34.843Z"
   },
   {
    "duration": 0,
    "start_time": "2024-07-09T18:01:34.844Z"
   },
   {
    "duration": 0,
    "start_time": "2024-07-09T18:01:34.846Z"
   },
   {
    "duration": 0,
    "start_time": "2024-07-09T18:01:34.847Z"
   },
   {
    "duration": 0,
    "start_time": "2024-07-09T18:01:34.848Z"
   },
   {
    "duration": 0,
    "start_time": "2024-07-09T18:01:34.849Z"
   },
   {
    "duration": 0,
    "start_time": "2024-07-09T18:01:34.850Z"
   },
   {
    "duration": 0,
    "start_time": "2024-07-09T18:01:34.850Z"
   },
   {
    "duration": 0,
    "start_time": "2024-07-09T18:01:34.851Z"
   },
   {
    "duration": 0,
    "start_time": "2024-07-09T18:01:34.852Z"
   },
   {
    "duration": 0,
    "start_time": "2024-07-09T18:01:34.853Z"
   },
   {
    "duration": 0,
    "start_time": "2024-07-09T18:01:34.854Z"
   },
   {
    "duration": 0,
    "start_time": "2024-07-09T18:01:34.855Z"
   },
   {
    "duration": 0,
    "start_time": "2024-07-09T18:01:34.855Z"
   },
   {
    "duration": 0,
    "start_time": "2024-07-09T18:01:34.856Z"
   },
   {
    "duration": 0,
    "start_time": "2024-07-09T18:01:34.857Z"
   },
   {
    "duration": 0,
    "start_time": "2024-07-09T18:01:34.858Z"
   },
   {
    "duration": 0,
    "start_time": "2024-07-09T18:01:34.859Z"
   },
   {
    "duration": 0,
    "start_time": "2024-07-09T18:01:34.860Z"
   },
   {
    "duration": 0,
    "start_time": "2024-07-09T18:01:34.861Z"
   },
   {
    "duration": 0,
    "start_time": "2024-07-09T18:01:34.862Z"
   },
   {
    "duration": 0,
    "start_time": "2024-07-09T18:01:34.863Z"
   },
   {
    "duration": 0,
    "start_time": "2024-07-09T18:01:34.920Z"
   },
   {
    "duration": 0,
    "start_time": "2024-07-09T18:01:34.921Z"
   },
   {
    "duration": 0,
    "start_time": "2024-07-09T18:01:34.922Z"
   },
   {
    "duration": 0,
    "start_time": "2024-07-09T18:01:34.923Z"
   },
   {
    "duration": 0,
    "start_time": "2024-07-09T18:01:34.924Z"
   },
   {
    "duration": 0,
    "start_time": "2024-07-09T18:01:34.925Z"
   },
   {
    "duration": 0,
    "start_time": "2024-07-09T18:01:34.926Z"
   },
   {
    "duration": 0,
    "start_time": "2024-07-09T18:01:34.927Z"
   },
   {
    "duration": 0,
    "start_time": "2024-07-09T18:01:34.928Z"
   },
   {
    "duration": 0,
    "start_time": "2024-07-09T18:01:34.929Z"
   },
   {
    "duration": 0,
    "start_time": "2024-07-09T18:01:34.930Z"
   },
   {
    "duration": 0,
    "start_time": "2024-07-09T18:01:34.931Z"
   },
   {
    "duration": 0,
    "start_time": "2024-07-09T18:01:34.931Z"
   },
   {
    "duration": 0,
    "start_time": "2024-07-09T18:01:34.932Z"
   },
   {
    "duration": 0,
    "start_time": "2024-07-09T18:01:34.933Z"
   },
   {
    "duration": 7,
    "start_time": "2024-07-09T18:02:11.625Z"
   },
   {
    "duration": 301,
    "start_time": "2024-07-09T18:02:23.349Z"
   },
   {
    "duration": 42,
    "start_time": "2024-07-09T18:02:46.491Z"
   },
   {
    "duration": 297,
    "start_time": "2024-07-09T18:02:51.243Z"
   },
   {
    "duration": 184,
    "start_time": "2024-07-09T18:03:53.062Z"
   },
   {
    "duration": 978,
    "start_time": "2024-07-09T18:03:58.474Z"
   },
   {
    "duration": 209,
    "start_time": "2024-07-09T18:03:59.453Z"
   },
   {
    "duration": 9,
    "start_time": "2024-07-09T18:03:59.663Z"
   },
   {
    "duration": 24,
    "start_time": "2024-07-09T18:03:59.674Z"
   },
   {
    "duration": 8,
    "start_time": "2024-07-09T18:03:59.700Z"
   },
   {
    "duration": 24,
    "start_time": "2024-07-09T18:03:59.709Z"
   },
   {
    "duration": 87,
    "start_time": "2024-07-09T18:03:59.734Z"
   },
   {
    "duration": 78,
    "start_time": "2024-07-09T18:03:59.823Z"
   },
   {
    "duration": 23,
    "start_time": "2024-07-09T18:03:59.903Z"
   },
   {
    "duration": 60,
    "start_time": "2024-07-09T18:03:59.927Z"
   },
   {
    "duration": 9,
    "start_time": "2024-07-09T18:03:59.988Z"
   },
   {
    "duration": 66,
    "start_time": "2024-07-09T18:03:59.998Z"
   },
   {
    "duration": 18,
    "start_time": "2024-07-09T18:04:00.065Z"
   },
   {
    "duration": 52,
    "start_time": "2024-07-09T18:04:00.086Z"
   },
   {
    "duration": 62,
    "start_time": "2024-07-09T18:04:00.140Z"
   },
   {
    "duration": 70,
    "start_time": "2024-07-09T18:04:00.203Z"
   },
   {
    "duration": 81,
    "start_time": "2024-07-09T18:04:00.274Z"
   },
   {
    "duration": 54,
    "start_time": "2024-07-09T18:04:00.357Z"
   },
   {
    "duration": 75,
    "start_time": "2024-07-09T18:04:00.413Z"
   },
   {
    "duration": 15,
    "start_time": "2024-07-09T18:04:00.490Z"
   },
   {
    "duration": 55,
    "start_time": "2024-07-09T18:04:00.507Z"
   },
   {
    "duration": 339,
    "start_time": "2024-07-09T18:04:00.564Z"
   },
   {
    "duration": 27,
    "start_time": "2024-07-09T18:04:00.904Z"
   },
   {
    "duration": 25,
    "start_time": "2024-07-09T18:04:00.932Z"
   },
   {
    "duration": 141,
    "start_time": "2024-07-09T18:04:00.959Z"
   },
   {
    "duration": 38,
    "start_time": "2024-07-09T18:04:01.101Z"
   },
   {
    "duration": 32,
    "start_time": "2024-07-09T18:04:01.141Z"
   },
   {
    "duration": 47,
    "start_time": "2024-07-09T18:04:01.174Z"
   },
   {
    "duration": 59,
    "start_time": "2024-07-09T18:04:01.222Z"
   },
   {
    "duration": 36,
    "start_time": "2024-07-09T18:04:01.282Z"
   },
   {
    "duration": 167,
    "start_time": "2024-07-09T18:04:01.320Z"
   },
   {
    "duration": 88,
    "start_time": "2024-07-09T18:04:01.489Z"
   },
   {
    "duration": 89,
    "start_time": "2024-07-09T18:04:01.578Z"
   },
   {
    "duration": 10,
    "start_time": "2024-07-09T18:04:01.669Z"
   },
   {
    "duration": 75,
    "start_time": "2024-07-09T18:04:01.680Z"
   },
   {
    "duration": 84,
    "start_time": "2024-07-09T18:04:01.757Z"
   },
   {
    "duration": 27,
    "start_time": "2024-07-09T18:04:01.842Z"
   },
   {
    "duration": 36,
    "start_time": "2024-07-09T18:04:01.871Z"
   },
   {
    "duration": 54,
    "start_time": "2024-07-09T18:04:01.908Z"
   },
   {
    "duration": 56,
    "start_time": "2024-07-09T18:04:01.963Z"
   },
   {
    "duration": 30,
    "start_time": "2024-07-09T18:04:02.025Z"
   },
   {
    "duration": 35,
    "start_time": "2024-07-09T18:04:02.056Z"
   },
   {
    "duration": 51,
    "start_time": "2024-07-09T18:04:02.093Z"
   },
   {
    "duration": 32,
    "start_time": "2024-07-09T18:04:02.146Z"
   },
   {
    "duration": 54,
    "start_time": "2024-07-09T18:04:02.179Z"
   },
   {
    "duration": 78,
    "start_time": "2024-07-09T18:04:02.234Z"
   },
   {
    "duration": 101,
    "start_time": "2024-07-09T18:04:02.314Z"
   },
   {
    "duration": 30,
    "start_time": "2024-07-09T18:04:02.417Z"
   },
   {
    "duration": 29,
    "start_time": "2024-07-09T18:04:02.448Z"
   },
   {
    "duration": 66,
    "start_time": "2024-07-09T18:04:02.479Z"
   },
   {
    "duration": 32,
    "start_time": "2024-07-09T18:04:02.547Z"
   },
   {
    "duration": 6,
    "start_time": "2024-07-09T18:04:02.580Z"
   },
   {
    "duration": 74,
    "start_time": "2024-07-09T18:04:02.587Z"
   },
   {
    "duration": 31,
    "start_time": "2024-07-09T18:04:02.663Z"
   },
   {
    "duration": 40,
    "start_time": "2024-07-09T18:04:02.695Z"
   },
   {
    "duration": 27,
    "start_time": "2024-07-09T18:04:02.736Z"
   },
   {
    "duration": 983,
    "start_time": "2024-07-09T18:05:06.578Z"
   },
   {
    "duration": 190,
    "start_time": "2024-07-09T18:05:07.563Z"
   },
   {
    "duration": 13,
    "start_time": "2024-07-09T18:05:07.755Z"
   },
   {
    "duration": 29,
    "start_time": "2024-07-09T18:05:07.770Z"
   },
   {
    "duration": 23,
    "start_time": "2024-07-09T18:05:07.800Z"
   },
   {
    "duration": 16,
    "start_time": "2024-07-09T18:05:07.824Z"
   },
   {
    "duration": 92,
    "start_time": "2024-07-09T18:05:07.841Z"
   },
   {
    "duration": 86,
    "start_time": "2024-07-09T18:05:07.934Z"
   },
   {
    "duration": 14,
    "start_time": "2024-07-09T18:05:08.022Z"
   },
   {
    "duration": 59,
    "start_time": "2024-07-09T18:05:08.038Z"
   },
   {
    "duration": 27,
    "start_time": "2024-07-09T18:05:08.098Z"
   },
   {
    "duration": 46,
    "start_time": "2024-07-09T18:05:08.126Z"
   },
   {
    "duration": 17,
    "start_time": "2024-07-09T18:05:08.174Z"
   },
   {
    "duration": 31,
    "start_time": "2024-07-09T18:05:08.193Z"
   },
   {
    "duration": 10,
    "start_time": "2024-07-09T18:05:08.226Z"
   },
   {
    "duration": 4,
    "start_time": "2024-07-09T18:05:08.238Z"
   },
   {
    "duration": 12,
    "start_time": "2024-07-09T18:05:08.243Z"
   },
   {
    "duration": 6,
    "start_time": "2024-07-09T18:05:08.256Z"
   },
   {
    "duration": 58,
    "start_time": "2024-07-09T18:05:08.263Z"
   },
   {
    "duration": 4,
    "start_time": "2024-07-09T18:05:08.323Z"
   },
   {
    "duration": 5,
    "start_time": "2024-07-09T18:05:08.328Z"
   },
   {
    "duration": 300,
    "start_time": "2024-07-09T18:05:08.335Z"
   },
   {
    "duration": 22,
    "start_time": "2024-07-09T18:05:08.636Z"
   },
   {
    "duration": 18,
    "start_time": "2024-07-09T18:05:08.659Z"
   },
   {
    "duration": 50,
    "start_time": "2024-07-09T18:05:08.679Z"
   },
   {
    "duration": 35,
    "start_time": "2024-07-09T18:05:08.731Z"
   },
   {
    "duration": 12,
    "start_time": "2024-07-09T18:05:08.768Z"
   },
   {
    "duration": 12,
    "start_time": "2024-07-09T18:05:08.784Z"
   },
   {
    "duration": 58,
    "start_time": "2024-07-09T18:05:08.797Z"
   },
   {
    "duration": 19,
    "start_time": "2024-07-09T18:05:08.856Z"
   },
   {
    "duration": 73,
    "start_time": "2024-07-09T18:05:08.876Z"
   },
   {
    "duration": 8,
    "start_time": "2024-07-09T18:05:08.951Z"
   },
   {
    "duration": 125,
    "start_time": "2024-07-09T18:05:08.960Z"
   },
   {
    "duration": 11,
    "start_time": "2024-07-09T18:05:09.087Z"
   },
   {
    "duration": 6,
    "start_time": "2024-07-09T18:05:09.099Z"
   },
   {
    "duration": 23,
    "start_time": "2024-07-09T18:05:09.106Z"
   },
   {
    "duration": 12,
    "start_time": "2024-07-09T18:05:09.131Z"
   },
   {
    "duration": 15,
    "start_time": "2024-07-09T18:05:09.144Z"
   },
   {
    "duration": 6,
    "start_time": "2024-07-09T18:05:09.160Z"
   },
   {
    "duration": 55,
    "start_time": "2024-07-09T18:05:09.168Z"
   },
   {
    "duration": 28,
    "start_time": "2024-07-09T18:05:09.224Z"
   },
   {
    "duration": 29,
    "start_time": "2024-07-09T18:05:09.253Z"
   },
   {
    "duration": 53,
    "start_time": "2024-07-09T18:05:09.284Z"
   },
   {
    "duration": 32,
    "start_time": "2024-07-09T18:05:09.339Z"
   },
   {
    "duration": 32,
    "start_time": "2024-07-09T18:05:09.372Z"
   },
   {
    "duration": 42,
    "start_time": "2024-07-09T18:05:09.405Z"
   },
   {
    "duration": 28,
    "start_time": "2024-07-09T18:05:09.448Z"
   },
   {
    "duration": 50,
    "start_time": "2024-07-09T18:05:09.477Z"
   },
   {
    "duration": 29,
    "start_time": "2024-07-09T18:05:09.528Z"
   },
   {
    "duration": 28,
    "start_time": "2024-07-09T18:05:09.558Z"
   },
   {
    "duration": 45,
    "start_time": "2024-07-09T18:05:09.587Z"
   },
   {
    "duration": 6,
    "start_time": "2024-07-09T18:05:09.633Z"
   },
   {
    "duration": 40,
    "start_time": "2024-07-09T18:05:09.640Z"
   },
   {
    "duration": 40,
    "start_time": "2024-07-09T18:05:09.681Z"
   },
   {
    "duration": 29,
    "start_time": "2024-07-09T18:05:09.722Z"
   },
   {
    "duration": 28,
    "start_time": "2024-07-09T18:05:09.753Z"
   },
   {
    "duration": 1146,
    "start_time": "2024-07-10T10:05:15.959Z"
   },
   {
    "duration": 319,
    "start_time": "2024-07-10T10:05:17.107Z"
   },
   {
    "duration": 11,
    "start_time": "2024-07-10T10:05:17.428Z"
   },
   {
    "duration": 23,
    "start_time": "2024-07-10T10:05:17.440Z"
   },
   {
    "duration": 9,
    "start_time": "2024-07-10T10:05:17.465Z"
   },
   {
    "duration": 22,
    "start_time": "2024-07-10T10:05:17.476Z"
   },
   {
    "duration": 99,
    "start_time": "2024-07-10T10:05:17.500Z"
   },
   {
    "duration": 88,
    "start_time": "2024-07-10T10:05:17.601Z"
   },
   {
    "duration": 19,
    "start_time": "2024-07-10T10:05:17.690Z"
   },
   {
    "duration": 97,
    "start_time": "2024-07-10T10:05:17.712Z"
   },
   {
    "duration": 8,
    "start_time": "2024-07-10T10:05:17.811Z"
   },
   {
    "duration": 118,
    "start_time": "2024-07-10T10:05:17.821Z"
   },
   {
    "duration": 31,
    "start_time": "2024-07-10T10:05:17.941Z"
   },
   {
    "duration": 14,
    "start_time": "2024-07-10T10:05:17.975Z"
   },
   {
    "duration": 9,
    "start_time": "2024-07-10T10:05:17.990Z"
   },
   {
    "duration": 10,
    "start_time": "2024-07-10T10:05:18.001Z"
   },
   {
    "duration": 15,
    "start_time": "2024-07-10T10:05:18.012Z"
   },
   {
    "duration": 5,
    "start_time": "2024-07-10T10:05:18.037Z"
   },
   {
    "duration": 42,
    "start_time": "2024-07-10T10:05:18.043Z"
   },
   {
    "duration": 4,
    "start_time": "2024-07-10T10:05:18.086Z"
   },
   {
    "duration": 4,
    "start_time": "2024-07-10T10:05:18.091Z"
   },
   {
    "duration": 314,
    "start_time": "2024-07-10T10:05:18.096Z"
   },
   {
    "duration": 35,
    "start_time": "2024-07-10T10:05:18.412Z"
   },
   {
    "duration": 30,
    "start_time": "2024-07-10T10:05:18.449Z"
   },
   {
    "duration": 42,
    "start_time": "2024-07-10T10:05:18.480Z"
   },
   {
    "duration": 23,
    "start_time": "2024-07-10T10:05:18.538Z"
   },
   {
    "duration": 16,
    "start_time": "2024-07-10T10:05:18.563Z"
   },
   {
    "duration": 35,
    "start_time": "2024-07-10T10:05:18.583Z"
   },
   {
    "duration": 44,
    "start_time": "2024-07-10T10:05:18.619Z"
   },
   {
    "duration": 25,
    "start_time": "2024-07-10T10:05:18.664Z"
   },
   {
    "duration": 88,
    "start_time": "2024-07-10T10:05:18.691Z"
   },
   {
    "duration": 9,
    "start_time": "2024-07-10T10:05:18.780Z"
   },
   {
    "duration": 88,
    "start_time": "2024-07-10T10:05:18.791Z"
   },
   {
    "duration": 11,
    "start_time": "2024-07-10T10:05:18.881Z"
   },
   {
    "duration": 19,
    "start_time": "2024-07-10T10:05:18.893Z"
   },
   {
    "duration": 52,
    "start_time": "2024-07-10T10:05:18.914Z"
   },
   {
    "duration": 28,
    "start_time": "2024-07-10T10:05:18.968Z"
   },
   {
    "duration": 16,
    "start_time": "2024-07-10T10:05:18.998Z"
   },
   {
    "duration": 18,
    "start_time": "2024-07-10T10:05:19.015Z"
   },
   {
    "duration": 77,
    "start_time": "2024-07-10T10:05:19.034Z"
   },
   {
    "duration": 42,
    "start_time": "2024-07-10T10:05:19.113Z"
   },
   {
    "duration": 35,
    "start_time": "2024-07-10T10:05:19.156Z"
   },
   {
    "duration": 31,
    "start_time": "2024-07-10T10:05:19.192Z"
   },
   {
    "duration": 43,
    "start_time": "2024-07-10T10:05:19.237Z"
   },
   {
    "duration": 34,
    "start_time": "2024-07-10T10:05:19.285Z"
   },
   {
    "duration": 32,
    "start_time": "2024-07-10T10:05:19.338Z"
   },
   {
    "duration": 31,
    "start_time": "2024-07-10T10:05:19.372Z"
   },
   {
    "duration": 62,
    "start_time": "2024-07-10T10:05:19.405Z"
   },
   {
    "duration": 32,
    "start_time": "2024-07-10T10:05:19.468Z"
   },
   {
    "duration": 48,
    "start_time": "2024-07-10T10:05:19.501Z"
   },
   {
    "duration": 29,
    "start_time": "2024-07-10T10:05:19.551Z"
   },
   {
    "duration": 6,
    "start_time": "2024-07-10T10:05:19.582Z"
   },
   {
    "duration": 53,
    "start_time": "2024-07-10T10:05:19.590Z"
   },
   {
    "duration": 33,
    "start_time": "2024-07-10T10:05:19.645Z"
   },
   {
    "duration": 33,
    "start_time": "2024-07-10T10:05:19.679Z"
   },
   {
    "duration": 32,
    "start_time": "2024-07-10T10:05:19.738Z"
   },
   {
    "duration": 1063,
    "start_time": "2024-07-10T10:46:23.814Z"
   },
   {
    "duration": 212,
    "start_time": "2024-07-10T10:46:24.878Z"
   },
   {
    "duration": 9,
    "start_time": "2024-07-10T10:46:25.092Z"
   },
   {
    "duration": 22,
    "start_time": "2024-07-10T10:46:25.102Z"
   },
   {
    "duration": 9,
    "start_time": "2024-07-10T10:46:25.137Z"
   },
   {
    "duration": 16,
    "start_time": "2024-07-10T10:46:25.147Z"
   },
   {
    "duration": 89,
    "start_time": "2024-07-10T10:46:25.164Z"
   },
   {
    "duration": 87,
    "start_time": "2024-07-10T10:46:25.254Z"
   },
   {
    "duration": 15,
    "start_time": "2024-07-10T10:46:25.343Z"
   },
   {
    "duration": 85,
    "start_time": "2024-07-10T10:46:25.360Z"
   },
   {
    "duration": 12,
    "start_time": "2024-07-10T10:46:25.447Z"
   },
   {
    "duration": 51,
    "start_time": "2024-07-10T10:46:25.461Z"
   },
   {
    "duration": 37,
    "start_time": "2024-07-10T10:46:25.514Z"
   },
   {
    "duration": 14,
    "start_time": "2024-07-10T10:46:25.555Z"
   },
   {
    "duration": 36,
    "start_time": "2024-07-10T10:46:25.570Z"
   },
   {
    "duration": 5,
    "start_time": "2024-07-10T10:46:25.608Z"
   },
   {
    "duration": 6,
    "start_time": "2024-07-10T10:46:25.615Z"
   },
   {
    "duration": 9,
    "start_time": "2024-07-10T10:46:25.622Z"
   },
   {
    "duration": 38,
    "start_time": "2024-07-10T10:46:25.636Z"
   },
   {
    "duration": 3,
    "start_time": "2024-07-10T10:46:25.675Z"
   },
   {
    "duration": 12,
    "start_time": "2024-07-10T10:46:25.679Z"
   },
   {
    "duration": 292,
    "start_time": "2024-07-10T10:46:25.692Z"
   },
   {
    "duration": 22,
    "start_time": "2024-07-10T10:46:25.986Z"
   },
   {
    "duration": 39,
    "start_time": "2024-07-10T10:46:26.009Z"
   },
   {
    "duration": 31,
    "start_time": "2024-07-10T10:46:26.050Z"
   },
   {
    "duration": 22,
    "start_time": "2024-07-10T10:46:26.082Z"
   },
   {
    "duration": 9,
    "start_time": "2024-07-10T10:46:26.105Z"
   },
   {
    "duration": 28,
    "start_time": "2024-07-10T10:46:26.116Z"
   },
   {
    "duration": 30,
    "start_time": "2024-07-10T10:46:26.146Z"
   },
   {
    "duration": 23,
    "start_time": "2024-07-10T10:46:26.178Z"
   },
   {
    "duration": 68,
    "start_time": "2024-07-10T10:46:26.203Z"
   },
   {
    "duration": 8,
    "start_time": "2024-07-10T10:46:26.273Z"
   },
   {
    "duration": 65,
    "start_time": "2024-07-10T10:46:26.282Z"
   },
   {
    "duration": 11,
    "start_time": "2024-07-10T10:46:26.348Z"
   },
   {
    "duration": 77,
    "start_time": "2024-07-10T10:46:26.360Z"
   },
   {
    "duration": 13,
    "start_time": "2024-07-10T10:46:26.438Z"
   },
   {
    "duration": 12,
    "start_time": "2024-07-10T10:46:26.452Z"
   },
   {
    "duration": 15,
    "start_time": "2024-07-10T10:46:26.465Z"
   },
   {
    "duration": 6,
    "start_time": "2024-07-10T10:46:26.482Z"
   },
   {
    "duration": 63,
    "start_time": "2024-07-10T10:46:26.489Z"
   },
   {
    "duration": 31,
    "start_time": "2024-07-10T10:46:26.556Z"
   },
   {
    "duration": 30,
    "start_time": "2024-07-10T10:46:26.589Z"
   },
   {
    "duration": 28,
    "start_time": "2024-07-10T10:46:26.637Z"
   },
   {
    "duration": 32,
    "start_time": "2024-07-10T10:46:26.667Z"
   },
   {
    "duration": 52,
    "start_time": "2024-07-10T10:46:26.700Z"
   },
   {
    "duration": 29,
    "start_time": "2024-07-10T10:46:26.754Z"
   },
   {
    "duration": 29,
    "start_time": "2024-07-10T10:46:26.784Z"
   },
   {
    "duration": 32,
    "start_time": "2024-07-10T10:46:26.838Z"
   },
   {
    "duration": 31,
    "start_time": "2024-07-10T10:46:26.872Z"
   },
   {
    "duration": 51,
    "start_time": "2024-07-10T10:46:26.905Z"
   },
   {
    "duration": 31,
    "start_time": "2024-07-10T10:46:26.957Z"
   },
   {
    "duration": 6,
    "start_time": "2024-07-10T10:46:26.989Z"
   },
   {
    "duration": 56,
    "start_time": "2024-07-10T10:46:26.997Z"
   },
   {
    "duration": 31,
    "start_time": "2024-07-10T10:46:27.055Z"
   },
   {
    "duration": 51,
    "start_time": "2024-07-10T10:46:27.087Z"
   },
   {
    "duration": 36,
    "start_time": "2024-07-10T10:46:27.140Z"
   },
   {
    "duration": 1293,
    "start_time": "2024-07-11T14:18:59.575Z"
   },
   {
    "duration": 284,
    "start_time": "2024-07-11T14:19:00.870Z"
   },
   {
    "duration": 9,
    "start_time": "2024-07-11T14:19:01.155Z"
   },
   {
    "duration": 59,
    "start_time": "2024-07-11T14:19:01.166Z"
   },
   {
    "duration": 19,
    "start_time": "2024-07-11T14:19:01.226Z"
   },
   {
    "duration": 54,
    "start_time": "2024-07-11T14:19:01.246Z"
   },
   {
    "duration": 82,
    "start_time": "2024-07-11T14:19:01.301Z"
   },
   {
    "duration": 72,
    "start_time": "2024-07-11T14:19:01.385Z"
   },
   {
    "duration": 12,
    "start_time": "2024-07-11T14:19:01.459Z"
   },
   {
    "duration": 90,
    "start_time": "2024-07-11T14:19:01.473Z"
   },
   {
    "duration": 8,
    "start_time": "2024-07-11T14:19:01.564Z"
   },
   {
    "duration": 68,
    "start_time": "2024-07-11T14:19:01.573Z"
   },
   {
    "duration": 19,
    "start_time": "2024-07-11T14:19:01.642Z"
   },
   {
    "duration": 11,
    "start_time": "2024-07-11T14:19:01.663Z"
   },
   {
    "duration": 14,
    "start_time": "2024-07-11T14:19:01.675Z"
   },
   {
    "duration": 4,
    "start_time": "2024-07-11T14:19:01.690Z"
   },
   {
    "duration": 20,
    "start_time": "2024-07-11T14:19:01.695Z"
   },
   {
    "duration": 5,
    "start_time": "2024-07-11T14:19:01.717Z"
   },
   {
    "duration": 37,
    "start_time": "2024-07-11T14:19:01.723Z"
   },
   {
    "duration": 9,
    "start_time": "2024-07-11T14:19:01.761Z"
   },
   {
    "duration": 16,
    "start_time": "2024-07-11T14:19:01.772Z"
   },
   {
    "duration": 18,
    "start_time": "2024-07-11T14:19:01.789Z"
   },
   {
    "duration": 37,
    "start_time": "2024-07-11T14:19:01.808Z"
   },
   {
    "duration": 4,
    "start_time": "2024-07-11T14:19:01.846Z"
   },
   {
    "duration": 205,
    "start_time": "2024-07-11T14:19:01.851Z"
   },
   {
    "duration": 4,
    "start_time": "2024-07-11T14:19:02.057Z"
   },
   {
    "duration": 16,
    "start_time": "2024-07-11T14:19:02.062Z"
   },
   {
    "duration": 53,
    "start_time": "2024-07-11T14:19:02.081Z"
   },
   {
    "duration": 3,
    "start_time": "2024-07-11T14:19:02.135Z"
   },
   {
    "duration": 12,
    "start_time": "2024-07-11T14:19:02.139Z"
   },
   {
    "duration": 307,
    "start_time": "2024-07-11T14:19:02.152Z"
   },
   {
    "duration": 18,
    "start_time": "2024-07-11T14:19:02.460Z"
   },
   {
    "duration": 17,
    "start_time": "2024-07-11T14:19:02.479Z"
   },
   {
    "duration": 35,
    "start_time": "2024-07-11T14:19:02.497Z"
   },
   {
    "duration": 35,
    "start_time": "2024-07-11T14:19:02.533Z"
   },
   {
    "duration": 40,
    "start_time": "2024-07-11T14:19:02.569Z"
   },
   {
    "duration": 26,
    "start_time": "2024-07-11T14:19:02.610Z"
   },
   {
    "duration": 42,
    "start_time": "2024-07-11T14:19:02.637Z"
   },
   {
    "duration": 18,
    "start_time": "2024-07-11T14:19:02.680Z"
   },
   {
    "duration": 22,
    "start_time": "2024-07-11T14:19:02.700Z"
   },
   {
    "duration": 69,
    "start_time": "2024-07-11T14:19:02.724Z"
   },
   {
    "duration": 50,
    "start_time": "2024-07-11T14:19:02.794Z"
   },
   {
    "duration": 28,
    "start_time": "2024-07-11T14:19:02.845Z"
   },
   {
    "duration": 12,
    "start_time": "2024-07-11T14:19:02.875Z"
   },
   {
    "duration": 75,
    "start_time": "2024-07-11T14:19:02.888Z"
   },
   {
    "duration": 3,
    "start_time": "2024-07-11T14:19:02.964Z"
   },
   {
    "duration": 24,
    "start_time": "2024-07-11T14:19:02.968Z"
   },
   {
    "duration": 39,
    "start_time": "2024-07-11T14:19:02.994Z"
   },
   {
    "duration": 16,
    "start_time": "2024-07-11T14:19:03.035Z"
   },
   {
    "duration": 7,
    "start_time": "2024-07-11T14:19:03.052Z"
   },
   {
    "duration": 15,
    "start_time": "2024-07-11T14:19:03.060Z"
   },
   {
    "duration": 6,
    "start_time": "2024-07-11T14:19:03.076Z"
   },
   {
    "duration": 6,
    "start_time": "2024-07-11T14:19:03.084Z"
   },
   {
    "duration": 41,
    "start_time": "2024-07-11T14:19:03.091Z"
   },
   {
    "duration": 26,
    "start_time": "2024-07-11T14:19:03.133Z"
   },
   {
    "duration": 26,
    "start_time": "2024-07-11T14:19:03.161Z"
   },
   {
    "duration": 27,
    "start_time": "2024-07-11T14:19:03.188Z"
   },
   {
    "duration": 49,
    "start_time": "2024-07-11T14:19:03.216Z"
   },
   {
    "duration": 34,
    "start_time": "2024-07-11T14:19:03.266Z"
   },
   {
    "duration": 28,
    "start_time": "2024-07-11T14:19:03.301Z"
   },
   {
    "duration": 47,
    "start_time": "2024-07-11T14:19:03.330Z"
   },
   {
    "duration": 30,
    "start_time": "2024-07-11T14:19:03.378Z"
   },
   {
    "duration": 50,
    "start_time": "2024-07-11T14:19:03.410Z"
   },
   {
    "duration": 28,
    "start_time": "2024-07-11T14:19:03.461Z"
   },
   {
    "duration": 29,
    "start_time": "2024-07-11T14:19:03.491Z"
   },
   {
    "duration": 9,
    "start_time": "2024-07-11T14:19:03.521Z"
   },
   {
    "duration": 27,
    "start_time": "2024-07-11T14:19:03.531Z"
   },
   {
    "duration": 44,
    "start_time": "2024-07-11T14:19:03.559Z"
   },
   {
    "duration": 28,
    "start_time": "2024-07-11T14:19:03.605Z"
   },
   {
    "duration": 38,
    "start_time": "2024-07-11T14:19:03.635Z"
   },
   {
    "duration": 27,
    "start_time": "2024-07-11T14:19:03.674Z"
   },
   {
    "duration": 6,
    "start_time": "2024-07-11T14:19:03.702Z"
   },
   {
    "duration": 52,
    "start_time": "2024-07-11T14:19:03.710Z"
   },
   {
    "duration": 28,
    "start_time": "2024-07-11T14:19:03.763Z"
   },
   {
    "duration": 74,
    "start_time": "2024-07-11T14:19:03.792Z"
   },
   {
    "duration": 29,
    "start_time": "2024-07-11T14:19:03.868Z"
   },
   {
    "duration": 32,
    "start_time": "2024-07-11T14:19:03.898Z"
   },
   {
    "duration": 52,
    "start_time": "2024-07-11T14:19:03.931Z"
   },
   {
    "duration": 28,
    "start_time": "2024-07-11T14:19:03.985Z"
   },
   {
    "duration": 43,
    "start_time": "2024-07-11T14:19:04.015Z"
   },
   {
    "duration": 54,
    "start_time": "2024-07-12T06:39:20.920Z"
   },
   {
    "duration": 5495,
    "start_time": "2024-07-12T06:39:26.349Z"
   },
   {
    "duration": 266,
    "start_time": "2024-07-12T06:39:31.846Z"
   },
   {
    "duration": 12,
    "start_time": "2024-07-12T06:39:32.113Z"
   },
   {
    "duration": 83,
    "start_time": "2024-07-12T06:39:32.128Z"
   },
   {
    "duration": 12,
    "start_time": "2024-07-12T06:39:32.212Z"
   },
   {
    "duration": 40,
    "start_time": "2024-07-12T06:39:32.226Z"
   },
   {
    "duration": 138,
    "start_time": "2024-07-12T06:39:32.269Z"
   },
   {
    "duration": 100,
    "start_time": "2024-07-12T06:39:32.409Z"
   },
   {
    "duration": 19,
    "start_time": "2024-07-12T06:39:32.511Z"
   },
   {
    "duration": 99,
    "start_time": "2024-07-12T06:39:32.533Z"
   },
   {
    "duration": 14,
    "start_time": "2024-07-12T06:39:32.634Z"
   },
   {
    "duration": 90,
    "start_time": "2024-07-12T06:39:32.650Z"
   },
   {
    "duration": 73,
    "start_time": "2024-07-12T06:39:32.742Z"
   },
   {
    "duration": 22,
    "start_time": "2024-07-12T06:39:32.818Z"
   },
   {
    "duration": 21,
    "start_time": "2024-07-12T06:39:32.842Z"
   },
   {
    "duration": 26,
    "start_time": "2024-07-12T06:39:32.864Z"
   },
   {
    "duration": 13,
    "start_time": "2024-07-12T06:39:32.892Z"
   },
   {
    "duration": 22,
    "start_time": "2024-07-12T06:39:32.908Z"
   },
   {
    "duration": 43,
    "start_time": "2024-07-12T06:39:32.932Z"
   },
   {
    "duration": 30,
    "start_time": "2024-07-12T06:39:32.978Z"
   },
   {
    "duration": 10,
    "start_time": "2024-07-12T06:39:33.010Z"
   },
   {
    "duration": 7,
    "start_time": "2024-07-12T06:39:33.022Z"
   },
   {
    "duration": 68,
    "start_time": "2024-07-12T06:39:33.031Z"
   },
   {
    "duration": 9,
    "start_time": "2024-07-12T06:39:33.101Z"
   },
   {
    "duration": 343,
    "start_time": "2024-07-12T06:39:33.112Z"
   },
   {
    "duration": 5,
    "start_time": "2024-07-12T06:39:33.458Z"
   },
   {
    "duration": 27,
    "start_time": "2024-07-12T06:39:33.465Z"
   },
   {
    "duration": 57,
    "start_time": "2024-07-12T06:39:33.511Z"
   },
   {
    "duration": 5,
    "start_time": "2024-07-12T06:39:33.570Z"
   },
   {
    "duration": 14,
    "start_time": "2024-07-12T06:39:33.583Z"
   },
   {
    "duration": 6,
    "start_time": "2024-07-12T06:39:33.604Z"
   },
   {
    "duration": 416,
    "start_time": "2024-07-12T06:39:33.612Z"
   },
   {
    "duration": 25,
    "start_time": "2024-07-12T06:39:34.030Z"
   },
   {
    "duration": 56,
    "start_time": "2024-07-12T06:39:34.057Z"
   },
   {
    "duration": 36,
    "start_time": "2024-07-12T06:39:34.114Z"
   },
   {
    "duration": 53,
    "start_time": "2024-07-12T06:39:34.152Z"
   },
   {
    "duration": 12,
    "start_time": "2024-07-12T06:39:34.207Z"
   },
   {
    "duration": 13,
    "start_time": "2024-07-12T06:39:34.221Z"
   },
   {
    "duration": 64,
    "start_time": "2024-07-12T06:39:34.236Z"
   },
   {
    "duration": 28,
    "start_time": "2024-07-12T06:39:34.302Z"
   },
   {
    "duration": 11,
    "start_time": "2024-07-12T06:39:34.332Z"
   },
   {
    "duration": 99,
    "start_time": "2024-07-12T06:39:34.344Z"
   },
   {
    "duration": 77,
    "start_time": "2024-07-12T06:39:34.444Z"
   },
   {
    "duration": 28,
    "start_time": "2024-07-12T06:39:34.523Z"
   },
   {
    "duration": 37,
    "start_time": "2024-07-12T06:39:34.553Z"
   },
   {
    "duration": 89,
    "start_time": "2024-07-12T06:39:34.597Z"
   },
   {
    "duration": 7,
    "start_time": "2024-07-12T06:39:34.687Z"
   },
   {
    "duration": 17,
    "start_time": "2024-07-12T06:39:34.697Z"
   },
   {
    "duration": 88,
    "start_time": "2024-07-12T06:39:34.716Z"
   },
   {
    "duration": 23,
    "start_time": "2024-07-12T06:39:34.806Z"
   },
   {
    "duration": 11,
    "start_time": "2024-07-12T06:39:34.831Z"
   },
   {
    "duration": 15,
    "start_time": "2024-07-12T06:39:34.844Z"
   },
   {
    "duration": 25,
    "start_time": "2024-07-12T06:39:34.862Z"
   },
   {
    "duration": 15,
    "start_time": "2024-07-12T06:39:34.888Z"
   },
   {
    "duration": 45,
    "start_time": "2024-07-12T06:39:34.906Z"
   },
   {
    "duration": 62,
    "start_time": "2024-07-12T06:39:34.953Z"
   },
   {
    "duration": 38,
    "start_time": "2024-07-12T06:39:35.017Z"
   },
   {
    "duration": 84,
    "start_time": "2024-07-12T06:39:35.057Z"
   },
   {
    "duration": 68,
    "start_time": "2024-07-12T06:39:35.143Z"
   },
   {
    "duration": 58,
    "start_time": "2024-07-12T06:39:35.213Z"
   },
   {
    "duration": 58,
    "start_time": "2024-07-12T06:39:35.273Z"
   },
   {
    "duration": 69,
    "start_time": "2024-07-12T06:39:35.333Z"
   },
   {
    "duration": 45,
    "start_time": "2024-07-12T06:39:35.404Z"
   },
   {
    "duration": 75,
    "start_time": "2024-07-12T06:39:35.451Z"
   },
   {
    "duration": 58,
    "start_time": "2024-07-12T06:39:35.528Z"
   },
   {
    "duration": 39,
    "start_time": "2024-07-12T06:39:35.587Z"
   },
   {
    "duration": 12,
    "start_time": "2024-07-12T06:39:35.628Z"
   },
   {
    "duration": 7,
    "start_time": "2024-07-12T06:39:35.641Z"
   },
   {
    "duration": 80,
    "start_time": "2024-07-12T06:39:35.650Z"
   },
   {
    "duration": 36,
    "start_time": "2024-07-12T06:39:35.731Z"
   },
   {
    "duration": 46,
    "start_time": "2024-07-12T06:39:35.785Z"
   },
   {
    "duration": 54,
    "start_time": "2024-07-12T06:39:35.832Z"
   },
   {
    "duration": 12,
    "start_time": "2024-07-12T06:39:35.894Z"
   },
   {
    "duration": 65,
    "start_time": "2024-07-12T06:39:35.908Z"
   },
   {
    "duration": 55,
    "start_time": "2024-07-12T06:39:35.975Z"
   },
   {
    "duration": 56,
    "start_time": "2024-07-12T06:39:36.032Z"
   },
   {
    "duration": 41,
    "start_time": "2024-07-12T06:39:36.089Z"
   },
   {
    "duration": 85,
    "start_time": "2024-07-12T06:39:36.132Z"
   },
   {
    "duration": 35,
    "start_time": "2024-07-12T06:39:36.219Z"
   },
   {
    "duration": 74,
    "start_time": "2024-07-12T06:39:36.256Z"
   },
   {
    "duration": 52,
    "start_time": "2024-07-12T06:39:36.332Z"
   },
   {
    "duration": 10,
    "start_time": "2024-07-12T06:40:08.779Z"
   },
   {
    "duration": 1409,
    "start_time": "2024-07-12T06:51:03.354Z"
   },
   {
    "duration": 288,
    "start_time": "2024-07-12T06:51:04.765Z"
   },
   {
    "duration": 12,
    "start_time": "2024-07-12T06:51:05.054Z"
   },
   {
    "duration": 43,
    "start_time": "2024-07-12T06:51:05.082Z"
   },
   {
    "duration": 10,
    "start_time": "2024-07-12T06:51:05.128Z"
   },
   {
    "duration": 47,
    "start_time": "2024-07-12T06:51:05.140Z"
   },
   {
    "duration": 113,
    "start_time": "2024-07-12T06:51:05.189Z"
   },
   {
    "duration": 109,
    "start_time": "2024-07-12T06:51:05.305Z"
   },
   {
    "duration": 20,
    "start_time": "2024-07-12T06:51:05.416Z"
   },
   {
    "duration": 110,
    "start_time": "2024-07-12T06:51:05.439Z"
   },
   {
    "duration": 14,
    "start_time": "2024-07-12T06:51:05.551Z"
   },
   {
    "duration": 92,
    "start_time": "2024-07-12T06:51:05.567Z"
   },
   {
    "duration": 37,
    "start_time": "2024-07-12T06:51:05.660Z"
   },
   {
    "duration": 16,
    "start_time": "2024-07-12T06:51:05.710Z"
   },
   {
    "duration": 16,
    "start_time": "2024-07-12T06:51:05.728Z"
   },
   {
    "duration": 26,
    "start_time": "2024-07-12T06:51:05.746Z"
   },
   {
    "duration": 6,
    "start_time": "2024-07-12T06:51:05.773Z"
   },
   {
    "duration": 25,
    "start_time": "2024-07-12T06:51:05.780Z"
   },
   {
    "duration": 28,
    "start_time": "2024-07-12T06:51:05.807Z"
   },
   {
    "duration": 23,
    "start_time": "2024-07-12T06:51:05.837Z"
   },
   {
    "duration": 23,
    "start_time": "2024-07-12T06:51:05.861Z"
   },
   {
    "duration": 27,
    "start_time": "2024-07-12T06:51:05.886Z"
   },
   {
    "duration": 54,
    "start_time": "2024-07-12T06:51:05.915Z"
   },
   {
    "duration": 8,
    "start_time": "2024-07-12T06:51:05.971Z"
   },
   {
    "duration": 299,
    "start_time": "2024-07-12T06:51:05.981Z"
   },
   {
    "duration": 8,
    "start_time": "2024-07-12T06:51:06.286Z"
   },
   {
    "duration": 14,
    "start_time": "2024-07-12T06:51:06.295Z"
   },
   {
    "duration": 44,
    "start_time": "2024-07-12T06:51:06.311Z"
   },
   {
    "duration": 4,
    "start_time": "2024-07-12T06:51:06.357Z"
   },
   {
    "duration": 51,
    "start_time": "2024-07-12T06:51:06.362Z"
   },
   {
    "duration": 430,
    "start_time": "2024-07-12T06:51:06.418Z"
   },
   {
    "duration": 26,
    "start_time": "2024-07-12T06:51:06.850Z"
   },
   {
    "duration": 42,
    "start_time": "2024-07-12T06:51:06.882Z"
   },
   {
    "duration": 40,
    "start_time": "2024-07-12T06:51:06.926Z"
   },
   {
    "duration": 66,
    "start_time": "2024-07-12T06:51:06.967Z"
   },
   {
    "duration": 22,
    "start_time": "2024-07-12T06:51:07.035Z"
   },
   {
    "duration": 34,
    "start_time": "2024-07-12T06:51:07.059Z"
   },
   {
    "duration": 53,
    "start_time": "2024-07-12T06:51:07.100Z"
   },
   {
    "duration": 34,
    "start_time": "2024-07-12T06:51:07.155Z"
   },
   {
    "duration": 20,
    "start_time": "2024-07-12T06:51:07.195Z"
   },
   {
    "duration": 67,
    "start_time": "2024-07-12T06:51:07.221Z"
   },
   {
    "duration": 66,
    "start_time": "2024-07-12T06:51:07.297Z"
   },
   {
    "duration": 33,
    "start_time": "2024-07-12T06:51:07.365Z"
   },
   {
    "duration": 23,
    "start_time": "2024-07-12T06:51:07.404Z"
   },
   {
    "duration": 89,
    "start_time": "2024-07-12T06:51:07.428Z"
   },
   {
    "duration": 4,
    "start_time": "2024-07-12T06:51:07.518Z"
   },
   {
    "duration": 27,
    "start_time": "2024-07-12T06:51:07.524Z"
   },
   {
    "duration": 13,
    "start_time": "2024-07-12T06:51:07.553Z"
   },
   {
    "duration": 43,
    "start_time": "2024-07-12T06:51:07.568Z"
   },
   {
    "duration": 7,
    "start_time": "2024-07-12T06:51:07.613Z"
   },
   {
    "duration": 6,
    "start_time": "2024-07-12T06:51:07.622Z"
   },
   {
    "duration": 17,
    "start_time": "2024-07-12T06:51:07.630Z"
   },
   {
    "duration": 13,
    "start_time": "2024-07-12T06:51:07.649Z"
   },
   {
    "duration": 65,
    "start_time": "2024-07-12T06:51:07.664Z"
   },
   {
    "duration": 35,
    "start_time": "2024-07-12T06:51:07.732Z"
   },
   {
    "duration": 56,
    "start_time": "2024-07-12T06:51:07.769Z"
   },
   {
    "duration": 76,
    "start_time": "2024-07-12T06:51:07.827Z"
   },
   {
    "duration": 59,
    "start_time": "2024-07-12T06:51:07.905Z"
   },
   {
    "duration": 56,
    "start_time": "2024-07-12T06:51:07.966Z"
   },
   {
    "duration": 39,
    "start_time": "2024-07-12T06:51:08.024Z"
   },
   {
    "duration": 63,
    "start_time": "2024-07-12T06:51:08.065Z"
   },
   {
    "duration": 38,
    "start_time": "2024-07-12T06:51:08.130Z"
   },
   {
    "duration": 50,
    "start_time": "2024-07-12T06:51:08.199Z"
   },
   {
    "duration": 59,
    "start_time": "2024-07-12T06:51:08.251Z"
   },
   {
    "duration": 42,
    "start_time": "2024-07-12T06:51:08.316Z"
   },
   {
    "duration": 14,
    "start_time": "2024-07-12T06:51:08.361Z"
   },
   {
    "duration": 20,
    "start_time": "2024-07-12T06:51:08.377Z"
   },
   {
    "duration": 74,
    "start_time": "2024-07-12T06:51:08.399Z"
   },
   {
    "duration": 55,
    "start_time": "2024-07-12T06:51:08.475Z"
   },
   {
    "duration": 39,
    "start_time": "2024-07-12T06:51:08.532Z"
   },
   {
    "duration": 70,
    "start_time": "2024-07-12T06:51:08.586Z"
   },
   {
    "duration": 10,
    "start_time": "2024-07-12T06:51:08.658Z"
   },
   {
    "duration": 63,
    "start_time": "2024-07-12T06:51:08.670Z"
   },
   {
    "duration": 70,
    "start_time": "2024-07-12T06:51:08.735Z"
   },
   {
    "duration": 40,
    "start_time": "2024-07-12T06:51:08.813Z"
   },
   {
    "duration": 46,
    "start_time": "2024-07-12T06:51:08.855Z"
   },
   {
    "duration": 60,
    "start_time": "2024-07-12T06:51:08.910Z"
   },
   {
    "duration": 52,
    "start_time": "2024-07-12T06:51:08.972Z"
   },
   {
    "duration": 40,
    "start_time": "2024-07-12T06:51:09.026Z"
   },
   {
    "duration": 68,
    "start_time": "2024-07-12T06:51:09.068Z"
   },
   {
    "duration": 1351,
    "start_time": "2024-07-12T06:52:46.021Z"
   },
   {
    "duration": 272,
    "start_time": "2024-07-12T06:52:47.374Z"
   },
   {
    "duration": 12,
    "start_time": "2024-07-12T06:52:47.647Z"
   },
   {
    "duration": 49,
    "start_time": "2024-07-12T06:52:47.663Z"
   },
   {
    "duration": 12,
    "start_time": "2024-07-12T06:52:47.724Z"
   },
   {
    "duration": 38,
    "start_time": "2024-07-12T06:52:47.738Z"
   },
   {
    "duration": 130,
    "start_time": "2024-07-12T06:52:47.777Z"
   },
   {
    "duration": 129,
    "start_time": "2024-07-12T06:52:47.909Z"
   },
   {
    "duration": 18,
    "start_time": "2024-07-12T06:52:48.040Z"
   },
   {
    "duration": 115,
    "start_time": "2024-07-12T06:52:48.061Z"
   },
   {
    "duration": 48,
    "start_time": "2024-07-12T06:52:48.178Z"
   },
   {
    "duration": 109,
    "start_time": "2024-07-12T06:52:48.228Z"
   },
   {
    "duration": 24,
    "start_time": "2024-07-12T06:52:48.339Z"
   },
   {
    "duration": 49,
    "start_time": "2024-07-12T06:52:48.365Z"
   },
   {
    "duration": 18,
    "start_time": "2024-07-12T06:52:48.416Z"
   },
   {
    "duration": 37,
    "start_time": "2024-07-12T06:52:48.436Z"
   },
   {
    "duration": 34,
    "start_time": "2024-07-12T06:52:48.475Z"
   },
   {
    "duration": 5,
    "start_time": "2024-07-12T06:52:48.511Z"
   },
   {
    "duration": 27,
    "start_time": "2024-07-12T06:52:48.518Z"
   },
   {
    "duration": 16,
    "start_time": "2024-07-12T06:52:48.547Z"
   },
   {
    "duration": 30,
    "start_time": "2024-07-12T06:52:48.565Z"
   },
   {
    "duration": 7,
    "start_time": "2024-07-12T06:52:48.602Z"
   },
   {
    "duration": 28,
    "start_time": "2024-07-12T06:52:48.612Z"
   },
   {
    "duration": 6,
    "start_time": "2024-07-12T06:52:48.642Z"
   },
   {
    "duration": 300,
    "start_time": "2024-07-12T06:52:48.650Z"
   },
   {
    "duration": 4,
    "start_time": "2024-07-12T06:52:48.952Z"
   },
   {
    "duration": 7,
    "start_time": "2024-07-12T06:52:48.957Z"
   },
   {
    "duration": 59,
    "start_time": "2024-07-12T06:52:48.989Z"
   },
   {
    "duration": 4,
    "start_time": "2024-07-12T06:52:49.050Z"
   },
   {
    "duration": 18,
    "start_time": "2024-07-12T06:52:49.056Z"
   },
   {
    "duration": 386,
    "start_time": "2024-07-12T06:52:49.076Z"
   },
   {
    "duration": 51,
    "start_time": "2024-07-12T06:52:49.464Z"
   },
   {
    "duration": 35,
    "start_time": "2024-07-12T06:52:49.517Z"
   },
   {
    "duration": 50,
    "start_time": "2024-07-12T06:52:49.554Z"
   },
   {
    "duration": 32,
    "start_time": "2024-07-12T06:52:49.607Z"
   },
   {
    "duration": 15,
    "start_time": "2024-07-12T06:52:49.642Z"
   },
   {
    "duration": 53,
    "start_time": "2024-07-12T06:52:49.658Z"
   },
   {
    "duration": 41,
    "start_time": "2024-07-12T06:52:49.720Z"
   },
   {
    "duration": 76,
    "start_time": "2024-07-12T06:52:49.762Z"
   },
   {
    "duration": 12,
    "start_time": "2024-07-12T06:52:49.840Z"
   },
   {
    "duration": 92,
    "start_time": "2024-07-12T06:52:49.854Z"
   },
   {
    "duration": 77,
    "start_time": "2024-07-12T06:52:49.948Z"
   },
   {
    "duration": 28,
    "start_time": "2024-07-12T06:52:50.027Z"
   },
   {
    "duration": 49,
    "start_time": "2024-07-12T06:52:50.058Z"
   },
   {
    "duration": 90,
    "start_time": "2024-07-12T06:52:50.114Z"
   },
   {
    "duration": 4,
    "start_time": "2024-07-12T06:52:50.212Z"
   },
   {
    "duration": 35,
    "start_time": "2024-07-12T06:52:50.217Z"
   },
   {
    "duration": 14,
    "start_time": "2024-07-12T06:52:50.254Z"
   },
   {
    "duration": 33,
    "start_time": "2024-07-12T06:52:50.269Z"
   },
   {
    "duration": 7,
    "start_time": "2024-07-12T06:52:50.310Z"
   },
   {
    "duration": 7,
    "start_time": "2024-07-12T06:52:50.319Z"
   },
   {
    "duration": 9,
    "start_time": "2024-07-12T06:52:50.328Z"
   },
   {
    "duration": 13,
    "start_time": "2024-07-12T06:52:50.338Z"
   },
   {
    "duration": 74,
    "start_time": "2024-07-12T06:52:50.353Z"
   },
   {
    "duration": 37,
    "start_time": "2024-07-12T06:52:50.429Z"
   },
   {
    "duration": 46,
    "start_time": "2024-07-12T06:52:50.488Z"
   },
   {
    "duration": 34,
    "start_time": "2024-07-12T06:52:50.536Z"
   },
   {
    "duration": 66,
    "start_time": "2024-07-12T06:52:50.572Z"
   },
   {
    "duration": 68,
    "start_time": "2024-07-12T06:52:50.639Z"
   },
   {
    "duration": 37,
    "start_time": "2024-07-12T06:52:50.712Z"
   },
   {
    "duration": 50,
    "start_time": "2024-07-12T06:52:50.751Z"
   },
   {
    "duration": 61,
    "start_time": "2024-07-12T06:52:50.803Z"
   },
   {
    "duration": 53,
    "start_time": "2024-07-12T06:52:50.866Z"
   },
   {
    "duration": 35,
    "start_time": "2024-07-12T06:52:50.921Z"
   },
   {
    "duration": 63,
    "start_time": "2024-07-12T06:52:50.958Z"
   },
   {
    "duration": 15,
    "start_time": "2024-07-12T06:52:51.023Z"
   },
   {
    "duration": 11,
    "start_time": "2024-07-12T06:52:51.040Z"
   },
   {
    "duration": 90,
    "start_time": "2024-07-12T06:52:51.053Z"
   },
   {
    "duration": 38,
    "start_time": "2024-07-12T06:52:51.144Z"
   },
   {
    "duration": 56,
    "start_time": "2024-07-12T06:52:51.184Z"
   },
   {
    "duration": 86,
    "start_time": "2024-07-12T06:52:51.242Z"
   },
   {
    "duration": 8,
    "start_time": "2024-07-12T06:52:51.330Z"
   },
   {
    "duration": 60,
    "start_time": "2024-07-12T06:52:51.340Z"
   },
   {
    "duration": 56,
    "start_time": "2024-07-12T06:52:51.402Z"
   },
   {
    "duration": 60,
    "start_time": "2024-07-12T06:52:51.460Z"
   },
   {
    "duration": 36,
    "start_time": "2024-07-12T06:52:51.521Z"
   },
   {
    "duration": 83,
    "start_time": "2024-07-12T06:52:51.559Z"
   },
   {
    "duration": 47,
    "start_time": "2024-07-12T06:52:51.644Z"
   },
   {
    "duration": 43,
    "start_time": "2024-07-12T06:52:51.704Z"
   },
   {
    "duration": 41,
    "start_time": "2024-07-12T06:52:51.749Z"
   },
   {
    "duration": 1383,
    "start_time": "2024-07-14T10:38:44.024Z"
   },
   {
    "duration": 817,
    "start_time": "2024-07-14T10:38:45.409Z"
   },
   {
    "duration": 10,
    "start_time": "2024-07-14T10:38:46.228Z"
   },
   {
    "duration": 56,
    "start_time": "2024-07-14T10:38:46.240Z"
   },
   {
    "duration": 17,
    "start_time": "2024-07-14T10:38:46.297Z"
   },
   {
    "duration": 52,
    "start_time": "2024-07-14T10:38:46.316Z"
   },
   {
    "duration": 91,
    "start_time": "2024-07-14T10:38:46.370Z"
   },
   {
    "duration": 86,
    "start_time": "2024-07-14T10:38:46.462Z"
   },
   {
    "duration": 24,
    "start_time": "2024-07-14T10:38:46.550Z"
   },
   {
    "duration": 100,
    "start_time": "2024-07-14T10:38:46.576Z"
   },
   {
    "duration": 9,
    "start_time": "2024-07-14T10:38:46.678Z"
   },
   {
    "duration": 82,
    "start_time": "2024-07-14T10:38:46.688Z"
   },
   {
    "duration": 54,
    "start_time": "2024-07-14T10:38:46.772Z"
   },
   {
    "duration": 28,
    "start_time": "2024-07-14T10:38:46.828Z"
   },
   {
    "duration": 36,
    "start_time": "2024-07-14T10:38:46.858Z"
   },
   {
    "duration": 21,
    "start_time": "2024-07-14T10:38:46.896Z"
   },
   {
    "duration": 28,
    "start_time": "2024-07-14T10:38:46.918Z"
   },
   {
    "duration": 61,
    "start_time": "2024-07-14T10:38:46.948Z"
   },
   {
    "duration": 68,
    "start_time": "2024-07-14T10:38:47.010Z"
   },
   {
    "duration": 24,
    "start_time": "2024-07-14T10:38:47.079Z"
   },
   {
    "duration": 37,
    "start_time": "2024-07-14T10:38:47.104Z"
   },
   {
    "duration": 33,
    "start_time": "2024-07-14T10:38:47.142Z"
   },
   {
    "duration": 77,
    "start_time": "2024-07-14T10:38:47.176Z"
   },
   {
    "duration": 22,
    "start_time": "2024-07-14T10:38:47.255Z"
   },
   {
    "duration": 254,
    "start_time": "2024-07-14T10:38:47.278Z"
   },
   {
    "duration": 5,
    "start_time": "2024-07-14T10:38:47.533Z"
   },
   {
    "duration": 36,
    "start_time": "2024-07-14T10:38:47.539Z"
   },
   {
    "duration": 64,
    "start_time": "2024-07-14T10:38:47.579Z"
   },
   {
    "duration": 5,
    "start_time": "2024-07-14T10:38:47.645Z"
   },
   {
    "duration": 35,
    "start_time": "2024-07-14T10:38:47.651Z"
   },
   {
    "duration": 334,
    "start_time": "2024-07-14T10:38:47.687Z"
   },
   {
    "duration": 23,
    "start_time": "2024-07-14T10:38:48.022Z"
   },
   {
    "duration": 31,
    "start_time": "2024-07-14T10:38:48.047Z"
   },
   {
    "duration": 46,
    "start_time": "2024-07-14T10:38:48.079Z"
   },
   {
    "duration": 23,
    "start_time": "2024-07-14T10:38:48.126Z"
   },
   {
    "duration": 36,
    "start_time": "2024-07-14T10:38:48.151Z"
   },
   {
    "duration": 25,
    "start_time": "2024-07-14T10:38:48.189Z"
   },
   {
    "duration": 42,
    "start_time": "2024-07-14T10:38:48.215Z"
   },
   {
    "duration": 25,
    "start_time": "2024-07-14T10:38:48.259Z"
   },
   {
    "duration": 22,
    "start_time": "2024-07-14T10:38:48.285Z"
   },
   {
    "duration": 69,
    "start_time": "2024-07-14T10:38:48.309Z"
   },
   {
    "duration": 51,
    "start_time": "2024-07-14T10:38:48.380Z"
   },
   {
    "duration": 35,
    "start_time": "2024-07-14T10:38:48.432Z"
   },
   {
    "duration": 13,
    "start_time": "2024-07-14T10:38:48.469Z"
   },
   {
    "duration": 95,
    "start_time": "2024-07-14T10:38:48.483Z"
   },
   {
    "duration": 3,
    "start_time": "2024-07-14T10:38:48.580Z"
   },
   {
    "duration": 82,
    "start_time": "2024-07-14T10:38:48.585Z"
   },
   {
    "duration": 29,
    "start_time": "2024-07-14T10:38:48.668Z"
   },
   {
    "duration": 25,
    "start_time": "2024-07-14T10:38:48.698Z"
   },
   {
    "duration": 23,
    "start_time": "2024-07-14T10:38:48.724Z"
   },
   {
    "duration": 33,
    "start_time": "2024-07-14T10:38:48.749Z"
   },
   {
    "duration": 28,
    "start_time": "2024-07-14T10:38:48.783Z"
   },
   {
    "duration": 35,
    "start_time": "2024-07-14T10:38:48.813Z"
   },
   {
    "duration": 66,
    "start_time": "2024-07-14T10:38:48.849Z"
   },
   {
    "duration": 30,
    "start_time": "2024-07-14T10:38:48.917Z"
   },
   {
    "duration": 37,
    "start_time": "2024-07-14T10:38:48.949Z"
   },
   {
    "duration": 30,
    "start_time": "2024-07-14T10:38:48.988Z"
   },
   {
    "duration": 47,
    "start_time": "2024-07-14T10:38:49.019Z"
   },
   {
    "duration": 33,
    "start_time": "2024-07-14T10:38:49.067Z"
   },
   {
    "duration": 33,
    "start_time": "2024-07-14T10:38:49.101Z"
   },
   {
    "duration": 54,
    "start_time": "2024-07-14T10:38:49.135Z"
   },
   {
    "duration": 32,
    "start_time": "2024-07-14T10:38:49.191Z"
   },
   {
    "duration": 52,
    "start_time": "2024-07-14T10:38:49.224Z"
   },
   {
    "duration": 32,
    "start_time": "2024-07-14T10:38:49.278Z"
   },
   {
    "duration": 49,
    "start_time": "2024-07-14T10:38:49.312Z"
   },
   {
    "duration": 11,
    "start_time": "2024-07-14T10:38:49.363Z"
   },
   {
    "duration": 24,
    "start_time": "2024-07-14T10:38:49.376Z"
   },
   {
    "duration": 81,
    "start_time": "2024-07-14T10:38:49.402Z"
   },
   {
    "duration": 32,
    "start_time": "2024-07-14T10:38:49.484Z"
   },
   {
    "duration": 53,
    "start_time": "2024-07-14T10:38:49.518Z"
   },
   {
    "duration": 30,
    "start_time": "2024-07-14T10:38:49.573Z"
   },
   {
    "duration": 6,
    "start_time": "2024-07-14T10:38:49.605Z"
   },
   {
    "duration": 53,
    "start_time": "2024-07-14T10:38:49.612Z"
   },
   {
    "duration": 32,
    "start_time": "2024-07-14T10:38:49.667Z"
   },
   {
    "duration": 39,
    "start_time": "2024-07-14T10:38:49.701Z"
   },
   {
    "duration": 50,
    "start_time": "2024-07-14T10:38:49.741Z"
   },
   {
    "duration": 75,
    "start_time": "2024-07-14T10:38:49.794Z"
   },
   {
    "duration": 42,
    "start_time": "2024-07-14T10:38:49.871Z"
   },
   {
    "duration": 49,
    "start_time": "2024-07-14T10:38:49.915Z"
   },
   {
    "duration": 37,
    "start_time": "2024-07-14T10:38:49.966Z"
   },
   {
    "duration": 57,
    "start_time": "2024-07-14T10:41:21.798Z"
   },
   {
    "duration": 7,
    "start_time": "2024-07-14T10:42:01.719Z"
   },
   {
    "duration": 3,
    "start_time": "2024-07-14T10:42:40.957Z"
   },
   {
    "duration": 7,
    "start_time": "2024-07-14T10:42:44.180Z"
   },
   {
    "duration": 53,
    "start_time": "2024-07-14T10:42:53.128Z"
   },
   {
    "duration": 7,
    "start_time": "2024-07-14T10:42:53.461Z"
   },
   {
    "duration": 3,
    "start_time": "2024-07-14T10:42:53.903Z"
   },
   {
    "duration": 6,
    "start_time": "2024-07-14T10:42:54.283Z"
   },
   {
    "duration": 4,
    "start_time": "2024-07-14T10:43:23.311Z"
   },
   {
    "duration": 7,
    "start_time": "2024-07-14T10:43:25.607Z"
   },
   {
    "duration": 90,
    "start_time": "2024-07-14T10:46:28.467Z"
   },
   {
    "duration": 96,
    "start_time": "2024-07-14T10:46:30.501Z"
   },
   {
    "duration": 10,
    "start_time": "2024-07-14T10:46:42.289Z"
   },
   {
    "duration": 3,
    "start_time": "2024-07-14T10:47:02.054Z"
   },
   {
    "duration": 8,
    "start_time": "2024-07-14T10:47:04.401Z"
   },
   {
    "duration": 9,
    "start_time": "2024-07-14T10:47:34.567Z"
   },
   {
    "duration": 1481,
    "start_time": "2024-07-14T14:06:36.072Z"
   },
   {
    "duration": 790,
    "start_time": "2024-07-14T14:06:37.556Z"
   },
   {
    "duration": 13,
    "start_time": "2024-07-14T14:06:38.350Z"
   },
   {
    "duration": 26,
    "start_time": "2024-07-14T14:06:38.364Z"
   },
   {
    "duration": 10,
    "start_time": "2024-07-14T14:06:38.392Z"
   },
   {
    "duration": 45,
    "start_time": "2024-07-14T14:06:38.404Z"
   },
   {
    "duration": 113,
    "start_time": "2024-07-14T14:06:38.451Z"
   },
   {
    "duration": 107,
    "start_time": "2024-07-14T14:06:38.566Z"
   },
   {
    "duration": 25,
    "start_time": "2024-07-14T14:06:38.676Z"
   },
   {
    "duration": 86,
    "start_time": "2024-07-14T14:06:38.702Z"
   },
   {
    "duration": 9,
    "start_time": "2024-07-14T14:06:38.790Z"
   },
   {
    "duration": 80,
    "start_time": "2024-07-14T14:06:38.801Z"
   },
   {
    "duration": 34,
    "start_time": "2024-07-14T14:06:38.883Z"
   },
   {
    "duration": 15,
    "start_time": "2024-07-14T14:06:38.918Z"
   },
   {
    "duration": 22,
    "start_time": "2024-07-14T14:06:38.935Z"
   },
   {
    "duration": 5,
    "start_time": "2024-07-14T14:06:38.959Z"
   },
   {
    "duration": 6,
    "start_time": "2024-07-14T14:06:38.966Z"
   },
   {
    "duration": 17,
    "start_time": "2024-07-14T14:06:38.974Z"
   },
   {
    "duration": 53,
    "start_time": "2024-07-14T14:06:38.993Z"
   },
   {
    "duration": 16,
    "start_time": "2024-07-14T14:06:39.047Z"
   },
   {
    "duration": 9,
    "start_time": "2024-07-14T14:06:39.064Z"
   },
   {
    "duration": 6,
    "start_time": "2024-07-14T14:06:39.075Z"
   },
   {
    "duration": 27,
    "start_time": "2024-07-14T14:06:39.082Z"
   },
   {
    "duration": 35,
    "start_time": "2024-07-14T14:06:39.111Z"
   },
   {
    "duration": 256,
    "start_time": "2024-07-14T14:06:39.148Z"
   },
   {
    "duration": 4,
    "start_time": "2024-07-14T14:06:39.406Z"
   },
   {
    "duration": 4,
    "start_time": "2024-07-14T14:06:39.416Z"
   },
   {
    "duration": 60,
    "start_time": "2024-07-14T14:06:39.422Z"
   },
   {
    "duration": 4,
    "start_time": "2024-07-14T14:06:39.484Z"
   },
   {
    "duration": 12,
    "start_time": "2024-07-14T14:06:39.491Z"
   },
   {
    "duration": 362,
    "start_time": "2024-07-14T14:06:39.505Z"
   },
   {
    "duration": 30,
    "start_time": "2024-07-14T14:06:39.870Z"
   },
   {
    "duration": 24,
    "start_time": "2024-07-14T14:06:39.901Z"
   },
   {
    "duration": 52,
    "start_time": "2024-07-14T14:06:39.926Z"
   },
   {
    "duration": 26,
    "start_time": "2024-07-14T14:06:39.980Z"
   },
   {
    "duration": 41,
    "start_time": "2024-07-14T14:06:40.008Z"
   },
   {
    "duration": 12,
    "start_time": "2024-07-14T14:06:40.051Z"
   },
   {
    "duration": 37,
    "start_time": "2024-07-14T14:06:40.065Z"
   },
   {
    "duration": 45,
    "start_time": "2024-07-14T14:06:40.103Z"
   },
   {
    "duration": 14,
    "start_time": "2024-07-14T14:06:40.150Z"
   },
   {
    "duration": 63,
    "start_time": "2024-07-14T14:06:40.165Z"
   },
   {
    "duration": 19,
    "start_time": "2024-07-14T14:06:40.230Z"
   },
   {
    "duration": 4,
    "start_time": "2024-07-14T14:06:40.251Z"
   },
   {
    "duration": 12,
    "start_time": "2024-07-14T14:06:40.257Z"
   },
   {
    "duration": 5,
    "start_time": "2024-07-14T14:06:40.271Z"
   },
   {
    "duration": 12,
    "start_time": "2024-07-14T14:06:40.278Z"
   },
   {
    "duration": 83,
    "start_time": "2024-07-14T14:06:40.291Z"
   },
   {
    "duration": 4,
    "start_time": "2024-07-14T14:06:40.375Z"
   },
   {
    "duration": 14,
    "start_time": "2024-07-14T14:06:40.381Z"
   },
   {
    "duration": 14,
    "start_time": "2024-07-14T14:06:40.397Z"
   },
   {
    "duration": 44,
    "start_time": "2024-07-14T14:06:40.412Z"
   },
   {
    "duration": 7,
    "start_time": "2024-07-14T14:06:40.459Z"
   },
   {
    "duration": 4,
    "start_time": "2024-07-14T14:06:40.468Z"
   },
   {
    "duration": 49,
    "start_time": "2024-07-14T14:06:40.473Z"
   },
   {
    "duration": 54,
    "start_time": "2024-07-14T14:06:40.524Z"
   },
   {
    "duration": 34,
    "start_time": "2024-07-14T14:06:40.580Z"
   },
   {
    "duration": 56,
    "start_time": "2024-07-14T14:06:40.615Z"
   },
   {
    "duration": 36,
    "start_time": "2024-07-14T14:06:40.673Z"
   },
   {
    "duration": 53,
    "start_time": "2024-07-14T14:06:40.711Z"
   },
   {
    "duration": 34,
    "start_time": "2024-07-14T14:06:40.765Z"
   },
   {
    "duration": 52,
    "start_time": "2024-07-14T14:06:40.800Z"
   },
   {
    "duration": 36,
    "start_time": "2024-07-14T14:06:40.853Z"
   },
   {
    "duration": 56,
    "start_time": "2024-07-14T14:06:40.891Z"
   },
   {
    "duration": 48,
    "start_time": "2024-07-14T14:06:40.949Z"
   },
   {
    "duration": 57,
    "start_time": "2024-07-14T14:06:40.998Z"
   },
   {
    "duration": 11,
    "start_time": "2024-07-14T14:06:41.057Z"
   },
   {
    "duration": 6,
    "start_time": "2024-07-14T14:06:41.071Z"
   },
   {
    "duration": 69,
    "start_time": "2024-07-14T14:06:41.078Z"
   },
   {
    "duration": 34,
    "start_time": "2024-07-14T14:06:41.148Z"
   },
   {
    "duration": 34,
    "start_time": "2024-07-14T14:06:41.184Z"
   },
   {
    "duration": 57,
    "start_time": "2024-07-14T14:06:41.220Z"
   },
   {
    "duration": 7,
    "start_time": "2024-07-14T14:06:41.279Z"
   },
   {
    "duration": 62,
    "start_time": "2024-07-14T14:06:41.287Z"
   },
   {
    "duration": 35,
    "start_time": "2024-07-14T14:06:41.350Z"
   },
   {
    "duration": 34,
    "start_time": "2024-07-14T14:06:41.387Z"
   },
   {
    "duration": 34,
    "start_time": "2024-07-14T14:06:41.446Z"
   },
   {
    "duration": 38,
    "start_time": "2024-07-14T14:06:41.481Z"
   },
   {
    "duration": 65,
    "start_time": "2024-07-14T14:06:41.520Z"
   },
   {
    "duration": 35,
    "start_time": "2024-07-14T14:06:41.587Z"
   },
   {
    "duration": 33,
    "start_time": "2024-07-14T14:06:41.645Z"
   },
   {
    "duration": 6,
    "start_time": "2024-07-14T14:06:41.683Z"
   },
   {
    "duration": 57,
    "start_time": "2024-07-14T14:06:41.690Z"
   },
   {
    "duration": 35,
    "start_time": "2024-07-14T14:06:41.748Z"
   },
   {
    "duration": 36,
    "start_time": "2024-07-14T14:06:41.785Z"
   },
   {
    "duration": 56,
    "start_time": "2024-07-14T14:06:41.822Z"
   },
   {
    "duration": 1141,
    "start_time": "2024-07-15T09:22:10.722Z"
   },
   {
    "duration": 883,
    "start_time": "2024-07-15T09:22:11.865Z"
   },
   {
    "duration": 11,
    "start_time": "2024-07-15T09:22:12.749Z"
   },
   {
    "duration": 53,
    "start_time": "2024-07-15T09:22:12.761Z"
   },
   {
    "duration": 9,
    "start_time": "2024-07-15T09:22:12.816Z"
   },
   {
    "duration": 34,
    "start_time": "2024-07-15T09:22:12.827Z"
   },
   {
    "duration": 89,
    "start_time": "2024-07-15T09:22:12.863Z"
   },
   {
    "duration": 94,
    "start_time": "2024-07-15T09:22:12.954Z"
   },
   {
    "duration": 16,
    "start_time": "2024-07-15T09:22:13.050Z"
   },
   {
    "duration": 84,
    "start_time": "2024-07-15T09:22:13.067Z"
   },
   {
    "duration": 10,
    "start_time": "2024-07-15T09:22:13.152Z"
   },
   {
    "duration": 77,
    "start_time": "2024-07-15T09:22:13.163Z"
   },
   {
    "duration": 21,
    "start_time": "2024-07-15T09:22:13.242Z"
   },
   {
    "duration": 21,
    "start_time": "2024-07-15T09:22:13.266Z"
   },
   {
    "duration": 14,
    "start_time": "2024-07-15T09:22:13.288Z"
   },
   {
    "duration": 5,
    "start_time": "2024-07-15T09:22:13.303Z"
   },
   {
    "duration": 5,
    "start_time": "2024-07-15T09:22:13.309Z"
   },
   {
    "duration": 8,
    "start_time": "2024-07-15T09:22:13.315Z"
   },
   {
    "duration": 22,
    "start_time": "2024-07-15T09:22:13.324Z"
   },
   {
    "duration": 13,
    "start_time": "2024-07-15T09:22:13.382Z"
   },
   {
    "duration": 42,
    "start_time": "2024-07-15T09:22:13.397Z"
   },
   {
    "duration": 6,
    "start_time": "2024-07-15T09:22:13.441Z"
   },
   {
    "duration": 25,
    "start_time": "2024-07-15T09:22:13.449Z"
   },
   {
    "duration": 5,
    "start_time": "2024-07-15T09:22:13.475Z"
   },
   {
    "duration": 222,
    "start_time": "2024-07-15T09:22:13.482Z"
   },
   {
    "duration": 3,
    "start_time": "2024-07-15T09:22:13.706Z"
   },
   {
    "duration": 21,
    "start_time": "2024-07-15T09:22:13.710Z"
   },
   {
    "duration": 34,
    "start_time": "2024-07-15T09:22:13.733Z"
   },
   {
    "duration": 33,
    "start_time": "2024-07-15T09:22:13.768Z"
   },
   {
    "duration": 7,
    "start_time": "2024-07-15T09:22:13.802Z"
   },
   {
    "duration": 298,
    "start_time": "2024-07-15T09:22:13.810Z"
   },
   {
    "duration": 21,
    "start_time": "2024-07-15T09:22:14.110Z"
   },
   {
    "duration": 22,
    "start_time": "2024-07-15T09:22:14.133Z"
   },
   {
    "duration": 52,
    "start_time": "2024-07-15T09:22:14.157Z"
   },
   {
    "duration": 24,
    "start_time": "2024-07-15T09:22:14.211Z"
   },
   {
    "duration": 11,
    "start_time": "2024-07-15T09:22:14.236Z"
   },
   {
    "duration": 37,
    "start_time": "2024-07-15T09:22:14.249Z"
   },
   {
    "duration": 37,
    "start_time": "2024-07-15T09:22:14.287Z"
   },
   {
    "duration": 24,
    "start_time": "2024-07-15T09:22:14.326Z"
   },
   {
    "duration": 15,
    "start_time": "2024-07-15T09:22:14.352Z"
   },
   {
    "duration": 52,
    "start_time": "2024-07-15T09:22:14.381Z"
   },
   {
    "duration": 6,
    "start_time": "2024-07-15T09:22:14.434Z"
   },
   {
    "duration": 3,
    "start_time": "2024-07-15T09:22:14.442Z"
   },
   {
    "duration": 7,
    "start_time": "2024-07-15T09:22:14.446Z"
   },
   {
    "duration": 28,
    "start_time": "2024-07-15T09:22:14.454Z"
   },
   {
    "duration": 9,
    "start_time": "2024-07-15T09:22:14.483Z"
   },
   {
    "duration": 55,
    "start_time": "2024-07-15T09:22:14.493Z"
   },
   {
    "duration": 4,
    "start_time": "2024-07-15T09:22:14.549Z"
   },
   {
    "duration": 33,
    "start_time": "2024-07-15T09:22:14.555Z"
   },
   {
    "duration": 39,
    "start_time": "2024-07-15T09:22:14.590Z"
   },
   {
    "duration": 30,
    "start_time": "2024-07-15T09:22:14.630Z"
   },
   {
    "duration": 6,
    "start_time": "2024-07-15T09:22:14.662Z"
   },
   {
    "duration": 4,
    "start_time": "2024-07-15T09:22:14.670Z"
   },
   {
    "duration": 36,
    "start_time": "2024-07-15T09:22:14.675Z"
   },
   {
    "duration": 35,
    "start_time": "2024-07-15T09:22:14.712Z"
   },
   {
    "duration": 48,
    "start_time": "2024-07-15T09:22:14.748Z"
   },
   {
    "duration": 58,
    "start_time": "2024-07-15T09:22:14.797Z"
   },
   {
    "duration": 33,
    "start_time": "2024-07-15T09:22:14.856Z"
   },
   {
    "duration": 32,
    "start_time": "2024-07-15T09:22:14.891Z"
   },
   {
    "duration": 30,
    "start_time": "2024-07-15T09:22:14.924Z"
   },
   {
    "duration": 57,
    "start_time": "2024-07-15T09:22:14.955Z"
   },
   {
    "duration": 34,
    "start_time": "2024-07-15T09:22:15.013Z"
   },
   {
    "duration": 53,
    "start_time": "2024-07-15T09:22:15.048Z"
   },
   {
    "duration": 32,
    "start_time": "2024-07-15T09:22:15.103Z"
   },
   {
    "duration": 54,
    "start_time": "2024-07-15T09:22:15.137Z"
   },
   {
    "duration": 11,
    "start_time": "2024-07-15T09:22:15.193Z"
   },
   {
    "duration": 13,
    "start_time": "2024-07-15T09:22:15.206Z"
   },
   {
    "duration": 45,
    "start_time": "2024-07-15T09:22:15.220Z"
   },
   {
    "duration": 46,
    "start_time": "2024-07-15T09:22:15.266Z"
   },
   {
    "duration": 34,
    "start_time": "2024-07-15T09:22:15.314Z"
   },
   {
    "duration": 55,
    "start_time": "2024-07-15T09:22:15.349Z"
   },
   {
    "duration": 5,
    "start_time": "2024-07-15T09:22:15.406Z"
   },
   {
    "duration": 44,
    "start_time": "2024-07-15T09:22:15.413Z"
   },
   {
    "duration": 43,
    "start_time": "2024-07-15T09:22:15.458Z"
   },
   {
    "duration": 33,
    "start_time": "2024-07-15T09:22:15.502Z"
   },
   {
    "duration": 47,
    "start_time": "2024-07-15T09:22:15.536Z"
   },
   {
    "duration": 36,
    "start_time": "2024-07-15T09:22:15.585Z"
   },
   {
    "duration": 31,
    "start_time": "2024-07-15T09:22:15.623Z"
   },
   {
    "duration": 56,
    "start_time": "2024-07-15T09:22:15.656Z"
   },
   {
    "duration": 29,
    "start_time": "2024-07-15T09:22:15.714Z"
   },
   {
    "duration": 6,
    "start_time": "2024-07-15T09:22:15.745Z"
   },
   {
    "duration": 98,
    "start_time": "2024-07-15T09:22:15.752Z"
   },
   {
    "duration": 30,
    "start_time": "2024-07-15T09:22:15.852Z"
   },
   {
    "duration": 33,
    "start_time": "2024-07-15T09:22:15.884Z"
   },
   {
    "duration": 30,
    "start_time": "2024-07-15T09:22:15.918Z"
   },
   {
    "duration": 1395,
    "start_time": "2024-07-15T09:31:20.687Z"
   },
   {
    "duration": 268,
    "start_time": "2024-07-15T09:31:22.084Z"
   },
   {
    "duration": 10,
    "start_time": "2024-07-15T09:31:22.353Z"
   },
   {
    "duration": 27,
    "start_time": "2024-07-15T09:31:22.366Z"
   },
   {
    "duration": 9,
    "start_time": "2024-07-15T09:31:22.395Z"
   },
   {
    "duration": 19,
    "start_time": "2024-07-15T09:31:22.406Z"
   },
   {
    "duration": 96,
    "start_time": "2024-07-15T09:31:22.427Z"
   },
   {
    "duration": 87,
    "start_time": "2024-07-15T09:31:22.524Z"
   },
   {
    "duration": 17,
    "start_time": "2024-07-15T09:31:22.613Z"
   },
   {
    "duration": 81,
    "start_time": "2024-07-15T09:31:22.633Z"
   },
   {
    "duration": 8,
    "start_time": "2024-07-15T09:31:22.716Z"
   },
   {
    "duration": 57,
    "start_time": "2024-07-15T09:31:22.725Z"
   },
   {
    "duration": 22,
    "start_time": "2024-07-15T09:31:22.783Z"
   },
   {
    "duration": 14,
    "start_time": "2024-07-15T09:31:22.806Z"
   },
   {
    "duration": 59,
    "start_time": "2024-07-15T09:31:22.821Z"
   },
   {
    "duration": 5,
    "start_time": "2024-07-15T09:31:22.881Z"
   },
   {
    "duration": 8,
    "start_time": "2024-07-15T09:31:22.887Z"
   },
   {
    "duration": 7,
    "start_time": "2024-07-15T09:31:22.896Z"
   },
   {
    "duration": 22,
    "start_time": "2024-07-15T09:31:22.904Z"
   },
   {
    "duration": 13,
    "start_time": "2024-07-15T09:31:22.927Z"
   },
   {
    "duration": 15,
    "start_time": "2024-07-15T09:31:22.941Z"
   },
   {
    "duration": 27,
    "start_time": "2024-07-15T09:31:22.957Z"
   },
   {
    "duration": 25,
    "start_time": "2024-07-15T09:31:22.985Z"
   },
   {
    "duration": 4,
    "start_time": "2024-07-15T09:31:23.012Z"
   },
   {
    "duration": 241,
    "start_time": "2024-07-15T09:31:23.018Z"
   },
   {
    "duration": 4,
    "start_time": "2024-07-15T09:31:23.260Z"
   },
   {
    "duration": 16,
    "start_time": "2024-07-15T09:31:23.266Z"
   },
   {
    "duration": 34,
    "start_time": "2024-07-15T09:31:23.286Z"
   },
   {
    "duration": 3,
    "start_time": "2024-07-15T09:31:23.321Z"
   },
   {
    "duration": 5,
    "start_time": "2024-07-15T09:31:23.326Z"
   },
   {
    "duration": 299,
    "start_time": "2024-07-15T09:31:23.332Z"
   },
   {
    "duration": 21,
    "start_time": "2024-07-15T09:31:23.632Z"
   },
   {
    "duration": 33,
    "start_time": "2024-07-15T09:31:23.655Z"
   },
   {
    "duration": 30,
    "start_time": "2024-07-15T09:31:23.689Z"
   },
   {
    "duration": 23,
    "start_time": "2024-07-15T09:31:23.720Z"
   },
   {
    "duration": 10,
    "start_time": "2024-07-15T09:31:23.744Z"
   },
   {
    "duration": 36,
    "start_time": "2024-07-15T09:31:23.755Z"
   },
   {
    "duration": 74,
    "start_time": "2024-07-15T09:31:23.792Z"
   },
   {
    "duration": 25,
    "start_time": "2024-07-15T09:31:23.867Z"
   },
   {
    "duration": 27,
    "start_time": "2024-07-15T09:31:23.893Z"
   },
   {
    "duration": 58,
    "start_time": "2024-07-15T09:31:23.921Z"
   },
   {
    "duration": 6,
    "start_time": "2024-07-15T09:31:23.980Z"
   },
   {
    "duration": 11,
    "start_time": "2024-07-15T09:31:23.988Z"
   },
   {
    "duration": 10,
    "start_time": "2024-07-15T09:31:24.001Z"
   },
   {
    "duration": 8,
    "start_time": "2024-07-15T09:31:24.012Z"
   },
   {
    "duration": 9,
    "start_time": "2024-07-15T09:31:24.021Z"
   },
   {
    "duration": 57,
    "start_time": "2024-07-15T09:31:24.031Z"
   },
   {
    "duration": 3,
    "start_time": "2024-07-15T09:31:24.090Z"
   },
   {
    "duration": 13,
    "start_time": "2024-07-15T09:31:24.095Z"
   },
   {
    "duration": 11,
    "start_time": "2024-07-15T09:31:24.109Z"
   },
   {
    "duration": 13,
    "start_time": "2024-07-15T09:31:24.121Z"
   },
   {
    "duration": 6,
    "start_time": "2024-07-15T09:31:24.135Z"
   },
   {
    "duration": 9,
    "start_time": "2024-07-15T09:31:24.142Z"
   },
   {
    "duration": 37,
    "start_time": "2024-07-15T09:31:24.181Z"
   },
   {
    "duration": 28,
    "start_time": "2024-07-15T09:31:24.220Z"
   },
   {
    "duration": 53,
    "start_time": "2024-07-15T09:31:24.250Z"
   },
   {
    "duration": 30,
    "start_time": "2024-07-15T09:31:24.305Z"
   },
   {
    "duration": 49,
    "start_time": "2024-07-15T09:31:24.336Z"
   },
   {
    "duration": 32,
    "start_time": "2024-07-15T09:31:24.387Z"
   },
   {
    "duration": 29,
    "start_time": "2024-07-15T09:31:24.421Z"
   },
   {
    "duration": 49,
    "start_time": "2024-07-15T09:31:24.451Z"
   },
   {
    "duration": 29,
    "start_time": "2024-07-15T09:31:24.502Z"
   },
   {
    "duration": 29,
    "start_time": "2024-07-15T09:31:24.532Z"
   },
   {
    "duration": 45,
    "start_time": "2024-07-15T09:31:24.563Z"
   },
   {
    "duration": 29,
    "start_time": "2024-07-15T09:31:24.609Z"
   },
   {
    "duration": 9,
    "start_time": "2024-07-15T09:31:24.639Z"
   },
   {
    "duration": 69,
    "start_time": "2024-07-15T09:31:24.649Z"
   },
   {
    "duration": 45,
    "start_time": "2024-07-15T09:31:24.719Z"
   },
   {
    "duration": 29,
    "start_time": "2024-07-15T09:31:24.765Z"
   },
   {
    "duration": 31,
    "start_time": "2024-07-15T09:31:24.796Z"
   },
   {
    "duration": 68,
    "start_time": "2024-07-15T09:31:24.828Z"
   },
   {
    "duration": 6,
    "start_time": "2024-07-15T09:31:24.897Z"
   },
   {
    "duration": 36,
    "start_time": "2024-07-15T09:31:24.904Z"
   },
   {
    "duration": 43,
    "start_time": "2024-07-15T09:31:24.941Z"
   },
   {
    "duration": 31,
    "start_time": "2024-07-15T09:31:24.986Z"
   },
   {
    "duration": 31,
    "start_time": "2024-07-15T09:31:25.018Z"
   },
   {
    "duration": 60,
    "start_time": "2024-07-15T09:31:25.050Z"
   },
   {
    "duration": 30,
    "start_time": "2024-07-15T09:31:25.111Z"
   },
   {
    "duration": 47,
    "start_time": "2024-07-15T09:31:25.142Z"
   },
   {
    "duration": 31,
    "start_time": "2024-07-15T09:31:25.190Z"
   },
   {
    "duration": 6,
    "start_time": "2024-07-15T09:31:25.222Z"
   },
   {
    "duration": 54,
    "start_time": "2024-07-15T09:31:25.232Z"
   },
   {
    "duration": 30,
    "start_time": "2024-07-15T09:31:25.288Z"
   },
   {
    "duration": 32,
    "start_time": "2024-07-15T09:31:25.320Z"
   },
   {
    "duration": 51,
    "start_time": "2024-07-15T09:31:25.353Z"
   }
  ],
  "kernelspec": {
   "display_name": "Python 3 (ipykernel)",
   "language": "python",
   "name": "python3"
  },
  "language_info": {
   "codemirror_mode": {
    "name": "ipython",
    "version": 3
   },
   "file_extension": ".py",
   "mimetype": "text/x-python",
   "name": "python",
   "nbconvert_exporter": "python",
   "pygments_lexer": "ipython3",
   "version": "3.9.5"
  },
  "toc": {
   "base_numbering": 1,
   "nav_menu": {},
   "number_sections": true,
   "sideBar": true,
   "skip_h1_title": true,
   "title_cell": "Table of Contents",
   "title_sidebar": "Contents",
   "toc_cell": false,
   "toc_position": {},
   "toc_section_display": true,
   "toc_window_display": false
  }
 },
 "nbformat": 4,
 "nbformat_minor": 5
}
